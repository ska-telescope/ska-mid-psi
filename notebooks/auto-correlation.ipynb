{
 "cells": [
  {
   "cell_type": "markdown",
   "metadata": {},
   "source": [
    "# Running Auto Correlation with Talon Deployer and BITE\n",
    "###### Last Updated: 19/03/24\n",
    "\n",
    "This demo will show the basic operation of auto correlation using the new Deployer and BITE TANGO devices currently deployed in this repository. With this notebook, all TANGO commands and attribute changes are made via a [TANGO DeviceProxy](https://pytango.readthedocs.io/en/stable/client_api/device_proxy.html) but the overall steps should be the same for using the JIVE interface or Taranta web interface."
   ]
  },
  {
   "cell_type": "markdown",
   "metadata": {},
   "source": [
    "## Pre-requisites"
   ]
  },
  {
   "cell_type": "markdown",
   "metadata": {},
   "source": [
    "\n",
    "First, this notebook assumes you have a running environment launched from a pipeline, in particular it assumes you are running off one launched from the [SKA-mid-psi](https://gitlab.com/ska-telescope/ska-mid-psi) pipeline. Secondly, for ease of dev work, it also assumes you are using a virtual env. This notebook was made with Python 3.10 in mind.\n",
    "\n",
    "Finally, make sure all requirements are installed via [poetry]()."
   ]
  },
  {
   "cell_type": "markdown",
   "metadata": {},
   "source": [
    "### Running on Dev servers"
   ]
  },
  {
   "cell_type": "markdown",
   "metadata": {},
   "source": [
    "Firstly, to make future commands a bit easier, we load the namespace name into a variable."
   ]
  },
  {
   "cell_type": "code",
   "execution_count": null,
   "metadata": {},
   "outputs": [],
   "source": [
    "NS = \"ska-mid-cbf\""
   ]
  },
  {
   "cell_type": "markdown",
   "metadata": {},
   "source": [
    "\n",
    "To run this locally, a few extra steps are required:\n",
    "* Uncomment the [pv.yaml file in Engineering Console](https://gitlab.com/ska-telescope/ska-mid-cbf-engineering-console/-/blob/main/charts/ska-mid-cbf-engineering-console-umbrella/templates/pv.yaml). This will establish the persistant volume, without having to go through MCS.\n",
    "* Run the required make commands in the CICD repo.\n",
    "    * `make minkube-clean DRIVER=docker`- Clean out the old minikube if previously used.\n",
    "    * `make all DRIVER=docker` - Set up the minkube using the docker driver.\n",
    "    * `eval $(minikube docker-env)` - Set the docker enivronment vairable.\n",
    "* Then run the make commands to set up in the EC repo.\n",
    "    * `make oci-build-all` - Build latest images/requriments in the repo.\n",
    "    * `make oci-image-build` - Check to make sure the latest image is built.\n",
    "    * `make k8s-reinstall-chart` - Deploy these images to the minikube."
   ]
  },
  {
   "cell_type": "markdown",
   "metadata": {},
   "source": [
    "If you check the minkube pods, you should see the TANGO database pods, the itango console and the old bite and deployer pods running. If they are still starting, give them a few moments."
   ]
  },
  {
   "cell_type": "code",
   "execution_count": null,
   "metadata": {},
   "outputs": [],
   "source": [
    "!kubectl -n {NS} get pods"
   ]
  },
  {
   "cell_type": "markdown",
   "metadata": {},
   "source": [
    "This should return something like: \n",
    "```\n",
    "NAME                                         READY   STATUS    RESTARTS   AGE\n",
    "databaseds-ds-tango-databaseds-test-0        1/1     Running   0          17m\n",
    "databaseds-tangodb-tango-databaseds-test-0   1/1     Running   0          17m\n",
    "ds-bite-bite-0                               1/1     Running   0          16m\n",
    "ds-deployer-deployer-0                       1/1     Running   0          16m\n",
    "ds-tangotest-test-0                          1/1     Running   0          16m\n",
    "ska-tango-base-itango-console                1/1     Running   0          17m\n",
    "```"
   ]
  },
  {
   "cell_type": "markdown",
   "metadata": {},
   "source": [
    "### Running on PSI"
   ]
  },
  {
   "cell_type": "code",
   "execution_count": 82,
   "metadata": {},
   "outputs": [
    {
     "name": "stdout",
     "output_type": "stream",
     "text": [
      "/bin/bash: {sys.executable}: command not found\n"
     ]
    }
   ],
   "source": [
    "!{sys.executable} -m pip list"
   ]
  },
  {
   "cell_type": "markdown",
   "metadata": {},
   "source": [
    "\n",
    "To Run on PSI, once running the launch step from the PSI pipeline, grab your booted namespace's name. You can run a check on the ns as well to make sure the pods are ready."
   ]
  },
  {
   "cell_type": "code",
   "execution_count": 27,
   "metadata": {},
   "outputs": [
    {
     "name": "stdout",
     "output_type": "stream",
     "text": [
      "NAME                                                  STATUS   AGE\n",
      "ci-ska-mid-cbf-sys-tests-1218202973-jkwso             Active   18h\n",
      "ci-ska-mid-cbf-sys-tests-1218202973-jkwso-sdp         Active   18h\n",
      "ci-ska-mid-cbf-sys-tests-1218364078-owendouglas       Active   18h\n",
      "ci-ska-mid-cbf-sys-tests-1218364078-owendouglas-sdp   Active   18h\n",
      "ci-ska-mid-cbf-sys-tests-1218390577-mparmis           Active   17h\n",
      "ci-ska-mid-cbf-sys-tests-1218841021-epieters272       Active   8h\n",
      "ci-ska-mid-cbf-sys-tests-1218841021-epieters272-sdp   Active   8h\n",
      "ci-ska-mid-cbf-sys-tests-1219039994-epieters272       Active   6h4m\n",
      "ci-ska-mid-cbf-sys-tests-1219039994-epieters272-sdp   Active   6h4m\n",
      "ci-ska-mid-psi-1218359385-alexschell                  Active   50m\n",
      "ci-ska-mid-psi-1218359385-alexschell-sdp              Active   50m\n",
      "ci-ska-mid-psi-1218375439-amjoshi                     Active   17h\n",
      "ci-ska-mid-psi-1218375439-amjoshi-sdp                 Active   17h\n",
      "ci-ska-mid-psi-1218437587-maecst                      Active   16h\n",
      "ci-ska-mid-psi-1218437587-maecst-sdp                  Active   16h\n",
      "default                                               Active   572d\n",
      "extdns                                                Active   505d\n",
      "gitlab                                                Active   550d\n",
      "ingress-nginx                                         Active   62d\n",
      "kube-node-lease                                       Active   473d\n",
      "kube-public                                           Active   572d\n",
      "kube-system                                           Active   572d\n",
      "metallb                                               Active   505d\n",
      "rook-ceph                                             Active   571d\n",
      "ska-eda-mid-db                                        Active   152d\n",
      "ska-tango-operator                                    Active   180d\n",
      "taranta                                               Active   155d\n"
     ]
    }
   ],
   "source": [
    "!kubectl get ns"
   ]
  },
  {
   "cell_type": "markdown",
   "metadata": {},
   "source": [
    "To make future work a bit easier we can load this into a NS var."
   ]
  },
  {
   "cell_type": "code",
   "execution_count": null,
   "metadata": {},
   "outputs": [],
   "source": [
    "# Change this var to be the non-spd namespace with your username in it\n",
    "NS = \"ci-ska-mid-psi-1218359385-alexschell\""
   ]
  },
  {
   "cell_type": "markdown",
   "metadata": {},
   "source": [
    "We can then check to ensure the pods have spun up successfully."
   ]
  },
  {
   "cell_type": "code",
   "execution_count": null,
   "metadata": {},
   "outputs": [],
   "source": [
    "!kubectl -n $NS get pods"
   ]
  },
  {
   "cell_type": "markdown",
   "metadata": {},
   "source": [
    "## Initial Setup/Using Deployer Device\n",
    "\n",
    "First we want to set up the target board that we will be using for the auto correlation. While this can be multiple boards, for now we will only need one. Punch out the board(s) you have access to and set the `TARGET_BOARD` to assign it to be used in future steps.\n",
    "\n",
    "The `TANGO_HOST` will be created based of the namespace you set earlier."
   ]
  },
  {
   "cell_type": "code",
   "execution_count": 32,
   "metadata": {},
   "outputs": [
    {
     "name": "stdout",
     "output_type": "stream",
     "text": [
      "Will be using HOST:  databaseds-tango-base.ci-ska-mid-psi-1218359385-alexschell.svc.cluster.local:10000\n"
     ]
    }
   ],
   "source": [
    "import os\n",
    "import logging\n",
    "logging.basicConfig(level=logging.INFO)\n",
    "logger = logging.getLogger(__name__)\n",
    "# Set to the boards you wish to configure.\n",
    "TARGET_BOARD = [3]\n",
    "\n",
    "\n",
    "TANGO_HOST = \"databaseds-tango-base.\"+NS+\".svc.cluster.local:10000\"\n",
    "print(\"Will be using HOST: \", TANGO_HOST)\n",
    "\n",
    "os.environ[\"TANGO_HOST\"] = TANGO_HOST"
   ]
  },
  {
   "cell_type": "markdown",
   "metadata": {},
   "source": [
    "For this demo, we will interact with the TANGO devices via a device proxy, which will allow us to pass commands into them as we would in the UI."
   ]
  },
  {
   "cell_type": "code",
   "execution_count": 48,
   "metadata": {},
   "outputs": [
    {
     "name": "stdout",
     "output_type": "stream",
     "text": [
      "DbDatum[\n",
      "        name = '*'\n",
      "value_string = ['dserver/CbfController/controller', 'dserver/CbfSubarray/cbfsubarray-01', 'dserver/CbfSubarray/cbfsubarray-02', 'dserver/CbfSubarray/cbfsubarray-03', 'dserver/DataBaseds/2', 'dserver/ECBite/bite', 'dserver/ECDeployer/deployer', 'dserver/FspMulti/fsp-01', 'dserver/FspMulti/fsp-02', 'dserver/FspMulti/fsp-03', 'dserver/FspMulti/fsp-04', 'dserver/MidCspCapabilityFsp/capabilityfsp', 'dserver/MidCspCapabilityVcc/capabilityvcc', 'dserver/MidCspController/controller', 'dserver/MidCspSubarray/subarray1', 'dserver/MidCspSubarray/subarray2', 'dserver/MidCspSubarray/subarray3', 'dserver/PowerSwitch/powerswitch-001', 'dserver/PowerSwitch/powerswitch-002', 'dserver/PowerSwitch/powerswitch-003', 'dserver/PowerSwitch/powerswitch-004', 'dserver/Slim/mesh', 'dserver/SlimLink/fs-links', 'dserver/SlimLink/vis-links', 'dserver/TalonBoard/talon-001', 'dserver/TalonBoard/talon-002', 'dserver/TalonBoard/talon-003', 'dserver/TalonBoard/talon-004', 'dserver/TalonBoard/talon-005', 'dserver/TalonBoard/talon-006', 'dserver/TalonBoard/talon-007', 'dserver/TalonBoard/talon-008', 'dserver/TalonDxLogConsumer/001', 'dserver/TalonLRU/talonlru-001', 'dserver/TalonLRU/talonlru-002', 'dserver/TalonLRU/talonlru-003', 'dserver/TalonLRU/talonlru-004', 'dserver/TangoTest/test', 'dserver/TmCspSubarrayLeafNodeTest/tm', 'dserver/TmCspSubarrayLeafNodeTest/tm2', 'dserver/VccMulti/vcc-001', 'dserver/VccMulti/vcc-002', 'dserver/VccMulti/vcc-003', 'dserver/VccMulti/vcc-004', 'dserver/VccMulti/vcc-005', 'dserver/VccMulti/vcc-006', 'dserver/VccMulti/vcc-007', 'dserver/VccMulti/vcc-008', 'mid-csp/capability-fsp/0', 'mid-csp/capability-vcc/0', 'mid-csp/control/0', 'mid-csp/subarray/01', 'mid-csp/subarray/02', 'mid-csp/subarray/03', 'mid_csp_cbf/ec/bite', 'mid_csp_cbf/ec/deployer', 'mid_csp_cbf/fsp/01', 'mid_csp_cbf/fsp/02', 'mid_csp_cbf/fsp/03', 'mid_csp_cbf/fsp/04', 'mid_csp_cbf/fspCorrSubarray/01_01', 'mid_csp_cbf/fspCorrSubarray/01_02', 'mid_csp_cbf/fspCorrSubarray/01_03', 'mid_csp_cbf/fspCorrSubarray/02_01', 'mid_csp_cbf/fspCorrSubarray/02_02', 'mid_csp_cbf/fspCorrSubarray/02_03', 'mid_csp_cbf/fspCorrSubarray/03_01', 'mid_csp_cbf/fspCorrSubarray/03_02', 'mid_csp_cbf/fspCorrSubarray/03_03', 'mid_csp_cbf/fspCorrSubarray/04_01', 'mid_csp_cbf/fspCorrSubarray/04_02', 'mid_csp_cbf/fspCorrSubarray/04_03', 'mid_csp_cbf/fspPssSubarray/01_01', 'mid_csp_cbf/fspPssSubarray/01_02', 'mid_csp_cbf/fspPssSubarray/01_03', 'mid_csp_cbf/fspPssSubarray/02_01', 'mid_csp_cbf/fspPssSubarray/02_02', 'mid_csp_cbf/fspPssSubarray/02_03', 'mid_csp_cbf/fspPssSubarray/03_01', 'mid_csp_cbf/fspPssSubarray/03_02', 'mid_csp_cbf/fspPssSubarray/03_03', 'mid_csp_cbf/fspPssSubarray/04_01', 'mid_csp_cbf/fspPssSubarray/04_02', 'mid_csp_cbf/fspPssSubarray/04_03', 'mid_csp_cbf/fspPstSubarray/01_01', 'mid_csp_cbf/fspPstSubarray/01_02', 'mid_csp_cbf/fspPstSubarray/01_03', 'mid_csp_cbf/fspPstSubarray/02_01', 'mid_csp_cbf/fspPstSubarray/02_02', 'mid_csp_cbf/fspPstSubarray/02_03', 'mid_csp_cbf/fspPstSubarray/03_01', 'mid_csp_cbf/fspPstSubarray/03_02', 'mid_csp_cbf/fspPstSubarray/03_03', 'mid_csp_cbf/fspPstSubarray/04_01', 'mid_csp_cbf/fspPstSubarray/04_02', 'mid_csp_cbf/fspPstSubarray/04_03', 'mid_csp_cbf/fs_links/000', 'mid_csp_cbf/fs_links/001', 'mid_csp_cbf/fs_links/002', 'mid_csp_cbf/fs_links/003', 'mid_csp_cbf/fs_links/004', 'mid_csp_cbf/fs_links/005', 'mid_csp_cbf/fs_links/006', 'mid_csp_cbf/fs_links/007', 'mid_csp_cbf/fs_links/008', 'mid_csp_cbf/fs_links/009', 'mid_csp_cbf/fs_links/010', 'mid_csp_cbf/fs_links/011', 'mid_csp_cbf/fs_links/012', 'mid_csp_cbf/fs_links/013', 'mid_csp_cbf/fs_links/014', 'mid_csp_cbf/fs_links/015', 'mid_csp_cbf/power_switch/001', 'mid_csp_cbf/power_switch/002', 'mid_csp_cbf/power_switch/003', 'mid_csp_cbf/power_switch/004', 'mid_csp_cbf/slim/slim-fs', 'mid_csp_cbf/slim/slim-vis', 'mid_csp_cbf/sub_elt/controller', 'mid_csp_cbf/sub_elt/subarray_01', 'mid_csp_cbf/sub_elt/subarray_02', 'mid_csp_cbf/sub_elt/subarray_03', 'mid_csp_cbf/talondx_log_consumer/001', 'mid_csp_cbf/talon_board/001', 'mid_csp_cbf/talon_board/002', 'mid_csp_cbf/talon_board/003', 'mid_csp_cbf/talon_board/004', 'mid_csp_cbf/talon_board/005', 'mid_csp_cbf/talon_board/006', 'mid_csp_cbf/talon_board/007', 'mid_csp_cbf/talon_board/008', 'mid_csp_cbf/talon_lru/001', 'mid_csp_cbf/talon_lru/002', 'mid_csp_cbf/talon_lru/003', 'mid_csp_cbf/talon_lru/004', 'mid_csp_cbf/vcc/001', 'mid_csp_cbf/vcc/002', 'mid_csp_cbf/vcc/003', 'mid_csp_cbf/vcc/004', 'mid_csp_cbf/vcc/005', 'mid_csp_cbf/vcc/006', 'mid_csp_cbf/vcc/007', 'mid_csp_cbf/vcc/008', 'mid_csp_cbf/vcc_sw1/001', 'mid_csp_cbf/vcc_sw1/002', 'mid_csp_cbf/vcc_sw1/003', 'mid_csp_cbf/vcc_sw1/004', 'mid_csp_cbf/vcc_sw1/005', 'mid_csp_cbf/vcc_sw1/006', 'mid_csp_cbf/vcc_sw1/007', 'mid_csp_cbf/vcc_sw1/008', 'mid_csp_cbf/vcc_sw2/001', 'mid_csp_cbf/vcc_sw2/002', 'mid_csp_cbf/vcc_sw2/003', 'mid_csp_cbf/vcc_sw2/004', 'mid_csp_cbf/vcc_sw2/005', 'mid_csp_cbf/vcc_sw2/006', 'mid_csp_cbf/vcc_sw2/007', 'mid_csp_cbf/vcc_sw2/008', 'mid_csp_cbf/vis_links/000', 'mid_csp_cbf/vis_links/001', 'mid_csp_cbf/vis_links/002', 'mid_csp_cbf/vis_links/003', 'ska_mid/tm_leaf_node/csp_subarray_01', 'ska_mid/tm_leaf_node/csp_subarray_02', 'sys/database/2', 'sys/tg_test/1']]\n",
      "\n",
      "State of deployer device:\n",
      "ON\n"
     ]
    }
   ],
   "source": [
    "from PyTango import DeviceProxy, Database\n",
    "\n",
    "# Setup the device proxies targeting bite and deployer\n",
    "db = Database()\n",
    "deployer_tango = DeviceProxy(\"mid_csp_cbf/ec/deployer\")\n",
    "\n",
    "#Check the devices initially deployed to the database\n",
    "devices = db.get_device_exported(\"*\")\n",
    "print(devices)\n",
    "# Make sure the deployer device is set to ON\n",
    "deployer_tango.On()\n",
    "print(\"State of deployer device:\")\n",
    "print(deployer_tango.state())"
   ]
  },
  {
   "cell_type": "markdown",
   "metadata": {},
   "source": [
    "First, we set the target talon boards we want to set up our configuration for. In Jive/Taranta, this would be configured by manually writing the attribute via the UI. Multiple boards can be targeted."
   ]
  },
  {
   "cell_type": "code",
   "execution_count": null,
   "metadata": {},
   "outputs": [],
   "source": [
    "deployer_tango.write_attribute(\"targetTalons\",TARGET_BOARD)"
   ]
  },
  {
   "cell_type": "markdown",
   "metadata": {},
   "source": [
    "With this set, we can then run the configuration command by calling the generate_config_jsons command."
   ]
  },
  {
   "cell_type": "code",
   "execution_count": null,
   "metadata": {},
   "outputs": [],
   "source": [
    "deployer_tango.command_inout(\"generate_config_jsons\")"
   ]
  },
  {
   "cell_type": "markdown",
   "metadata": {},
   "source": [
    "We then get the device artifacts from the [artifact repository](https://artefact.skao.int/#browse/browse:helm-internal) by running the command via TANGO. This step may take some time as it downloads multiple devices."
   ]
  },
  {
   "cell_type": "markdown",
   "metadata": {},
   "source": [
    "**! CURRENTLY THIS DOES NOT WORK ON MINIKUBE, MUST USE PSI !**"
   ]
  },
  {
   "cell_type": "code",
   "execution_count": 57,
   "metadata": {},
   "outputs": [
    {
     "name": "stdout",
     "output_type": "stream",
     "text": [
      "DevFailed[\n",
      "DevError[\n",
      "    desc = TRANSIENT CORBA system exception: TRANSIENT_CallTimedout\n",
      "  origin = Connection::command_inout()\n",
      "  reason = API_CorbaException\n",
      "severity = ERR]\n",
      "\n",
      "DevError[\n",
      "    desc = Timeout (100000 mS) exceeded on device mid_csp_cbf/ec/deployer, command download_artifacts\n",
      "  origin = Connection::command_inout()\n",
      "  reason = API_DeviceTimedOut\n",
      "severity = ERR]\n",
      "]\n",
      "Timed out, this is likely due to the download taking some time. Check the logs with the code space below after some time to see if it passes.\n"
     ]
    }
   ],
   "source": [
    "deployer_tango.set_timeout_millis(100000)\n",
    "try:\n",
    "    deployer_tango.command_inout(\"download_artifacts\")\n",
    "except Exception as e:\n",
    "    print(e)\n",
    "    print(\"Timed out, this is likely due to the download taking some time. Check the logs with the code space below after some time to see if it passes.\")\n",
    "deployer_tango.set_timeout_millis(4500)"
   ]
  },
  {
   "cell_type": "markdown",
   "metadata": {},
   "source": [
    "To check that the artifacts downloaded successfully, we want to check that the following returns something like `INFO|Dummy-2|download_fpga_bitstreams|midcbf_deployer.py#418||Finished downloading`. "
   ]
  },
  {
   "cell_type": "code",
   "execution_count": 58,
   "metadata": {},
   "outputs": [
    {
     "name": "stdout",
     "output_type": "stream",
     "text": [
      "1|2024-03-19T16:37:14.349Z|INFO|Dummy-2|download_fpga_bitstreams|midcbf_deployer.py#418||Finished downloading\n",
      "1|2024-03-19T18:20:41.755Z|INFO|Dummy-3|download_fpga_bitstreams|midcbf_deployer.py#418||Finished downloading\n",
      "1|2024-03-19T18:27:54.545Z|INFO|Dummy-3|download_fpga_bitstreams|midcbf_deployer.py#418||Finished downloading\n",
      "1|2024-03-19T18:35:41.257Z|INFO|Dummy-3|download_fpga_bitstreams|midcbf_deployer.py#418||Finished downloading\n",
      "1|2024-03-19T18:37:48.064Z|INFO|Dummy-1|download_fpga_bitstreams|midcbf_deployer.py#418||Finished downloading\n",
      "1|2024-03-19T18:43:32.946Z|INFO|Dummy-2|download_fpga_bitstreams|midcbf_deployer.py#418||Finished downloading\n",
      "1|2024-03-19T18:46:20.958Z|INFO|Dummy-2|download_fpga_bitstreams|midcbf_deployer.py#418||Finished downloading\n",
      "1|2024-03-19T18:48:35.953Z|INFO|Dummy-1|download_fpga_bitstreams|midcbf_deployer.py#418||Finished downloading\n",
      "1|2024-03-19T18:50:57.757Z|INFO|Dummy-3|download_fpga_bitstreams|midcbf_deployer.py#418||Finished downloading\n"
     ]
    }
   ],
   "source": [
    "!kubectl logs -n $NS ds-deployer-deployer-0 | grep 'Finished downloading'"
   ]
  },
  {
   "cell_type": "markdown",
   "metadata": {},
   "source": [
    "Finally, we can configure the TANGO database with all the tango devices we just downloaded using the ConfigDB command."
   ]
  },
  {
   "cell_type": "code",
   "execution_count": 61,
   "metadata": {},
   "outputs": [],
   "source": [
    "deployer_tango.command_inout(\"configure_db\")"
   ]
  },
  {
   "cell_type": "markdown",
   "metadata": {},
   "source": [
    "The TANGO database should now be configured with all the devices needed for the next step, running the BITE device."
   ]
  },
  {
   "cell_type": "code",
   "execution_count": 62,
   "metadata": {},
   "outputs": [
    {
     "name": "stdout",
     "output_type": "stream",
     "text": [
      "dserver/CbfController/controller\n",
      "dserver/CbfSubarray/cbfsubarray-01\n",
      "dserver/CbfSubarray/cbfsubarray-02\n",
      "dserver/CbfSubarray/cbfsubarray-03\n",
      "dserver/DataBaseds/2\n",
      "dserver/ECBite/bite\n",
      "dserver/ECDeployer/deployer\n",
      "dserver/FspMulti/fsp-01\n",
      "dserver/FspMulti/fsp-02\n",
      "dserver/FspMulti/fsp-03\n",
      "dserver/FspMulti/fsp-04\n",
      "dserver/MidCspCapabilityFsp/capabilityfsp\n",
      "dserver/MidCspCapabilityVcc/capabilityvcc\n",
      "dserver/MidCspController/controller\n",
      "dserver/MidCspSubarray/subarray1\n",
      "dserver/MidCspSubarray/subarray2\n",
      "dserver/MidCspSubarray/subarray3\n",
      "dserver/PowerSwitch/powerswitch-001\n",
      "dserver/PowerSwitch/powerswitch-002\n",
      "dserver/PowerSwitch/powerswitch-003\n",
      "dserver/PowerSwitch/powerswitch-004\n",
      "dserver/Slim/mesh\n",
      "dserver/SlimLink/fs-links\n",
      "dserver/SlimLink/vis-links\n",
      "dserver/TalonBoard/talon-001\n",
      "dserver/TalonBoard/talon-002\n",
      "dserver/TalonBoard/talon-003\n",
      "dserver/TalonBoard/talon-004\n",
      "dserver/TalonBoard/talon-005\n",
      "dserver/TalonBoard/talon-006\n",
      "dserver/TalonBoard/talon-007\n",
      "dserver/TalonBoard/talon-008\n",
      "dserver/TalonDxLogConsumer/001\n",
      "dserver/TalonLRU/talonlru-001\n",
      "dserver/TalonLRU/talonlru-002\n",
      "dserver/TalonLRU/talonlru-003\n",
      "dserver/TalonLRU/talonlru-004\n",
      "dserver/TangoTest/test\n",
      "dserver/TmCspSubarrayLeafNodeTest/tm\n",
      "dserver/TmCspSubarrayLeafNodeTest/tm2\n",
      "dserver/VccMulti/vcc-001\n",
      "dserver/VccMulti/vcc-002\n",
      "dserver/VccMulti/vcc-003\n",
      "dserver/VccMulti/vcc-004\n",
      "dserver/VccMulti/vcc-005\n",
      "dserver/VccMulti/vcc-006\n",
      "dserver/VccMulti/vcc-007\n",
      "dserver/VccMulti/vcc-008\n",
      "mid-csp/capability-fsp/0\n",
      "mid-csp/capability-vcc/0\n",
      "mid-csp/control/0\n",
      "mid-csp/subarray/01\n",
      "mid-csp/subarray/02\n",
      "mid-csp/subarray/03\n",
      "mid_csp_cbf/ec/bite\n",
      "mid_csp_cbf/ec/deployer\n",
      "mid_csp_cbf/fsp/01\n",
      "mid_csp_cbf/fsp/02\n",
      "mid_csp_cbf/fsp/03\n",
      "mid_csp_cbf/fsp/04\n",
      "mid_csp_cbf/fspCorrSubarray/01_01\n",
      "mid_csp_cbf/fspCorrSubarray/01_02\n",
      "mid_csp_cbf/fspCorrSubarray/01_03\n",
      "mid_csp_cbf/fspCorrSubarray/02_01\n",
      "mid_csp_cbf/fspCorrSubarray/02_02\n",
      "mid_csp_cbf/fspCorrSubarray/02_03\n",
      "mid_csp_cbf/fspCorrSubarray/03_01\n",
      "mid_csp_cbf/fspCorrSubarray/03_02\n",
      "mid_csp_cbf/fspCorrSubarray/03_03\n",
      "mid_csp_cbf/fspCorrSubarray/04_01\n",
      "mid_csp_cbf/fspCorrSubarray/04_02\n",
      "mid_csp_cbf/fspCorrSubarray/04_03\n",
      "mid_csp_cbf/fspPssSubarray/01_01\n",
      "mid_csp_cbf/fspPssSubarray/01_02\n",
      "mid_csp_cbf/fspPssSubarray/01_03\n",
      "mid_csp_cbf/fspPssSubarray/02_01\n",
      "mid_csp_cbf/fspPssSubarray/02_02\n",
      "mid_csp_cbf/fspPssSubarray/02_03\n",
      "mid_csp_cbf/fspPssSubarray/03_01\n",
      "mid_csp_cbf/fspPssSubarray/03_02\n",
      "mid_csp_cbf/fspPssSubarray/03_03\n",
      "mid_csp_cbf/fspPssSubarray/04_01\n",
      "mid_csp_cbf/fspPssSubarray/04_02\n",
      "mid_csp_cbf/fspPssSubarray/04_03\n",
      "mid_csp_cbf/fspPstSubarray/01_01\n",
      "mid_csp_cbf/fspPstSubarray/01_02\n",
      "mid_csp_cbf/fspPstSubarray/01_03\n",
      "mid_csp_cbf/fspPstSubarray/02_01\n",
      "mid_csp_cbf/fspPstSubarray/02_02\n",
      "mid_csp_cbf/fspPstSubarray/02_03\n",
      "mid_csp_cbf/fspPstSubarray/03_01\n",
      "mid_csp_cbf/fspPstSubarray/03_02\n",
      "mid_csp_cbf/fspPstSubarray/03_03\n",
      "mid_csp_cbf/fspPstSubarray/04_01\n",
      "mid_csp_cbf/fspPstSubarray/04_02\n",
      "mid_csp_cbf/fspPstSubarray/04_03\n",
      "mid_csp_cbf/fs_links/000\n",
      "mid_csp_cbf/fs_links/001\n",
      "mid_csp_cbf/fs_links/002\n",
      "mid_csp_cbf/fs_links/003\n",
      "mid_csp_cbf/fs_links/004\n",
      "mid_csp_cbf/fs_links/005\n",
      "mid_csp_cbf/fs_links/006\n",
      "mid_csp_cbf/fs_links/007\n",
      "mid_csp_cbf/fs_links/008\n",
      "mid_csp_cbf/fs_links/009\n",
      "mid_csp_cbf/fs_links/010\n",
      "mid_csp_cbf/fs_links/011\n",
      "mid_csp_cbf/fs_links/012\n",
      "mid_csp_cbf/fs_links/013\n",
      "mid_csp_cbf/fs_links/014\n",
      "mid_csp_cbf/fs_links/015\n",
      "mid_csp_cbf/power_switch/001\n",
      "mid_csp_cbf/power_switch/002\n",
      "mid_csp_cbf/power_switch/003\n",
      "mid_csp_cbf/power_switch/004\n",
      "mid_csp_cbf/slim/slim-fs\n",
      "mid_csp_cbf/slim/slim-vis\n",
      "mid_csp_cbf/sub_elt/controller\n",
      "mid_csp_cbf/sub_elt/subarray_01\n",
      "mid_csp_cbf/sub_elt/subarray_02\n",
      "mid_csp_cbf/sub_elt/subarray_03\n",
      "mid_csp_cbf/talondx_log_consumer/001\n",
      "mid_csp_cbf/talon_board/001\n",
      "mid_csp_cbf/talon_board/002\n",
      "mid_csp_cbf/talon_board/003\n",
      "mid_csp_cbf/talon_board/004\n",
      "mid_csp_cbf/talon_board/005\n",
      "mid_csp_cbf/talon_board/006\n",
      "mid_csp_cbf/talon_board/007\n",
      "mid_csp_cbf/talon_board/008\n",
      "mid_csp_cbf/talon_lru/001\n",
      "mid_csp_cbf/talon_lru/002\n",
      "mid_csp_cbf/talon_lru/003\n",
      "mid_csp_cbf/talon_lru/004\n",
      "mid_csp_cbf/vcc/001\n",
      "mid_csp_cbf/vcc/002\n",
      "mid_csp_cbf/vcc/003\n",
      "mid_csp_cbf/vcc/004\n",
      "mid_csp_cbf/vcc/005\n",
      "mid_csp_cbf/vcc/006\n",
      "mid_csp_cbf/vcc/007\n",
      "mid_csp_cbf/vcc/008\n",
      "mid_csp_cbf/vcc_sw1/001\n",
      "mid_csp_cbf/vcc_sw1/002\n",
      "mid_csp_cbf/vcc_sw1/003\n",
      "mid_csp_cbf/vcc_sw1/004\n",
      "mid_csp_cbf/vcc_sw1/005\n",
      "mid_csp_cbf/vcc_sw1/006\n",
      "mid_csp_cbf/vcc_sw1/007\n",
      "mid_csp_cbf/vcc_sw1/008\n",
      "mid_csp_cbf/vcc_sw2/001\n",
      "mid_csp_cbf/vcc_sw2/002\n",
      "mid_csp_cbf/vcc_sw2/003\n",
      "mid_csp_cbf/vcc_sw2/004\n",
      "mid_csp_cbf/vcc_sw2/005\n",
      "mid_csp_cbf/vcc_sw2/006\n",
      "mid_csp_cbf/vcc_sw2/007\n",
      "mid_csp_cbf/vcc_sw2/008\n",
      "mid_csp_cbf/vis_links/000\n",
      "mid_csp_cbf/vis_links/001\n",
      "mid_csp_cbf/vis_links/002\n",
      "mid_csp_cbf/vis_links/003\n",
      "ska_mid/tm_leaf_node/csp_subarray_01\n",
      "ska_mid/tm_leaf_node/csp_subarray_02\n",
      "sys/database/2\n",
      "sys/tg_test/1\n"
     ]
    }
   ],
   "source": [
    "print(*db.get_device_exported(\"*\").value_string, sep=\"\\n\")"
   ]
  },
  {
   "cell_type": "markdown",
   "metadata": {},
   "source": [
    "## Setting Controller settings"
   ]
  },
  {
   "cell_type": "markdown",
   "metadata": {},
   "source": [
    "Now that we have the controller device deployed, we can use it to prep for further steps."
   ]
  },
  {
   "cell_type": "code",
   "execution_count": 75,
   "metadata": {},
   "outputs": [
    {
     "name": "stdout",
     "output_type": "stream",
     "text": [
      "The device is in OFF state.\n"
     ]
    }
   ],
   "source": [
    "CBF_tango = DeviceProxy(\"mid_csp_cbf/sub_elt/controller\")\n",
    "print(CBF_tango.status())"
   ]
  },
  {
   "cell_type": "markdown",
   "metadata": {},
   "source": [
    "We can then set adminMode to 0 (ONLINE), allowing us to run commands, and set simulationMode to 0 (FALSE)."
   ]
  },
  {
   "cell_type": "code",
   "execution_count": 83,
   "metadata": {},
   "outputs": [
    {
     "name": "stdout",
     "output_type": "stream",
     "text": [
      "Set values successfully\n"
     ]
    }
   ],
   "source": [
    "CBF_tango.write_attribute(\"adminMode\",0)\n",
    "CBF_tango.write_attribute(\"simulationMode\",0)\n",
    "if CBF_tango.read_attribute(\"adminMode\").value == 0 and CBF_tango.read_attribute(\"simulationmode\").value == 0:\n",
    "    print (\"Set values successfully!\")\n",
    "else:\n",
    "    print (\"Error, couldn't set values!\")"
   ]
  },
  {
   "cell_type": "markdown",
   "metadata": {},
   "source": [
    "Next, we load in a inital values parameters and pass it to the controller, to do this we read in JSON file and pass it as a DevString to the relevant device command:"
   ]
  },
  {
   "cell_type": "code",
   "execution_count": 95,
   "metadata": {},
   "outputs": [
    {
     "data": {
      "text/plain": [
       "[array([0], dtype=int32), ['CbfController InitSysParam command completed OK']]"
      ]
     },
     "execution_count": 95,
     "metadata": {},
     "output_type": "execute_result"
    }
   ],
   "source": [
    "# Change this value if you want to read files from somewhere else\n",
    "FILE_LOCATION = os.getcwd()+\"/json_files\"\n",
    "\n",
    "init_sys_param_file = os.path.join(FILE_LOCATION, \"initial_system_param.json\")\n",
    "\n",
    "with open(init_sys_param_file) as init_file:\n",
    "    data = init_file.read()\n",
    "\n",
    "# Use the InitSysParam command and feed in data\n",
    "CBF_tango.command_inout(\"InitSysParam\", data)"
   ]
  },
  {
   "cell_type": "markdown",
   "metadata": {},
   "source": [
    "## Running Commands Through the BITE Device"
   ]
  },
  {
   "cell_type": "markdown",
   "metadata": {},
   "source": [
    "Now that the BITE tango Device has been deployed via the deployer, we can use it to configure tests. First we check the device is running."
   ]
  },
  {
   "cell_type": "code",
   "execution_count": null,
   "metadata": {},
   "outputs": [],
   "source": [
    "bite_tango = DeviceProxy(\"mid_csp_cbf/ec/bite\")\n",
    "# Running this should return RUNNING\n",
    "print(bite_tango.State())"
   ]
  },
  {
   "cell_type": "markdown",
   "metadata": {},
   "source": [
    "Now that we have confirmed it is running, we load in what board we want to configure."
   ]
  },
  {
   "cell_type": "code",
   "execution_count": 34,
   "metadata": {},
   "outputs": [],
   "source": [
    "bite_tango.write_attribute(\"boards\",TARGET_BOARD)"
   ]
  },
  {
   "cell_type": "markdown",
   "metadata": {},
   "source": [
    "For now, we can use the defaults and simply call the write command for the test configs. This should return the configuration for each board passed in."
   ]
  },
  {
   "cell_type": "code",
   "execution_count": null,
   "metadata": {},
   "outputs": [],
   "source": [
    "print(bite_tango.command_inout(\"generate_bite_data\"))"
   ]
  },
  {
   "cell_type": "markdown",
   "metadata": {},
   "source": [
    "Next, we actully start the LSTV replay."
   ]
  }
 ],
 "metadata": {
  "kernelspec": {
   "display_name": "al_venv",
   "language": "python",
   "name": "python3"
  },
  "language_info": {
   "codemirror_mode": {
    "name": "ipython",
    "version": 3
   },
   "file_extension": ".py",
   "mimetype": "text/x-python",
   "name": "python",
   "nbconvert_exporter": "python",
   "pygments_lexer": "ipython3",
   "version": "3.9.18"
  }
 },
 "nbformat": 4,
 "nbformat_minor": 2
}
