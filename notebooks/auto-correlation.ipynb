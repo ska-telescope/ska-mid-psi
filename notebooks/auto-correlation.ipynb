{
 "cells": [
  {
   "cell_type": "markdown",
   "metadata": {},
   "source": [
    "# Running Auto Correlation with Talon Deployer and BITE\n",
    "###### Last Updated: 05/04/24\n",
    "\n",
    "This demo will show the basic operation of auto correlation using the new Deployer and BITE TANGO devices currently deployed in this repository. With this notebook, all TANGO commands and attribute changes are made via a [TANGO DeviceProxy](https://pytango.readthedocs.io/en/stable/client_api/device_proxy.html) but the overall steps should be the same for using the JIVE interface or Taranta web interface."
   ]
  },
  {
   "cell_type": "markdown",
   "metadata": {},
   "source": [
    "## Prerequisites"
   ]
  },
  {
   "cell_type": "markdown",
   "metadata": {},
   "source": [
    "\n",
    "First, this notebook assumes you have a running environment launched from a pipeline, in particular it assumes you are running off one launched from the [SKA-mid-psi](https://gitlab.com/ska-telescope/ska-mid-psi) pipeline. Secondly, for ease of dev work, it also assumes you are using a virtual env. This notebook was made with Python 3.10 in mind.\n",
    "\n",
    "Finally, make sure all requirements are installed via poetry."
   ]
  },
  {
   "cell_type": "markdown",
   "metadata": {},
   "source": [
    "### Running on PSI"
   ]
  },
  {
   "cell_type": "markdown",
   "metadata": {},
   "source": [
    "\n",
    "To Run on PSI, once running the launch step from the PSI pipeline, grab your booted namespace's name. You can run a check on the ns as well to make sure the pods are ready."
   ]
  },
  {
   "cell_type": "code",
   "execution_count": null,
   "metadata": {},
   "outputs": [],
   "source": [
    "!kubectl get ns | grep ska-mid-psi"
   ]
  },
  {
   "cell_type": "markdown",
   "metadata": {},
   "source": [
    "To make future work a bit easier we can load this into a NS var."
   ]
  },
  {
   "cell_type": "code",
   "execution_count": null,
   "metadata": {},
   "outputs": [],
   "source": [
    "# Change this var to be the non-spd namespace with your username in it\n",
    "NS = \"ci-ska-mid-psi-1244625234-alexschell\"\n",
    "\n",
    "url = \"https://142.73.34.170/\"+NS+\"/taranta/dashboard?id=65e7b6f7b72ec70018cdb16a&mode=run\"\n",
    "print(\"You can monitor board status using: https://142.73.34.170/{}/taranta/dashboard?id=65e7b6f7b72ec70018cdb16a&mode=run\".format(NS))"
   ]
  },
  {
   "cell_type": "markdown",
   "metadata": {},
   "source": [
    "At this point, all components should be in the `disabled` state."
   ]
  },
  {
   "cell_type": "markdown",
   "metadata": {},
   "source": [
    "We can then check to ensure the pods have spun up successfully."
   ]
  },
  {
   "cell_type": "code",
   "execution_count": null,
   "metadata": {},
   "outputs": [],
   "source": [
    "!kubectl -n $NS get pods"
   ]
  },
  {
   "cell_type": "markdown",
   "metadata": {},
   "source": [
    "## Initial Setup"
   ]
  },
  {
   "cell_type": "markdown",
   "metadata": {},
   "source": [
    "\n",
    "First we want to set up the target board that we will be using for the auto correlation. While this can be multiple boards, for now we will only need one. Punch out the board(s) you have access to and set the `TARGET_BOARD` to assign it to be used in future steps.\n",
    "\n",
    "The `TANGO_HOST` will be created based of the namespace you set earlier."
   ]
  },
  {
   "cell_type": "code",
   "execution_count": null,
   "metadata": {},
   "outputs": [],
   "source": [
    "import os\n",
    "# Set to the boards you wish to configure.\n",
    "TARGET_BOARD = [3]\n",
    "\n",
    "TANGO_HOST = \"databaseds-tango-base.\"+NS+\".svc.cluster.local:10000\"\n",
    "print(\"Will be using HOST: \", TANGO_HOST)\n",
    "\n",
    "os.environ[\"TANGO_HOST\"] = TANGO_HOST"
   ]
  },
  {
   "cell_type": "markdown",
   "metadata": {},
   "source": [
    "We then load in the locations of local files for configuration. If you wish to use custom files you can change the folders pointed to, otherwise this code block can be run without edits."
   ]
  },
  {
   "cell_type": "code",
   "execution_count": null,
   "metadata": {},
   "outputs": [],
   "source": [
    "# Get files from configs folder in repo\n",
    "CURRDIR = os.path.dirname(os.getcwd())\n",
    "CORRELATOR_FILE_LOCATION = os.path.abspath(os.path.join(CURRDIR,\"configs/auto-correlation\"))\n",
    "COMMON_FILE_LOCATION = os.path.abspath(os.path.join(CURRDIR,\"configs/common\"))"
   ]
  },
  {
   "cell_type": "markdown",
   "metadata": {},
   "source": [
    "Next, we pass in the SLIM mesh config files by copying them to the namespace, these files should be in the json_files storage folder. Custom files here are not required, but if needed, the following two code blocks can be used."
   ]
  },
  {
   "cell_type": "code",
   "execution_count": null,
   "metadata": {},
   "outputs": [],
   "source": [
    "# Change this value if you want to specify a certain slim directory for files\n",
    "slim_fs_config = \"\"\n",
    "slim_vis_config = \"\"\n",
    "if slim_fs_config != \"\" and slim_vis_config != \"\" :\n",
    "    fs_config_path = os.path.join(CORRELATOR_FILE_LOCATION, slim_fs_config)\n",
    "    vis_config_path = os.path.join(CORRELATOR_FILE_LOCATION, slim_vis_config)    \n",
    "else:\n",
    "    print(\"SLIM will use defaults for this test.\")"
   ]
  },
  {
   "cell_type": "code",
   "execution_count": null,
   "metadata": {},
   "outputs": [],
   "source": [
    "!\"kubectl cp {fs_config_path} {NS}/ds-cbfcontroller-controller-0:/app/mnt/slim/fs_slim_config.yaml\"\n",
    "!\"kubectl cp {vis_config_path} {NS}/ds-cbfcontroller-controller-0:/app/mnt/slim/vis_slim_config.yaml\""
   ]
  },
  {
   "cell_type": "markdown",
   "metadata": {},
   "source": [
    "For this demo, we will interact with the TANGO devices via a device proxy, which will allow us to pass commands into them as we would in the UI."
   ]
  },
  {
   "cell_type": "code",
   "execution_count": null,
   "metadata": {},
   "outputs": [],
   "source": [
    "from PyTango import DeviceProxy, Database\n",
    "\n",
    "# Setup the device proxies targeting bite and deployer\n",
    "db = Database()\n",
    "deployer_tango = DeviceProxy(\"mid_csp_cbf/ec/deployer\")\n",
    "\n",
    "#Check the devices initially deployed to the database\n",
    "devices = db.get_device_exported(\"*\")\n",
    "print(devices)\n",
    "# Make sure the deployer device is set to ON\n",
    "deployer_tango.On()\n",
    "print(deployer_tango.state())"
   ]
  },
  {
   "cell_type": "markdown",
   "metadata": {},
   "source": [
    "Next we load in the hardware configuration depending on the talon boards selected. If a higher number board is chosen, we need to use the swapped config file."
   ]
  },
  {
   "cell_type": "code",
   "execution_count": null,
   "metadata": {},
   "outputs": [],
   "source": [
    "if any(i > 4 for i in TARGET_BOARD):\n",
    "    print(\"Using swap for higher number talons\")\n",
    "    config = \"hw_config/hw_config_swap_psi.yaml\"\n",
    "    print(\"Modifying target to use lower nums to match swap file\")\n",
    "    TARGET_BOARD = list(map(lambda x:x-4,TARGET_BOARD))\n",
    "else:\n",
    "    print(\"Using standard HW config\")\n",
    "    config = \"hw_config/hw_config_psi.yaml\"\n",
    "\n",
    "HW_CONFIG_FILE = os.path.join(COMMON_FILE_LOCATION, config)"
   ]
  },
  {
   "cell_type": "code",
   "execution_count": null,
   "metadata": {},
   "outputs": [],
   "source": [
    "!kubectl cp $HW_CONFIG_FILE $NS/ds-cbfcontroller-controller-0:/app/mnt/hw_config/hw_config.yaml"
   ]
  },
  {
   "cell_type": "markdown",
   "metadata": {},
   "source": [
    "## Deploying Using the Command Line (Old Method)"
   ]
  },
  {
   "cell_type": "markdown",
   "metadata": {},
   "source": [
    "This is the old method of downloading artifacts and deploying them to the DS database, use it in case the new Deployer device doesn't work."
   ]
  },
  {
   "cell_type": "code",
   "execution_count": null,
   "metadata": {},
   "outputs": [],
   "source": [
    "deployer_board_target = TARGET_BOARD[0]\n",
    "print(\"Talon board -> {}\".format(deployer_board_target))\n",
    "!kubectl exec -ti -n $NS ec-deployer -- python3 midcbf_deployer.py --generate-talondx-config --boards=$deployer_board_target\n",
    "!kubectl exec -ti -n $NS ec-deployer -- python3 midcbf_deployer.py --download-artifacts\n",
    "!kubectl exec -ti -n $NS ec-deployer -- python3 midcbf_deployer.py --config-db"
   ]
  },
  {
   "cell_type": "markdown",
   "metadata": {},
   "source": [
    "Ensure that the download steps runs, and reaches completion."
   ]
  },
  {
   "cell_type": "markdown",
   "metadata": {},
   "source": [
    "## Deploying Using the Deployer Device"
   ]
  },
  {
   "cell_type": "markdown",
   "metadata": {},
   "source": [
    "First, we set the target talon boards we want to set up our configuration for. In Jive/Taranta, this would be configured by manually writing the attribute via the UI. Multiple boards can be targeted."
   ]
  },
  {
   "cell_type": "code",
   "execution_count": null,
   "metadata": {},
   "outputs": [],
   "source": [
    "deployer_tango.targetTalons = TARGET_BOARD\n",
    "print(deployer_tango.targetTalons)"
   ]
  },
  {
   "cell_type": "markdown",
   "metadata": {},
   "source": [
    "With this set, we can then run the configuration command by calling the generate_config_jsons command."
   ]
  },
  {
   "cell_type": "code",
   "execution_count": null,
   "metadata": {},
   "outputs": [],
   "source": [
    "deployer_tango.generate_config_jsons()"
   ]
  },
  {
   "cell_type": "markdown",
   "metadata": {},
   "source": [
    "We then get the device artifacts from the [artifact repository](https://artefact.skao.int/#browse/browse:helm-internal) by running the command via TANGO. This step may take some time as it downloads multiple devices."
   ]
  },
  {
   "cell_type": "code",
   "execution_count": null,
   "metadata": {},
   "outputs": [],
   "source": [
    "deployer_tango.set_timeout_millis(200000)\n",
    "try:\n",
    "    deployer_tango.download_artifacts()\n",
    "except Exception as e:\n",
    "    print(e)\n",
    "    print(\"Timed out, this is likely due to the download taking some time. Check the logs with the code space below after some time to see if it passes.\")\n",
    "deployer_tango.set_timeout_millis(4500)"
   ]
  },
  {
   "cell_type": "markdown",
   "metadata": {},
   "source": [
    "To check that the artifacts downloaded successfully, we want to check that the following returns something like `INFO|Dummy-2|download_fpga_bitstreams|midcbf_deployer.py#418||Finished downloading`. "
   ]
  },
  {
   "cell_type": "code",
   "execution_count": null,
   "metadata": {},
   "outputs": [],
   "source": [
    "!kubectl logs -n $NS ds-deployer-deployer-0 | grep 'Finished downloading'"
   ]
  },
  {
   "cell_type": "markdown",
   "metadata": {},
   "source": [
    "Finally, we can configure the TANGO database with all the tango devices we just downloaded using the ConfigDB command."
   ]
  },
  {
   "cell_type": "code",
   "execution_count": null,
   "metadata": {},
   "outputs": [],
   "source": [
    "deployer_tango.configure_db()"
   ]
  },
  {
   "cell_type": "markdown",
   "metadata": {},
   "source": [
    "The TANGO database should now be configured with all the devices needed for the next step, running the BITE device."
   ]
  },
  {
   "cell_type": "code",
   "execution_count": null,
   "metadata": {},
   "outputs": [],
   "source": [
    "print(*db.get_device_exported(\"*\").value_string, sep=\"\\n\")"
   ]
  },
  {
   "cell_type": "markdown",
   "metadata": {},
   "source": [
    "## Uploading Controller Settings and Starting the Boards"
   ]
  },
  {
   "cell_type": "markdown",
   "metadata": {},
   "source": [
    "Now that we have the controller device deployed, we can use it to prep for further steps."
   ]
  },
  {
   "cell_type": "code",
   "execution_count": null,
   "metadata": {},
   "outputs": [],
   "source": [
    "control_tango = DeviceProxy(\"mid-csp/control/0\")\n",
    "print(control_tango.status())\n",
    "subarray_tango = DeviceProxy(\"mid-csp/subarray/01\")\n",
    "print(subarray_tango.status())\n",
    "CBF_tango = DeviceProxy(\"mid_csp_cbf/sub_elt/controller\")\n",
    "print(CBF_tango.status())"
   ]
  },
  {
   "cell_type": "markdown",
   "metadata": {},
   "source": [
    "**Before running this step and the following steps, ensure that you have checked out the boards you have selected to use!**\n",
    "***"
   ]
  },
  {
   "cell_type": "markdown",
   "metadata": {},
   "source": [
    "We can then set adminMode to 0 (ONLINE), allowing us to run commands, and set simulationMode to 0 (FALSE)."
   ]
  },
  {
   "cell_type": "code",
   "execution_count": null,
   "metadata": {},
   "outputs": [],
   "source": [
    "# Set relevant values on the mid-csp controller\n",
    "control_tango.adminMode = 0 \n",
    "control_tango.write_attribute(\"cbfSimulationMode\", 0)\n",
    "control_tango.cbfSimulationMode = 0\n",
    "\n",
    "if control_tango.read_attribute(\"adminMode\").value == 0 and control_tango.read_attribute(\"cbfSimulationMode\").value == 0:\n",
    "    print (\"Set values successfully!\")\n",
    "elif control_tango.read_attribute(\"adminMode\").value == 0 and control_tango.read_attribute(\"cbfSimulationMode\").value == 1:\n",
    "    print (\"Set to simulation mode on.\")\n",
    "else:\n",
    "    print (\"Error, couldn't set values!\")"
   ]
  },
  {
   "cell_type": "markdown",
   "metadata": {},
   "source": [
    "Checking the status dashboard, it should now display that all devices are both OFF and that the simulationstate is FALSE."
   ]
  },
  {
   "cell_type": "markdown",
   "metadata": {},
   "source": [
    " Next, we load in a inital values parameters and pass it to the controller, to do this we read in JSON file and pass it as a DevString to the relevant device command: "
   ]
  },
  {
   "cell_type": "code",
   "execution_count": null,
   "metadata": {},
   "outputs": [],
   "source": [
    "init_sys_param_file = os.path.join(COMMON_FILE_LOCATION, \"sys_params/initial_system_param.json\")\n",
    "\n",
    "with open(init_sys_param_file) as init_file:\n",
    "    data = init_file.read()\n",
    "# Use the InitSysParam command and feed in data\n",
    "    \n",
    "# add in check for off state before writing\n",
    "upload_result = CBF_tango.InitSysParam(data)\n",
    "print(upload_result[1])"
   ]
  },
  {
   "cell_type": "markdown",
   "metadata": {},
   "source": [
    "We can now load in the dish configurations to the mid csp Controller, reading the json and passing it as a devstring to the appropriate command:"
   ]
  },
  {
   "cell_type": "code",
   "execution_count": null,
   "metadata": {},
   "outputs": [],
   "source": [
    "# Read in Json file from set configs folder\n",
    "dish_config_file = os.path.join(COMMON_FILE_LOCATION,\"sys_params/load_dish_config.json\")\n",
    "with open(dish_config_file) as file: \n",
    "    dish_config = file.read()\n",
    "#control_tango.LoadDishCfg(dish_config)"
   ]
  },
  {
   "cell_type": "markdown",
   "metadata": {},
   "source": [
    "Now, we turn ON the Controller by passing it the device we want to turn on, and letting it run for 45ms to give the boards time to power on."
   ]
  },
  {
   "cell_type": "code",
   "execution_count": null,
   "metadata": {},
   "outputs": [],
   "source": [
    "from time import sleep\n",
    "print(control_tango.status())\n",
    "control_tango.set_timeout_millis(50000)\n",
    "target = [\"mid_csp_cbf/sub_elt/controller\"]\n",
    "control_tango.On(target)\n",
    "sleep(55)\n",
    "print(control_tango.status())"
   ]
  },
  {
   "cell_type": "markdown",
   "metadata": {},
   "source": [
    "After running this step, check with the Tarnata dashboard to check that the boards are started."
   ]
  },
  {
   "cell_type": "markdown",
   "metadata": {},
   "source": [
    "## Running Commands in BITE Through Comamnd Line Args (Old Method)"
   ]
  },
  {
   "cell_type": "markdown",
   "metadata": {},
   "source": [
    "This is the older method for running BITE commands:"
   ]
  },
  {
   "cell_type": "markdown",
   "metadata": {},
   "source": [
    "First we configure, specificing the MAC adress of the boards and the board # to configure."
   ]
  },
  {
   "cell_type": "code",
   "execution_count": null,
   "metadata": {},
   "outputs": [],
   "source": [
    "target_mac_address = \"08:c0:eb:9d:47:78\"\n",
    "standin_board = TARGET_BOARD[0]\n",
    "print(standin_board)\n",
    "!kubectl exec -ti -n $NS ec-bite -- python3 midcbf_bite.py --talon-bite-config --boards=$standin_board --bite_mac_address=$target_mac_address"
   ]
  },
  {
   "cell_type": "markdown",
   "metadata": {},
   "source": [
    "Then we start LSTV replay, check the logs and get the epoch value to use later (`INFO: start_utc_time_offset = start_utc_time.unix_tai - ska_epoch_tai = <EPOCH VALUE TO COPY>`)"
   ]
  },
  {
   "cell_type": "code",
   "execution_count": null,
   "metadata": {},
   "outputs": [],
   "source": [
    "!kubectl exec -ti -n $NS ec-bite -- python3 midcbf_bite.py --talon-bite-lstv-replay --boards=$standin_board"
   ]
  },
  {
   "cell_type": "markdown",
   "metadata": {},
   "source": [
    "## Running Commands Through the BITE Device"
   ]
  },
  {
   "cell_type": "markdown",
   "metadata": {},
   "source": [
    "Now that the BITE tango Device has been deployed via the deployer, we can use it to configure tests. First we check the device is running."
   ]
  },
  {
   "cell_type": "code",
   "execution_count": null,
   "metadata": {},
   "outputs": [],
   "source": [
    "target_mac_address = \"08:c0:eb:9d:47:78\"\n",
    "bite_tango = DeviceProxy(\"mid_csp_cbf/ec/bite\")\n",
    "# Running this should return RUNNING\n",
    "print(bite_tango.State())"
   ]
  },
  {
   "cell_type": "markdown",
   "metadata": {},
   "source": [
    "Now that we have confirmed it is running, we load in what board we want to configure."
   ]
  },
  {
   "cell_type": "code",
   "execution_count": null,
   "metadata": {},
   "outputs": [],
   "source": [
    "bite_tango.boards = TARGET_BOARD\n",
    "bite_tango.bite_mac_address = target_mac_address"
   ]
  },
  {
   "cell_type": "markdown",
   "metadata": {},
   "source": [
    "For now, we can use the defaults and simply call the write command for the test configs. This should return the configuration for each board passed in."
   ]
  },
  {
   "cell_type": "code",
   "execution_count": null,
   "metadata": {},
   "outputs": [],
   "source": [
    "#print(bite_tango.command_inout(\"generate_bite_data\"))\n",
    "\n",
    "# For now run the backup\n",
    "standin_board = TARGET_BOARD[0]\n",
    "print(standin_board)\n",
    "!kubectl exec -ti -n $NS ec-bite -- python3 midcbf_bite.py --talon-bite-config --boards=$standin_board --bite_mac_address=$target_mac_address"
   ]
  },
  {
   "cell_type": "code",
   "execution_count": null,
   "metadata": {},
   "outputs": [],
   "source": [
    "!kubectl -n $NS logs ds-bite-bite-0 | grep generate_bite_data"
   ]
  },
  {
   "cell_type": "markdown",
   "metadata": {},
   "source": [
    "With the bite data generated, we can then start generating LSTV playback data:"
   ]
  },
  {
   "cell_type": "code",
   "execution_count": null,
   "metadata": {},
   "outputs": [],
   "source": [
    "bite_tango.start_lstv_replay()"
   ]
  },
  {
   "cell_type": "markdown",
   "metadata": {},
   "source": [
    "We can then check the logs to ensure the LSTV geneartion runs correctly."
   ]
  },
  {
   "cell_type": "code",
   "execution_count": null,
   "metadata": {},
   "outputs": [],
   "source": [
    "!kubectl -n $NS logs ds-bite-bite-0 | grep start_lstv_replay"
   ]
  },
  {
   "cell_type": "markdown",
   "metadata": {},
   "source": [
    "## Assigning Resources"
   ]
  },
  {
   "cell_type": "markdown",
   "metadata": {},
   "source": [
    "Next, we use the relevant subarray device to assign resources. First, as with the other devices, we establish a DeviceProxy to connect to it. We also read in the assign_resources file to load in using the command. "
   ]
  },
  {
   "cell_type": "markdown",
   "metadata": {},
   "source": [
    "For the loaded data, we must ensure the right board is selected, modifying the data for the receptor ID based on the Talon board selected."
   ]
  },
  {
   "cell_type": "code",
   "execution_count": null,
   "metadata": {},
   "outputs": [],
   "source": [
    "import json\n",
    "# Load in the data from the file.\n",
    "subarray_tango = DeviceProxy(\"mid-csp/subarray/01\")\n",
    "assign_resources_file = os.path.join(CORRELATOR_FILE_LOCATION, \"assign_resources.json\")\n",
    "with open(assign_resources_file) as init_file:\n",
    "    config_dict = json.load(init_file)\n",
    "\n",
    "# In order to use the correct receptor, we modify the assign_resources data to use the correct receptor based on the board we're using\n",
    "receptor_map = [\"SKA001\",\"SKA036\",\"SKA063\",\"SKA100\"]\n",
    "config_dict['dish']['receptor_ids'] = list(map(lambda x:receptor_map[x-1],TARGET_BOARD))\n",
    "print(config_dict)\n"
   ]
  },
  {
   "cell_type": "code",
   "execution_count": null,
   "metadata": {},
   "outputs": [],
   "source": [
    "print(json.dumps(config_dict))"
   ]
  },
  {
   "cell_type": "markdown",
   "metadata": {},
   "source": [
    "Next,we run the actual command to pass in the resources:"
   ]
  },
  {
   "cell_type": "code",
   "execution_count": null,
   "metadata": {},
   "outputs": [],
   "source": [
    "subarray_tango.obsReset()"
   ]
  },
  {
   "cell_type": "code",
   "execution_count": null,
   "metadata": {},
   "outputs": [],
   "source": [
    "subarray_tango.AssignResources(json.dumps(config_dict))\n",
    "while subarray_tango.obsState != 2:\n",
    "    pass\n",
    "print(subarray_tango.obsState)"
   ]
  },
  {
   "cell_type": "markdown",
   "metadata": {},
   "source": [
    "## SDP Setup"
   ]
  },
  {
   "cell_type": "markdown",
   "metadata": {},
   "source": [
    "Next, we run a few commands to set up the Science Data Processor (SDP), utilizing the sdp namespace"
   ]
  },
  {
   "cell_type": "markdown",
   "metadata": {},
   "source": [
    "First, we get the files needed to set up the SDP, if you require custom files, load in new ones or change the commands to point to them."
   ]
  },
  {
   "cell_type": "code",
   "execution_count": null,
   "metadata": {},
   "outputs": [],
   "source": [
    "# Change this if you want to use a different folder for files\n",
    "SPD_FOLDER = CORRELATOR_FILE_LOCATION\n",
    "\n",
    "sdp_assign_resources_file = os.path.join(SPD_FOLDER,\"assign_resources_sdp.json\")\n",
    "sdp_configure_file = os.path.join(SPD_FOLDER,\"configure_sdp.json\")\n",
    "sdp_scan_file= os.path.join(SPD_FOLDER,\"scan_sdp.json\")\n",
    "if not os.path.isfile(sdp_scan_file) or not os.path.isfile(sdp_configure_file) or not os.path.isfile(sdp_assign_resources_file):\n",
    "    print(\"Warning, one or more of the files pointed to doesn't exist!\")\n",
    "else: \n",
    "    print(\"All files loaded correctly\")"
   ]
  },
  {
   "cell_type": "markdown",
   "metadata": {},
   "source": [
    "Next, we set up a proxy to the SDP device:"
   ]
  },
  {
   "cell_type": "code",
   "execution_count": null,
   "metadata": {},
   "outputs": [],
   "source": [
    "sdp_tango = DeviceProxy(\"test-sdp/subarray/01\")\n",
    "sdp_tango.On()\n",
    "print(sdp_tango.Status())"
   ]
  },
  {
   "cell_type": "markdown",
   "metadata": {},
   "source": [
    "Now, we assign resources as we did with the subarray, as with the csp, we map the receptor boards based on our checked out board."
   ]
  },
  {
   "cell_type": "code",
   "execution_count": null,
   "metadata": {},
   "outputs": [],
   "source": [
    "with open(sdp_assign_resources_file) as f:\n",
    "    sdp_resources = json.load(f)\n",
    "sdp_resources['resources']['receptors'] = list(map(lambda x:receptor_map[x-1],TARGET_BOARD))\n",
    "print(sdp_resources)"
   ]
  },
  {
   "cell_type": "markdown",
   "metadata": {},
   "source": [
    "And run the command to assign resources:"
   ]
  },
  {
   "cell_type": "code",
   "execution_count": null,
   "metadata": {},
   "outputs": [],
   "source": [
    "sdp_tango.AssignResources(json.dumps(sdp_resources))"
   ]
  },
  {
   "cell_type": "markdown",
   "metadata": {},
   "source": [
    "Next we send the configure command along with the required config file: (This step may fail if run right after the previous one, wait before running )"
   ]
  },
  {
   "cell_type": "code",
   "execution_count": null,
   "metadata": {},
   "outputs": [],
   "source": [
    "with open(sdp_configure_file) as f:\n",
    "    sdp_configuration = f.read()\n",
    "sdp_tango.Configure(sdp_configuration)"
   ]
  },
  {
   "cell_type": "markdown",
   "metadata": {},
   "source": [
    "After running this step, a pod for reciving visabilities will be launched, grab the IP of this pod and place it in the output_host var in the configure_scan json file."
   ]
  },
  {
   "cell_type": "code",
   "execution_count": null,
   "metadata": {},
   "outputs": [],
   "source": [
    "# Grab the pod name\n",
    "!kubectl -n $NS-sdp get pods | grep vis-receive"
   ]
  },
  {
   "cell_type": "code",
   "execution_count": null,
   "metadata": {},
   "outputs": [],
   "source": [
    "# Then find the IP:\n",
    "vis_pod = \"proc-pb-test-20211111-00019-vis-receive-00-0\"\n",
    "!kubectl -n $NS-sdp describe pod $vis_pod | grep net1 -A 3"
   ]
  },
  {
   "cell_type": "markdown",
   "metadata": {},
   "source": [
    "With this pod, we will also want to prep for mointoring the pod for when it (hopefully) recivies the visibilties"
   ]
  },
  {
   "cell_type": "markdown",
   "metadata": {},
   "source": [
    "Run this command, then use the output in a seperate terminal to enter the correct pod:"
   ]
  },
  {
   "cell_type": "code",
   "execution_count": null,
   "metadata": {},
   "outputs": [],
   "source": [
    "!echo kubectl exec -n $NS-sdp -ti $vis_pod -- bash"
   ]
  },
  {
   "cell_type": "markdown",
   "metadata": {},
   "source": [
    "We can then run the following commands in this pod to start monitoring for the correct traffic:"
   ]
  },
  {
   "cell_type": "raw",
   "metadata": {},
   "source": [
    "apt update && apt install -y iproute2 tcpdump\n",
    "tcpdump -i net1"
   ]
  },
  {
   "cell_type": "markdown",
   "metadata": {},
   "source": [
    "Now on the CBF side we can load in the corresponding Scan file."
   ]
  },
  {
   "cell_type": "code",
   "execution_count": null,
   "metadata": {},
   "outputs": [],
   "source": [
    "cbf_configure_scan_file = os.path.join(CORRELATOR_FILE_LOCATION,\"configure_scan.json\")\n",
    "cbf_scan_file  = os.path.join(CORRELATOR_FILE_LOCATION,\"scan.json\")\n",
    "with open(cbf_configure_scan_file) as f:\n",
    "    cbf_config = f.read()\n",
    "with open(cbf_scan_file) as f:\n",
    "    cbf_scan = f.read()\n",
    "print(\"Observation state: {}\".format(subarray_tango.obsState))\n",
    "subarray_tango.Configure(cbf_config)\n",
    "sleep(5)\n",
    "print(\"Observation state: {}\".format(subarray_tango.obsState))"
   ]
  },
  {
   "cell_type": "markdown",
   "metadata": {},
   "source": [
    "As a temporary step, load this into the delay model on the CSP Subarray dash make sure to change the `epoch` value to the one generated by the BITE LSTV replay start command, and the `receptor` to match the one set :"
   ]
  },
  {
   "cell_type": "raw",
   "metadata": {
    "vscode": {
     "languageId": "raw"
    }
   },
   "source": [
    "{\"interface\":\"https://schema.skao.int/ska-csp-delaymodel/2.2\",\"epoch\":765677157.648016,\"validity_period\":400.0,\"delay_details\":[{\"receptor\":\"SKA063\",\"poly_info\":[{\"polarization\":\"X\",\"coeffs\":[0.0,0.0,0.0,0.0,0.0,0.0]},{\"polarization\":\"Y\",\"coeffs\":[0.0,0.0,0.0,0.0,0.0,0.0]}]}]}"
   ]
  },
  {
   "cell_type": "markdown",
   "metadata": {},
   "source": [
    "And finally we start the SDP output via the Scan command:"
   ]
  },
  {
   "cell_type": "code",
   "execution_count": null,
   "metadata": {},
   "outputs": [],
   "source": [
    "with open(sdp_scan_file) as f:\n",
    "    sdp_scan = f.read()\n",
    "sdp_tango.Scan(sdp_scan)"
   ]
  },
  {
   "cell_type": "markdown",
   "metadata": {},
   "source": [
    "And then the matching command in the subarray:"
   ]
  },
  {
   "cell_type": "code",
   "execution_count": null,
   "metadata": {},
   "outputs": [],
   "source": [
    "subarray_tango.Scan(cbf_scan)"
   ]
  },
  {
   "cell_type": "code",
   "execution_count": null,
   "metadata": {},
   "outputs": [],
   "source": [
    "print(\"Observation state: {}\".format(subarray_tango.obsState))"
   ]
  },
  {
   "cell_type": "markdown",
   "metadata": {},
   "source": [
    "Checking the dashboard, the dish should now be in the SCANNING status."
   ]
  },
  {
   "cell_type": "markdown",
   "metadata": {},
   "source": [
    "## Checking Visabilties"
   ]
  },
  {
   "cell_type": "markdown",
   "metadata": {},
   "source": [
    "With the devices scanning and linked, we can monitor the output via monitoring the network packets that come from it. Use the tcpdum running terminal to check that packet lengths are correct:"
   ]
  },
  {
   "cell_type": "markdown",
   "metadata": {},
   "source": [
    "## Cleanup"
   ]
  },
  {
   "cell_type": "markdown",
   "metadata": {},
   "source": [
    "Once we're satisfied with the reuslts, we can stop the scans and shut down the boards."
   ]
  },
  {
   "cell_type": "code",
   "execution_count": null,
   "metadata": {},
   "outputs": [],
   "source": [
    "sdp_tango.EndScan()\n",
    "subarray_tango.EndScan()"
   ]
  },
  {
   "cell_type": "code",
   "execution_count": null,
   "metadata": {},
   "outputs": [],
   "source": [
    "control_tango.Off(target)"
   ]
  },
  {
   "cell_type": "markdown",
   "metadata": {},
   "source": [
    "If the boards are on, use the LRU command to turn them off."
   ]
  },
  {
   "cell_type": "markdown",
   "metadata": {},
   "source": [
    "Now that we're done, free up dev resources on PSI by deleting your ns."
   ]
  },
  {
   "cell_type": "code",
   "execution_count": null,
   "metadata": {},
   "outputs": [],
   "source": [
    "!kubectl delete ns $NS\n",
    "!kubectl delete ns $NS-sdp"
   ]
  },
  {
   "cell_type": "code",
   "execution_count": null,
   "metadata": {},
   "outputs": [],
   "source": [
    "!kubectl get ns | grep ska-mid-psi"
   ]
  }
 ],
 "metadata": {
  "kernelspec": {
   "display_name": "al_venv",
   "language": "python",
   "name": "python3"
  },
  "language_info": {
   "codemirror_mode": {
    "name": "ipython",
    "version": 3
   },
   "file_extension": ".py",
   "mimetype": "text/x-python",
   "name": "python",
   "nbconvert_exporter": "python",
   "pygments_lexer": "ipython3",
   "version": "3.9.19"
  }
 },
 "nbformat": 4,
 "nbformat_minor": 2
}
