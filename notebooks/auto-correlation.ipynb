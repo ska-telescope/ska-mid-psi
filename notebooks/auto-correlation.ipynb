{
 "cells": [
  {
   "cell_type": "markdown",
   "metadata": {},
   "source": [
    "# Running Auto Correlation with Talon Deployer and BITE\n",
    "###### Last Updated: 09/04/24\n",
    "\n",
    "This demo will show the basic operation of auto correlation using the new Deployer and BITE TANGO devices currently deployed in this repository. With this notebook, all TANGO commands and attribute changes are made via a [TANGO DeviceProxy](https://pytango.readthedocs.io/en/stable/client_api/device_proxy.html) but the overall steps should be the same for using the JIVE interface or Taranta web interface."
   ]
  },
  {
   "cell_type": "markdown",
   "metadata": {},
   "source": [
    "## Prerequisites"
   ]
  },
  {
   "cell_type": "markdown",
   "metadata": {},
   "source": [
    "\n",
    "First, this notebook assumes you have a running environment launched from a pipeline, in particular it assumes you are running off one launched from the [SKA-mid-psi](https://gitlab.com/ska-telescope/ska-mid-psi) pipeline. Secondly, for ease of dev work, it also assumes you are using a virtual env. This notebook was made with Python 3.10 in mind.\n",
    "\n",
    "Finally, make sure all requirements are installed via [poetry](https://python-poetry.org/docs/basic-usage/#installing-dependencies), and after that we can grab the imports required."
   ]
  },
  {
   "cell_type": "code",
   "execution_count": 1,
   "metadata": {},
   "outputs": [],
   "source": [
    "import os\n",
    "from PyTango import DeviceProxy, Database\n",
    "from time import sleep\n",
    "import json"
   ]
  },
  {
   "cell_type": "markdown",
   "metadata": {},
   "source": [
    "### Running on PSI"
   ]
  },
  {
   "cell_type": "markdown",
   "metadata": {},
   "source": [
    "\n",
    "To Run on PSI, once running the launch step from the PSI pipeline, grab your booted namespace's name. You can run a check on the ns as well to make sure the pods are ready."
   ]
  },
  {
   "cell_type": "code",
   "execution_count": 2,
   "metadata": {},
   "outputs": [
    {
     "name": "stdout",
     "output_type": "stream",
     "text": [
      "ci-ska-mid-psi-1245030042-jbmorgado                  Active   8h\n",
      "ci-ska-mid-psi-1245030042-jbmorgado-sdp              Active   8h\n",
      "ci-ska-mid-psi-1245030042-maecst                     Active   17h\n",
      "ci-ska-mid-psi-1245030042-maecst-sdp                 Active   17h\n",
      "ci-ska-mid-psi-1246254401-alexschell                 Active   8m53s\n",
      "ci-ska-mid-psi-1246254401-alexschell-sdp             Active   9m33s\n"
     ]
    }
   ],
   "source": [
    "!kubectl get ns | grep ska-mid-psi"
   ]
  },
  {
   "cell_type": "markdown",
   "metadata": {},
   "source": [
    "To make future work a bit easier we can load this into a NS var."
   ]
  },
  {
   "cell_type": "code",
   "execution_count": 3,
   "metadata": {},
   "outputs": [
    {
     "name": "stdout",
     "output_type": "stream",
     "text": [
      "You can monitor board status using: https://142.73.34.170/ci-ska-mid-psi-1246254401-alexschell/taranta/dashboard?id=65e7b6f7b72ec70018cdb16a&mode=run\n"
     ]
    }
   ],
   "source": [
    "# Change this var to be the non-spd namespace with your username in it\n",
    "NS = \"ci-ska-mid-psi-1246254401-alexschell\"\n",
    "\n",
    "url = \"https://142.73.34.170/\"+NS+\"/taranta/dashboard?id=65e7b6f7b72ec70018cdb16a&mode=run\"\n",
    "print(\"You can monitor board status using: https://142.73.34.170/{}/taranta/dashboard?id=65e7b6f7b72ec70018cdb16a&mode=run\".format(NS))"
   ]
  },
  {
   "cell_type": "markdown",
   "metadata": {},
   "source": [
    "At this point, all components should be in the `disabled` state."
   ]
  },
  {
   "cell_type": "markdown",
   "metadata": {},
   "source": [
    "We can then check to ensure the pods have spun up successfully."
   ]
  },
  {
   "cell_type": "code",
   "execution_count": null,
   "metadata": {},
   "outputs": [],
   "source": [
    "!kubectl -n $NS get pods"
   ]
  },
  {
   "cell_type": "markdown",
   "metadata": {},
   "source": [
    "## Initial Setup"
   ]
  },
  {
   "cell_type": "markdown",
   "metadata": {},
   "source": [
    "\n",
    "First we want to set up the target board that we will be using for the auto correlation. While this can be multiple boards, for now we will only need one. Punch out the board(s) you have access to and set the `TARGET_BOARD` to assign it to be used in future steps.\n",
    "\n",
    "The `TANGO_HOST` will be created based of the namespace you set earlier."
   ]
  },
  {
   "cell_type": "code",
   "execution_count": 4,
   "metadata": {},
   "outputs": [
    {
     "name": "stdout",
     "output_type": "stream",
     "text": [
      "Will be using HOST:  databaseds-tango-base.ci-ska-mid-psi-1246254401-alexschell.svc.cluster.local:10000\n"
     ]
    }
   ],
   "source": [
    "# Set to the boards you wish to configure.\n",
    "TARGET_BOARD = [7]\n",
    "\n",
    "TANGO_HOST = \"databaseds-tango-base.\"+NS+\".svc.cluster.local:10000\"\n",
    "print(\"Will be using HOST: \", TANGO_HOST)\n",
    "os.environ[\"TANGO_HOST\"] = TANGO_HOST"
   ]
  },
  {
   "cell_type": "markdown",
   "metadata": {},
   "source": [
    "We then load in the locations of local files for configuration. If you wish to use custom files you can change the folders pointed to, otherwise this code block can be run without edits."
   ]
  },
  {
   "cell_type": "code",
   "execution_count": 5,
   "metadata": {},
   "outputs": [],
   "source": [
    "# Get files from configs folder in repo\n",
    "CURRDIR = os.path.dirname(os.getcwd())\n",
    "CORRELATOR_FILE_LOCATION = os.path.abspath(os.path.join(CURRDIR,\"configs/auto-correlation\"))\n",
    "COMMON_FILE_LOCATION = os.path.abspath(os.path.join(CURRDIR,\"configs/common\"))"
   ]
  },
  {
   "cell_type": "markdown",
   "metadata": {},
   "source": [
    "Next, we pass in the SLIM mesh config files by copying them to the namespace, these files should be in the json_files storage folder. Custom files here are not required, but if needed, the following two code blocks can be used."
   ]
  },
  {
   "cell_type": "code",
   "execution_count": 6,
   "metadata": {},
   "outputs": [
    {
     "name": "stdout",
     "output_type": "stream",
     "text": [
      "SLIM will use defaults for this test.\n"
     ]
    }
   ],
   "source": [
    "# Change this value if you want to specify a certain slim directory for files\n",
    "slim_fs_config = \"\"\n",
    "slim_vis_config = \"\"\n",
    "if slim_fs_config != \"\" and slim_vis_config != \"\" :\n",
    "    fs_config_path = os.path.join(CORRELATOR_FILE_LOCATION, slim_fs_config)\n",
    "    vis_config_path = os.path.join(CORRELATOR_FILE_LOCATION, slim_vis_config)    \n",
    "else:\n",
    "    print(\"SLIM will use defaults for this test.\")"
   ]
  },
  {
   "cell_type": "code",
   "execution_count": null,
   "metadata": {},
   "outputs": [],
   "source": [
    "!\"kubectl cp {fs_config_path} {NS}/ds-cbfcontroller-controller-0:/app/mnt/slim/fs_slim_config.yaml\"\n",
    "!\"kubectl cp {vis_config_path} {NS}/ds-cbfcontroller-controller-0:/app/mnt/slim/vis_slim_config.yaml\""
   ]
  },
  {
   "cell_type": "markdown",
   "metadata": {},
   "source": [
    "For this demo, we will interact with the TANGO devices via a device proxy, which will allow us to pass commands into them as we would in the UI."
   ]
  },
  {
   "cell_type": "code",
   "execution_count": 7,
   "metadata": {},
   "outputs": [
    {
     "name": "stdout",
     "output_type": "stream",
     "text": [
      "dserver/CbfController/controller\n",
      "dserver/CbfSubarray/cbfsubarray-01\n",
      "dserver/CbfSubarray/cbfsubarray-02\n",
      "dserver/CbfSubarray/cbfsubarray-03\n",
      "dserver/DataBaseds/2\n",
      "dserver/ECBite/bite\n",
      "dserver/ECDeployer/deployer\n",
      "dserver/FspMulti/fsp-01\n",
      "dserver/FspMulti/fsp-02\n",
      "dserver/FspMulti/fsp-03\n",
      "dserver/FspMulti/fsp-04\n",
      "dserver/MidCspCapabilityFsp/capabilityfsp\n",
      "dserver/MidCspCapabilityVcc/capabilityvcc\n",
      "dserver/MidCspController/controller\n",
      "dserver/MidCspSubarray/subarray1\n",
      "dserver/MidCspSubarray/subarray2\n",
      "dserver/MidCspSubarray/subarray3\n",
      "dserver/PowerSwitch/powerswitch-001\n",
      "dserver/PowerSwitch/powerswitch-002\n",
      "dserver/PowerSwitch/powerswitch-003\n",
      "dserver/PowerSwitch/powerswitch-004\n",
      "dserver/SDPController/0\n",
      "dserver/SDPQueueConnector/01\n",
      "dserver/SDPSubarray/01\n",
      "dserver/Slim/mesh\n",
      "dserver/SlimLink/fs-links\n",
      "dserver/SlimLink/vis-links\n",
      "dserver/TalonBoard/talon-001\n",
      "dserver/TalonBoard/talon-002\n",
      "dserver/TalonBoard/talon-003\n",
      "dserver/TalonBoard/talon-004\n",
      "dserver/TalonBoard/talon-005\n",
      "dserver/TalonBoard/talon-006\n",
      "dserver/TalonBoard/talon-007\n",
      "dserver/TalonBoard/talon-008\n",
      "dserver/TalonDxLogConsumer/001\n",
      "dserver/TalonLRU/talonlru-001\n",
      "dserver/TalonLRU/talonlru-002\n",
      "dserver/TalonLRU/talonlru-003\n",
      "dserver/TalonLRU/talonlru-004\n",
      "dserver/TangoTest/test\n",
      "dserver/TmCspSubarrayLeafNodeTest/tm\n",
      "dserver/TmCspSubarrayLeafNodeTest/tm2\n",
      "dserver/VccMulti/vcc-001\n",
      "dserver/VccMulti/vcc-002\n",
      "dserver/VccMulti/vcc-003\n",
      "dserver/VccMulti/vcc-004\n",
      "dserver/VccMulti/vcc-005\n",
      "dserver/VccMulti/vcc-006\n",
      "dserver/VccMulti/vcc-007\n",
      "dserver/VccMulti/vcc-008\n",
      "mid-csp/capability-fsp/0\n",
      "mid-csp/capability-vcc/0\n",
      "mid-csp/control/0\n",
      "mid-csp/subarray/01\n",
      "mid-csp/subarray/02\n",
      "mid-csp/subarray/03\n",
      "mid_csp_cbf/ec/bite\n",
      "mid_csp_cbf/ec/deployer\n",
      "mid_csp_cbf/fsp/01\n",
      "mid_csp_cbf/fsp/02\n",
      "mid_csp_cbf/fsp/03\n",
      "mid_csp_cbf/fsp/04\n",
      "mid_csp_cbf/fspCorrSubarray/01_01\n",
      "mid_csp_cbf/fspCorrSubarray/01_02\n",
      "mid_csp_cbf/fspCorrSubarray/01_03\n",
      "mid_csp_cbf/fspCorrSubarray/02_01\n",
      "mid_csp_cbf/fspCorrSubarray/02_02\n",
      "mid_csp_cbf/fspCorrSubarray/02_03\n",
      "mid_csp_cbf/fspCorrSubarray/03_01\n",
      "mid_csp_cbf/fspCorrSubarray/03_02\n",
      "mid_csp_cbf/fspCorrSubarray/03_03\n",
      "mid_csp_cbf/fspCorrSubarray/04_01\n",
      "mid_csp_cbf/fspCorrSubarray/04_02\n",
      "mid_csp_cbf/fspCorrSubarray/04_03\n",
      "mid_csp_cbf/fspPssSubarray/01_01\n",
      "mid_csp_cbf/fspPssSubarray/01_02\n",
      "mid_csp_cbf/fspPssSubarray/01_03\n",
      "mid_csp_cbf/fspPssSubarray/02_01\n",
      "mid_csp_cbf/fspPssSubarray/02_02\n",
      "mid_csp_cbf/fspPssSubarray/02_03\n",
      "mid_csp_cbf/fspPssSubarray/03_01\n",
      "mid_csp_cbf/fspPssSubarray/03_02\n",
      "mid_csp_cbf/fspPssSubarray/03_03\n",
      "mid_csp_cbf/fspPssSubarray/04_01\n",
      "mid_csp_cbf/fspPssSubarray/04_02\n",
      "mid_csp_cbf/fspPssSubarray/04_03\n",
      "mid_csp_cbf/fspPstSubarray/01_01\n",
      "mid_csp_cbf/fspPstSubarray/01_02\n",
      "mid_csp_cbf/fspPstSubarray/01_03\n",
      "mid_csp_cbf/fspPstSubarray/02_01\n",
      "mid_csp_cbf/fspPstSubarray/02_02\n",
      "mid_csp_cbf/fspPstSubarray/02_03\n",
      "mid_csp_cbf/fspPstSubarray/03_01\n",
      "mid_csp_cbf/fspPstSubarray/03_02\n",
      "mid_csp_cbf/fspPstSubarray/03_03\n",
      "mid_csp_cbf/fspPstSubarray/04_01\n",
      "mid_csp_cbf/fspPstSubarray/04_02\n",
      "mid_csp_cbf/fspPstSubarray/04_03\n",
      "mid_csp_cbf/fs_links/000\n",
      "mid_csp_cbf/fs_links/001\n",
      "mid_csp_cbf/fs_links/002\n",
      "mid_csp_cbf/fs_links/003\n",
      "mid_csp_cbf/fs_links/004\n",
      "mid_csp_cbf/fs_links/005\n",
      "mid_csp_cbf/fs_links/006\n",
      "mid_csp_cbf/fs_links/007\n",
      "mid_csp_cbf/fs_links/008\n",
      "mid_csp_cbf/fs_links/009\n",
      "mid_csp_cbf/fs_links/010\n",
      "mid_csp_cbf/fs_links/011\n",
      "mid_csp_cbf/fs_links/012\n",
      "mid_csp_cbf/fs_links/013\n",
      "mid_csp_cbf/fs_links/014\n",
      "mid_csp_cbf/fs_links/015\n",
      "mid_csp_cbf/power_switch/001\n",
      "mid_csp_cbf/power_switch/002\n",
      "mid_csp_cbf/power_switch/003\n",
      "mid_csp_cbf/power_switch/004\n",
      "mid_csp_cbf/slim/slim-fs\n",
      "mid_csp_cbf/slim/slim-vis\n",
      "mid_csp_cbf/sub_elt/controller\n",
      "mid_csp_cbf/sub_elt/subarray_01\n",
      "mid_csp_cbf/sub_elt/subarray_02\n",
      "mid_csp_cbf/sub_elt/subarray_03\n",
      "mid_csp_cbf/talondx_log_consumer/001\n",
      "mid_csp_cbf/talon_board/001\n",
      "mid_csp_cbf/talon_board/002\n",
      "mid_csp_cbf/talon_board/003\n",
      "mid_csp_cbf/talon_board/004\n",
      "mid_csp_cbf/talon_board/005\n",
      "mid_csp_cbf/talon_board/006\n",
      "mid_csp_cbf/talon_board/007\n",
      "mid_csp_cbf/talon_board/008\n",
      "mid_csp_cbf/talon_lru/001\n",
      "mid_csp_cbf/talon_lru/002\n",
      "mid_csp_cbf/talon_lru/003\n",
      "mid_csp_cbf/talon_lru/004\n",
      "mid_csp_cbf/vcc/001\n",
      "mid_csp_cbf/vcc/002\n",
      "mid_csp_cbf/vcc/003\n",
      "mid_csp_cbf/vcc/004\n",
      "mid_csp_cbf/vcc/005\n",
      "mid_csp_cbf/vcc/006\n",
      "mid_csp_cbf/vcc/007\n",
      "mid_csp_cbf/vcc/008\n",
      "mid_csp_cbf/vcc_sw1/001\n",
      "mid_csp_cbf/vcc_sw1/002\n",
      "mid_csp_cbf/vcc_sw1/003\n",
      "mid_csp_cbf/vcc_sw1/004\n",
      "mid_csp_cbf/vcc_sw1/005\n",
      "mid_csp_cbf/vcc_sw1/006\n",
      "mid_csp_cbf/vcc_sw1/007\n",
      "mid_csp_cbf/vcc_sw1/008\n",
      "mid_csp_cbf/vcc_sw2/001\n",
      "mid_csp_cbf/vcc_sw2/002\n",
      "mid_csp_cbf/vcc_sw2/003\n",
      "mid_csp_cbf/vcc_sw2/004\n",
      "mid_csp_cbf/vcc_sw2/005\n",
      "mid_csp_cbf/vcc_sw2/006\n",
      "mid_csp_cbf/vcc_sw2/007\n",
      "mid_csp_cbf/vcc_sw2/008\n",
      "mid_csp_cbf/vis_links/000\n",
      "mid_csp_cbf/vis_links/001\n",
      "mid_csp_cbf/vis_links/002\n",
      "mid_csp_cbf/vis_links/003\n",
      "ska_mid/tm_leaf_node/csp_subarray_01\n",
      "ska_mid/tm_leaf_node/csp_subarray_02\n",
      "sys/database/2\n",
      "sys/tg_test/1\n",
      "test-sdp/control/0\n",
      "test-sdp/queueconnector/01\n",
      "test-sdp/subarray/01\n",
      "ON\n"
     ]
    }
   ],
   "source": [
    "# Setup the device proxies targeting bite and deployer\n",
    "db = Database()\n",
    "\n",
    "deployer_tango = DeviceProxy(\"mid_csp_cbf/ec/deployer\")\n",
    "#Check the devices initially deployed to the database\n",
    "print(*db.get_device_exported(\"*\").value_string, sep=\"\\n\")\n",
    "# Make sure the deployer device is set to ON\n",
    "deployer_tango.On()\n",
    "print(deployer_tango.state())"
   ]
  },
  {
   "cell_type": "markdown",
   "metadata": {},
   "source": [
    "Next we load in the hardware configuration depending on the talon boards selected. If a higher number board is chosen, we need to use the swapped config file."
   ]
  },
  {
   "cell_type": "code",
   "execution_count": 30,
   "metadata": {},
   "outputs": [
    {
     "name": "stdout",
     "output_type": "stream",
     "text": [
      "Using standard HW config\n"
     ]
    }
   ],
   "source": [
    "if any(i > 4 for i in TARGET_BOARD):\n",
    "    print(\"Using swap for higher number talons\")\n",
    "    config = \"hw_config/hw_config_swap_psi.yaml\"\n",
    "    print(\"Modifying target to use lower nums to match swap file\")\n",
    "    TARGET_BOARD = list(map(lambda x:x-4,TARGET_BOARD))\n",
    "else:\n",
    "    print(\"Using standard HW config\")\n",
    "    config = \"hw_config/hw_config_psi.yaml\"\n",
    "\n",
    "HW_CONFIG_FILE = os.path.join(COMMON_FILE_LOCATION, config)"
   ]
  },
  {
   "cell_type": "markdown",
   "metadata": {},
   "source": [
    "Now we copy this file into the controller pod:"
   ]
  },
  {
   "cell_type": "code",
   "execution_count": 31,
   "metadata": {},
   "outputs": [],
   "source": [
    "!kubectl cp $HW_CONFIG_FILE $NS/ds-cbfcontroller-controller-0:/app/mnt/hw_config/hw_config.yaml"
   ]
  },
  {
   "cell_type": "markdown",
   "metadata": {},
   "source": [
    "## Deploying Using the Command Line (Old Method)"
   ]
  },
  {
   "cell_type": "markdown",
   "metadata": {},
   "source": [
    "This is the old method of downloading artifacts and deploying them to the DS database, use it in case the new Deployer device doesn't work."
   ]
  },
  {
   "cell_type": "code",
   "execution_count": 35,
   "metadata": {},
   "outputs": [
    {
     "name": "stdout",
     "output_type": "stream",
     "text": [
      "Talon board -> 3\n"
     ]
    },
    {
     "name": "stdout",
     "output_type": "stream",
     "text": [
      "[talondx.py: line 487]INFO: User: root\n",
      "[talondx.py: line 542]INFO: Generate talondx-config.json file\n",
      "[talondx.py: line 487]INFO: User: root\n",
      "[talondx.py: line 536]INFO: Download Artifacts\n",
      "[talondx.py: line 330]INFO: Conan version: 1.62.0\n",
      "[talondx.py: line 332]INFO: Conan local cache: There are no packages\n",
      "[talondx.py: line 333]INFO: Clearing Conan local cache... WARN: No package recipe matches '*'\n",
      "[talondx.py: line 336]INFO: Conan local cache: There are no packages\n",
      "[talondx.py: line 339]INFO: DS Binary: ds-hps-master\n",
      "[talondx.py: line 344]INFO: Conan info: {'package_name': 'dshpsmaster', 'user': 'nrc', 'channel': 'stable', 'version': '1.0.6', 'profile': 'conan_aarch64_profile.txt'}\n",
      "\u001b[1m\u001b[33mConan 1 is on a deprecation path, please consider migrating to Conan 2\u001b[0m\n",
      "\u001b[1m\u001b[36mConfiguration:\u001b[0m\n",
      "[settings]\n",
      "arch=armv8\n",
      "build_type=Release\n",
      "compiler=gcc\n",
      "compiler.libcxx=libstdc++11\n",
      "compiler.version=7\n",
      "os=Linux\n",
      "[options]\n",
      "[build_requires]\n",
      "[env]\n",
      "AR=aarch64-linux-gnu-ar\n",
      "AS=aarch64-linux-gnu-as\n",
      "CC=aarch64-linux-gnu-gcc\n",
      "CHOST=aarch64-linux-gnu\n",
      "CONAN_CMAKE_FIND_ROOT_PATH=/usr/aarch64-linux-gnu\n",
      "CONAN_CMAKE_SYSROOT=/usr/aarch64-linux-gnu\n",
      "CXX=aarch64-linux-gnu-g++\n",
      "CXXFLAGS=-I\"/usr/aarch64-linux-gnu/include\"\n",
      "LD=aarch64-linux-gnu-ld\n",
      "PATH=[/usr/aarch64-linux-gnu/bin]\n",
      "RANLIB=aarch64-linux-gnu-ranlib\n",
      "STRIP=aarch64-linux-gnu-strip\n",
      "\u001b[1m\u001b[36mdshpsmaster/1.0.6@nrc/stable: \u001b[0m\u001b[1m\u001b[37mNot found in local cache, looking in remotes...\u001b[0m\n",
      "\u001b[1m\u001b[36mdshpsmaster/1.0.6@nrc/stable: \u001b[0m\u001b[1m\u001b[37mTrying with 'ska'...\u001b[0m\n",
      "\u001b[1m\u001b[36mdshpsmaster/1.0.6@nrc/stable: \u001b[0m\u001b[1m\u001b[37mTrying with 'conan.io'...\u001b[0m\n",
      "\u001b[1m\u001b[31mERROR: Unable to find 'dshpsmaster/1.0.6@nrc/stable' in remotes\u001b[0m\n",
      "\u001b[0m[talondx.py: line 339]INFO: DS Binary: ska-talondx-sysid-ds\n",
      "[talondx.py: line 344]INFO: Conan info: {'package_name': 'ska-talondx-sysid-ds', 'user': 'nrc', 'channel': 'stable', 'version': '1.2.0', 'profile': 'conan_aarch64_profile.txt'}\n",
      "\u001b[1m\u001b[33mConan 1 is on a deprecation path, please consider migrating to Conan 2\u001b[0m\n",
      "\u001b[1m\u001b[36mConfiguration:\u001b[0m\n",
      "[settings]\n",
      "arch=armv8\n",
      "build_type=Release\n",
      "compiler=gcc\n",
      "compiler.libcxx=libstdc++11\n",
      "compiler.version=7\n",
      "os=Linux\n",
      "[options]\n",
      "[build_requires]\n",
      "[env]\n",
      "AR=aarch64-linux-gnu-ar\n",
      "AS=aarch64-linux-gnu-as\n",
      "CC=aarch64-linux-gnu-gcc\n",
      "CHOST=aarch64-linux-gnu\n",
      "CONAN_CMAKE_FIND_ROOT_PATH=/usr/aarch64-linux-gnu\n",
      "CONAN_CMAKE_SYSROOT=/usr/aarch64-linux-gnu\n",
      "CXX=aarch64-linux-gnu-g++\n",
      "CXXFLAGS=-I\"/usr/aarch64-linux-gnu/include\"\n",
      "LD=aarch64-linux-gnu-ld\n",
      "PATH=[/usr/aarch64-linux-gnu/bin]\n",
      "RANLIB=aarch64-linux-gnu-ranlib\n",
      "STRIP=aarch64-linux-gnu-strip\n",
      "\u001b[1m\u001b[36mska-talondx-sysid-ds/1.2.0@nrc/stable: \u001b[0m\u001b[1m\u001b[37mNot found in local cache, looking in remotes...\u001b[0m\n",
      "\u001b[1m\u001b[36mska-talondx-sysid-ds/1.2.0@nrc/stable: \u001b[0m\u001b[1m\u001b[37mTrying with 'ska'...\u001b[0m\n",
      "\u001b[1m\u001b[36mska-talondx-sysid-ds/1.2.0@nrc/stable: \u001b[0m\u001b[1m\u001b[37mTrying with 'conan.io'...\u001b[0m\n",
      "\u001b[1m\u001b[31mERROR: Unable to find 'ska-talondx-sysid-ds/1.2.0@nrc/stable' in remotes\u001b[0m\n",
      "\u001b[0m[talondx.py: line 339]INFO: DS Binary: ska-mid-cbf-vcc-app\n",
      "[talondx.py: line 344]INFO: Conan info: {'package_name': 'ska-mid-cbf-vcc-app', 'user': 'nrc', 'channel': 'stable', 'version': '1.2.2', 'profile': 'conan_aarch64_profile.txt'}\n",
      "\u001b[1m\u001b[33mConan 1 is on a deprecation path, please consider migrating to Conan 2\u001b[0m\n",
      "\u001b[1m\u001b[36mConfiguration:\u001b[0m\n",
      "[settings]\n",
      "arch=armv8\n",
      "build_type=Release\n",
      "compiler=gcc\n",
      "compiler.libcxx=libstdc++11\n",
      "compiler.version=7\n",
      "os=Linux\n",
      "[options]\n",
      "[build_requires]\n",
      "[env]\n",
      "AR=aarch64-linux-gnu-ar\n",
      "AS=aarch64-linux-gnu-as\n",
      "CC=aarch64-linux-gnu-gcc\n",
      "CHOST=aarch64-linux-gnu\n",
      "CONAN_CMAKE_FIND_ROOT_PATH=/usr/aarch64-linux-gnu\n",
      "CONAN_CMAKE_SYSROOT=/usr/aarch64-linux-gnu\n",
      "CXX=aarch64-linux-gnu-g++\n",
      "CXXFLAGS=-I\"/usr/aarch64-linux-gnu/include\"\n",
      "LD=aarch64-linux-gnu-ld\n",
      "PATH=[/usr/aarch64-linux-gnu/bin]\n",
      "RANLIB=aarch64-linux-gnu-ranlib\n",
      "STRIP=aarch64-linux-gnu-strip\n",
      "\u001b[1m\u001b[36mska-mid-cbf-vcc-app/1.2.2@nrc/stable: \u001b[0m\u001b[1m\u001b[37mNot found in local cache, looking in remotes...\u001b[0m\n",
      "\u001b[1m\u001b[36mska-mid-cbf-vcc-app/1.2.2@nrc/stable: \u001b[0m\u001b[1m\u001b[37mTrying with 'ska'...\u001b[0m\n",
      "\u001b[1m\u001b[36mska-mid-cbf-vcc-app/1.2.2@nrc/stable: \u001b[0m\u001b[1m\u001b[37mTrying with 'conan.io'...\u001b[0m\n",
      "\u001b[1m\u001b[31mERROR: Unable to find 'ska-mid-cbf-vcc-app/1.2.2@nrc/stable' in remotes\u001b[0m\n",
      "\u001b[0m[talondx.py: line 339]INFO: DS Binary: ska-mid-spfrx-packetizer-ds\n",
      "[talondx.py: line 344]INFO: Conan info: {'package_name': 'ska-mid-spfrx-packetizer-ds', 'user': 'nrc', 'channel': 'stable', 'version': '1.2.0', 'profile': 'conan_aarch64_profile.txt'}\n",
      "\u001b[1m\u001b[33mConan 1 is on a deprecation path, please consider migrating to Conan 2\u001b[0m\n",
      "\u001b[1m\u001b[36mConfiguration:\u001b[0m\n",
      "[settings]\n",
      "arch=armv8\n",
      "build_type=Release\n",
      "compiler=gcc\n",
      "compiler.libcxx=libstdc++11\n",
      "compiler.version=7\n",
      "os=Linux\n",
      "[options]\n",
      "[build_requires]\n",
      "[env]\n",
      "AR=aarch64-linux-gnu-ar\n",
      "AS=aarch64-linux-gnu-as\n",
      "CC=aarch64-linux-gnu-gcc\n",
      "CHOST=aarch64-linux-gnu\n",
      "CONAN_CMAKE_FIND_ROOT_PATH=/usr/aarch64-linux-gnu\n",
      "CONAN_CMAKE_SYSROOT=/usr/aarch64-linux-gnu\n",
      "CXX=aarch64-linux-gnu-g++\n",
      "CXXFLAGS=-I\"/usr/aarch64-linux-gnu/include\"\n",
      "LD=aarch64-linux-gnu-ld\n",
      "PATH=[/usr/aarch64-linux-gnu/bin]\n",
      "RANLIB=aarch64-linux-gnu-ranlib\n",
      "STRIP=aarch64-linux-gnu-strip\n",
      "\u001b[1m\u001b[36mska-mid-spfrx-packetizer-ds/1.2.0@nrc/stable: \u001b[0m\u001b[1m\u001b[37mNot found in local cache, looking in remotes...\u001b[0m\n",
      "\u001b[1m\u001b[36mska-mid-spfrx-packetizer-ds/1.2.0@nrc/stable: \u001b[0m\u001b[1m\u001b[37mTrying with 'ska'...\u001b[0m\n",
      "\u001b[1m\u001b[36mska-mid-spfrx-packetizer-ds/1.2.0@nrc/stable: \u001b[0m\u001b[1m\u001b[37mTrying with 'conan.io'...\u001b[0m\n",
      "\u001b[1m\u001b[31mERROR: Unable to find 'ska-mid-spfrx-packetizer-ds/1.2.0@nrc/stable' in remotes\u001b[0m\n",
      "\u001b[0m[talondx.py: line 339]INFO: DS Binary: ska-talondx-100-gigabit-ethernet-ds\n",
      "[talondx.py: line 344]INFO: Conan info: {'package_name': 'ska-talondx-100-gigabit-ethernet-ds', 'user': 'nrc', 'channel': 'stable', 'version': '1.2.1', 'profile': 'conan_aarch64_profile.txt'}\n",
      "\u001b[1m\u001b[33mConan 1 is on a deprecation path, please consider migrating to Conan 2\u001b[0m\n",
      "\u001b[1m\u001b[36mConfiguration:\u001b[0m\n",
      "[settings]\n",
      "arch=armv8\n",
      "build_type=Release\n",
      "compiler=gcc\n",
      "compiler.libcxx=libstdc++11\n",
      "compiler.version=7\n",
      "os=Linux\n",
      "[options]\n",
      "[build_requires]\n",
      "[env]\n",
      "AR=aarch64-linux-gnu-ar\n",
      "AS=aarch64-linux-gnu-as\n",
      "CC=aarch64-linux-gnu-gcc\n",
      "CHOST=aarch64-linux-gnu\n",
      "CONAN_CMAKE_FIND_ROOT_PATH=/usr/aarch64-linux-gnu\n",
      "CONAN_CMAKE_SYSROOT=/usr/aarch64-linux-gnu\n",
      "CXX=aarch64-linux-gnu-g++\n",
      "CXXFLAGS=-I\"/usr/aarch64-linux-gnu/include\"\n",
      "LD=aarch64-linux-gnu-ld\n",
      "PATH=[/usr/aarch64-linux-gnu/bin]\n",
      "RANLIB=aarch64-linux-gnu-ranlib\n",
      "STRIP=aarch64-linux-gnu-strip\n",
      "\u001b[1m\u001b[36mska-talondx-100-gigabit-ethernet-ds/1.2.1@nrc/stable: \u001b[0m\u001b[1m\u001b[37mNot found in local cache, looking in remotes...\u001b[0m\n",
      "\u001b[1m\u001b[36mska-talondx-100-gigabit-ethernet-ds/1.2.1@nrc/stable: \u001b[0m\u001b[1m\u001b[37mTrying with 'ska'...\u001b[0m\n",
      "\u001b[1m\u001b[36mska-talondx-100-gigabit-ethernet-ds/1.2.1@nrc/stable: \u001b[0m\u001b[1m\u001b[37mTrying with 'conan.io'...\u001b[0m\n",
      "\u001b[1m\u001b[31mERROR: Unable to find 'ska-talondx-100-gigabit-ethernet-ds/1.2.1@nrc/stable' in remotes\u001b[0m\n",
      "\u001b[0m[talondx.py: line 339]INFO: DS Binary: ds-gaussian-noise-gen\n",
      "[talondx.py: line 344]INFO: Conan info: {'package_name': 'dsgaussiannoisegen', 'user': 'nrc', 'channel': 'stable', 'version': '2.0.0', 'profile': 'conan_aarch64_profile.txt'}\n",
      "\u001b[1m\u001b[33mConan 1 is on a deprecation path, please consider migrating to Conan 2\u001b[0m\n",
      "\u001b[1m\u001b[36mConfiguration:\u001b[0m\n",
      "[settings]\n",
      "arch=armv8\n",
      "build_type=Release\n",
      "compiler=gcc\n",
      "compiler.libcxx=libstdc++11\n",
      "compiler.version=7\n",
      "os=Linux\n",
      "[options]\n",
      "[build_requires]\n",
      "[env]\n",
      "AR=aarch64-linux-gnu-ar\n",
      "AS=aarch64-linux-gnu-as\n",
      "CC=aarch64-linux-gnu-gcc\n",
      "CHOST=aarch64-linux-gnu\n",
      "CONAN_CMAKE_FIND_ROOT_PATH=/usr/aarch64-linux-gnu\n",
      "CONAN_CMAKE_SYSROOT=/usr/aarch64-linux-gnu\n",
      "CXX=aarch64-linux-gnu-g++\n",
      "CXXFLAGS=-I\"/usr/aarch64-linux-gnu/include\"\n",
      "LD=aarch64-linux-gnu-ld\n",
      "PATH=[/usr/aarch64-linux-gnu/bin]\n",
      "RANLIB=aarch64-linux-gnu-ranlib\n",
      "STRIP=aarch64-linux-gnu-strip\n",
      "\u001b[1m\u001b[36mdsgaussiannoisegen/2.0.0@nrc/stable: \u001b[0m\u001b[1m\u001b[37mNot found in local cache, looking in remotes...\u001b[0m\n",
      "\u001b[1m\u001b[36mdsgaussiannoisegen/2.0.0@nrc/stable: \u001b[0m\u001b[1m\u001b[37mTrying with 'ska'...\u001b[0m\n",
      "\u001b[1m\u001b[36mdsgaussiannoisegen/2.0.0@nrc/stable: \u001b[0m\u001b[1m\u001b[37mTrying with 'conan.io'...\u001b[0m\n",
      "\u001b[1m\u001b[31mERROR: Unable to find 'dsgaussiannoisegen/2.0.0@nrc/stable' in remotes\u001b[0m\n",
      "\u001b[0m[talondx.py: line 339]INFO: DS Binary: ds-lstv-bandpass-filter\n",
      "[talondx.py: line 344]INFO: Conan info: {'package_name': 'dslstvbandpassfilter', 'user': 'nrc', 'channel': 'stable', 'version': '1.4.0', 'profile': 'conan_aarch64_profile.txt'}\n",
      "\u001b[1m\u001b[33mConan 1 is on a deprecation path, please consider migrating to Conan 2\u001b[0m\n",
      "\u001b[1m\u001b[36mConfiguration:\u001b[0m\n",
      "[settings]\n",
      "arch=armv8\n",
      "build_type=Release\n",
      "compiler=gcc\n",
      "compiler.libcxx=libstdc++11\n",
      "compiler.version=7\n",
      "os=Linux\n",
      "[options]\n",
      "[build_requires]\n",
      "[env]\n",
      "AR=aarch64-linux-gnu-ar\n",
      "AS=aarch64-linux-gnu-as\n",
      "CC=aarch64-linux-gnu-gcc\n",
      "CHOST=aarch64-linux-gnu\n",
      "CONAN_CMAKE_FIND_ROOT_PATH=/usr/aarch64-linux-gnu\n",
      "CONAN_CMAKE_SYSROOT=/usr/aarch64-linux-gnu\n",
      "CXX=aarch64-linux-gnu-g++\n",
      "CXXFLAGS=-I\"/usr/aarch64-linux-gnu/include\"\n",
      "LD=aarch64-linux-gnu-ld\n",
      "PATH=[/usr/aarch64-linux-gnu/bin]\n",
      "RANLIB=aarch64-linux-gnu-ranlib\n",
      "STRIP=aarch64-linux-gnu-strip\n",
      "\u001b[1m\u001b[36mdslstvbandpassfilter/1.4.0@nrc/stable: \u001b[0m\u001b[1m\u001b[37mNot found in local cache, looking in remotes...\u001b[0m\n",
      "\u001b[1m\u001b[36mdslstvbandpassfilter/1.4.0@nrc/stable: \u001b[0m\u001b[1m\u001b[37mTrying with 'ska'...\u001b[0m\n",
      "\u001b[1m\u001b[36mdslstvbandpassfilter/1.4.0@nrc/stable: \u001b[0m\u001b[1m\u001b[37mTrying with 'conan.io'...\u001b[0m\n",
      "\u001b[1m\u001b[31mERROR: Unable to find 'dslstvbandpassfilter/1.4.0@nrc/stable' in remotes\u001b[0m\n",
      "\u001b[0m[talondx.py: line 339]INFO: DS Binary: ds-lstv-gen\n",
      "[talondx.py: line 344]INFO: Conan info: {'package_name': 'dslstvgen', 'user': 'nrc', 'channel': 'stable', 'version': '1.4.0', 'profile': 'conan_aarch64_profile.txt'}\n",
      "\u001b[1m\u001b[33mConan 1 is on a deprecation path, please consider migrating to Conan 2\u001b[0m\n",
      "\u001b[1m\u001b[36mConfiguration:\u001b[0m\n",
      "[settings]\n",
      "arch=armv8\n",
      "build_type=Release\n",
      "compiler=gcc\n",
      "compiler.libcxx=libstdc++11\n",
      "compiler.version=7\n",
      "os=Linux\n",
      "[options]\n",
      "[build_requires]\n",
      "[env]\n",
      "AR=aarch64-linux-gnu-ar\n",
      "AS=aarch64-linux-gnu-as\n",
      "CC=aarch64-linux-gnu-gcc\n",
      "CHOST=aarch64-linux-gnu\n",
      "CONAN_CMAKE_FIND_ROOT_PATH=/usr/aarch64-linux-gnu\n",
      "CONAN_CMAKE_SYSROOT=/usr/aarch64-linux-gnu\n",
      "CXX=aarch64-linux-gnu-g++\n",
      "CXXFLAGS=-I\"/usr/aarch64-linux-gnu/include\"\n",
      "LD=aarch64-linux-gnu-ld\n",
      "PATH=[/usr/aarch64-linux-gnu/bin]\n",
      "RANLIB=aarch64-linux-gnu-ranlib\n",
      "STRIP=aarch64-linux-gnu-strip\n",
      "\u001b[1m\u001b[36mdslstvgen/1.4.0@nrc/stable: \u001b[0m\u001b[1m\u001b[37mNot found in local cache, looking in remotes...\u001b[0m\n",
      "\u001b[1m\u001b[36mdslstvgen/1.4.0@nrc/stable: \u001b[0m\u001b[1m\u001b[37mTrying with 'ska'...\u001b[0m\n",
      "\u001b[1m\u001b[36mdslstvgen/1.4.0@nrc/stable: \u001b[0m\u001b[1m\u001b[37mTrying with 'conan.io'...\u001b[0m\n",
      "\u001b[1m\u001b[31mERROR: Unable to find 'dslstvgen/1.4.0@nrc/stable' in remotes\u001b[0m\n",
      "\u001b[0m[talondx.py: line 339]INFO: DS Binary: ds-lstv-playback\n",
      "[talondx.py: line 344]INFO: Conan info: {'package_name': 'dslstvplayback', 'user': 'nrc', 'channel': 'stable', 'version': '1.4.0', 'profile': 'conan_aarch64_profile.txt'}\n",
      "\u001b[1m\u001b[33mConan 1 is on a deprecation path, please consider migrating to Conan 2\u001b[0m\n",
      "\u001b[1m\u001b[36mConfiguration:\u001b[0m\n",
      "[settings]\n",
      "arch=armv8\n",
      "build_type=Release\n",
      "compiler=gcc\n",
      "compiler.libcxx=libstdc++11\n",
      "compiler.version=7\n",
      "os=Linux\n",
      "[options]\n",
      "[build_requires]\n",
      "[env]\n",
      "AR=aarch64-linux-gnu-ar\n",
      "AS=aarch64-linux-gnu-as\n",
      "CC=aarch64-linux-gnu-gcc\n",
      "CHOST=aarch64-linux-gnu\n",
      "CONAN_CMAKE_FIND_ROOT_PATH=/usr/aarch64-linux-gnu\n",
      "CONAN_CMAKE_SYSROOT=/usr/aarch64-linux-gnu\n",
      "CXX=aarch64-linux-gnu-g++\n",
      "CXXFLAGS=-I\"/usr/aarch64-linux-gnu/include\"\n",
      "LD=aarch64-linux-gnu-ld\n",
      "PATH=[/usr/aarch64-linux-gnu/bin]\n",
      "RANLIB=aarch64-linux-gnu-ranlib\n",
      "STRIP=aarch64-linux-gnu-strip\n",
      "\u001b[1m\u001b[36mdslstvplayback/1.4.0@nrc/stable: \u001b[0m\u001b[1m\u001b[37mNot found in local cache, looking in remotes...\u001b[0m\n",
      "\u001b[1m\u001b[36mdslstvplayback/1.4.0@nrc/stable: \u001b[0m\u001b[1m\u001b[37mTrying with 'ska'...\u001b[0m\n",
      "\u001b[1m\u001b[36mdslstvplayback/1.4.0@nrc/stable: \u001b[0m\u001b[1m\u001b[37mTrying with 'conan.io'...\u001b[0m\n",
      "\u001b[1m\u001b[31mERROR: Unable to find 'dslstvplayback/1.4.0@nrc/stable' in remotes\u001b[0m\n",
      "\u001b[0m[talondx.py: line 339]INFO: DS Binary: ds-lstv-tone-generator\n",
      "[talondx.py: line 344]INFO: Conan info: {'package_name': 'dslstvtonegenerator', 'user': 'nrc', 'channel': 'stable', 'version': '1.4.0', 'profile': 'conan_aarch64_profile.txt'}\n",
      "\u001b[1m\u001b[33mConan 1 is on a deprecation path, please consider migrating to Conan 2\u001b[0m\n",
      "\u001b[1m\u001b[36mConfiguration:\u001b[0m\n",
      "[settings]\n",
      "arch=armv8\n",
      "build_type=Release\n",
      "compiler=gcc\n",
      "compiler.libcxx=libstdc++11\n",
      "compiler.version=7\n",
      "os=Linux\n",
      "[options]\n",
      "[build_requires]\n",
      "[env]\n",
      "AR=aarch64-linux-gnu-ar\n",
      "AS=aarch64-linux-gnu-as\n",
      "CC=aarch64-linux-gnu-gcc\n",
      "CHOST=aarch64-linux-gnu\n",
      "CONAN_CMAKE_FIND_ROOT_PATH=/usr/aarch64-linux-gnu\n",
      "CONAN_CMAKE_SYSROOT=/usr/aarch64-linux-gnu\n",
      "CXX=aarch64-linux-gnu-g++\n",
      "CXXFLAGS=-I\"/usr/aarch64-linux-gnu/include\"\n",
      "LD=aarch64-linux-gnu-ld\n",
      "PATH=[/usr/aarch64-linux-gnu/bin]\n",
      "RANLIB=aarch64-linux-gnu-ranlib\n",
      "STRIP=aarch64-linux-gnu-strip\n",
      "\u001b[1m\u001b[36mdslstvtonegenerator/1.4.0@nrc/stable: \u001b[0m\u001b[1m\u001b[37mNot found in local cache, looking in remotes...\u001b[0m\n",
      "\u001b[1m\u001b[36mdslstvtonegenerator/1.4.0@nrc/stable: \u001b[0m\u001b[1m\u001b[37mTrying with 'ska'...\u001b[0m\n",
      "\u001b[1m\u001b[36mdslstvtonegenerator/1.4.0@nrc/stable: \u001b[0m\u001b[1m\u001b[37mTrying with 'conan.io'...\u001b[0m\n",
      "\u001b[1m\u001b[31mERROR: Unable to find 'dslstvtonegenerator/1.4.0@nrc/stable' in remotes\u001b[0m\n",
      "\u001b[0m[talondx.py: line 339]INFO: DS Binary: ds-polarization-coupler\n",
      "[talondx.py: line 344]INFO: Conan info: {'package_name': 'dspolarizationcoupler', 'user': 'nrc', 'channel': 'stable', 'version': '1.4.0', 'profile': 'conan_aarch64_profile.txt'}\n",
      "\u001b[1m\u001b[33mConan 1 is on a deprecation path, please consider migrating to Conan 2\u001b[0m\n",
      "\u001b[1m\u001b[36mConfiguration:\u001b[0m\n",
      "[settings]\n",
      "arch=armv8\n",
      "build_type=Release\n",
      "compiler=gcc\n",
      "compiler.libcxx=libstdc++11\n",
      "compiler.version=7\n",
      "os=Linux\n",
      "[options]\n",
      "[build_requires]\n",
      "[env]\n",
      "AR=aarch64-linux-gnu-ar\n",
      "AS=aarch64-linux-gnu-as\n",
      "CC=aarch64-linux-gnu-gcc\n",
      "CHOST=aarch64-linux-gnu\n",
      "CONAN_CMAKE_FIND_ROOT_PATH=/usr/aarch64-linux-gnu\n",
      "CONAN_CMAKE_SYSROOT=/usr/aarch64-linux-gnu\n",
      "CXX=aarch64-linux-gnu-g++\n",
      "CXXFLAGS=-I\"/usr/aarch64-linux-gnu/include\"\n",
      "LD=aarch64-linux-gnu-ld\n",
      "PATH=[/usr/aarch64-linux-gnu/bin]\n",
      "RANLIB=aarch64-linux-gnu-ranlib\n",
      "STRIP=aarch64-linux-gnu-strip\n",
      "\u001b[1m\u001b[36mdspolarizationcoupler/1.4.0@nrc/stable: \u001b[0m\u001b[1m\u001b[37mNot found in local cache, looking in remotes...\u001b[0m\n",
      "\u001b[1m\u001b[36mdspolarizationcoupler/1.4.0@nrc/stable: \u001b[0m\u001b[1m\u001b[37mTrying with 'ska'...\u001b[0m\n",
      "\u001b[1m\u001b[36mdspolarizationcoupler/1.4.0@nrc/stable: \u001b[0m\u001b[1m\u001b[37mTrying with 'conan.io'...\u001b[0m\n",
      "\u001b[1m\u001b[31mERROR: Unable to find 'dspolarizationcoupler/1.4.0@nrc/stable' in remotes\u001b[0m\n",
      "\u001b[0m[talondx.py: line 339]INFO: DS Binary: ds-circuit-switch\n",
      "[talondx.py: line 344]INFO: Conan info: {'package_name': 'dscircuitswitch', 'user': 'nrc', 'channel': 'stable', 'version': '2.1.0', 'profile': 'conan_aarch64_profile.txt'}\n",
      "\u001b[1m\u001b[33mConan 1 is on a deprecation path, please consider migrating to Conan 2\u001b[0m\n",
      "\u001b[1m\u001b[36mConfiguration:\u001b[0m\n",
      "[settings]\n",
      "arch=armv8\n",
      "build_type=Release\n",
      "compiler=gcc\n",
      "compiler.libcxx=libstdc++11\n",
      "compiler.version=7\n",
      "os=Linux\n",
      "[options]\n",
      "[build_requires]\n",
      "[env]\n",
      "AR=aarch64-linux-gnu-ar\n",
      "AS=aarch64-linux-gnu-as\n",
      "CC=aarch64-linux-gnu-gcc\n",
      "CHOST=aarch64-linux-gnu\n",
      "CONAN_CMAKE_FIND_ROOT_PATH=/usr/aarch64-linux-gnu\n",
      "CONAN_CMAKE_SYSROOT=/usr/aarch64-linux-gnu\n",
      "CXX=aarch64-linux-gnu-g++\n",
      "CXXFLAGS=-I\"/usr/aarch64-linux-gnu/include\"\n",
      "LD=aarch64-linux-gnu-ld\n",
      "PATH=[/usr/aarch64-linux-gnu/bin]\n",
      "RANLIB=aarch64-linux-gnu-ranlib\n",
      "STRIP=aarch64-linux-gnu-strip\n",
      "\u001b[1m\u001b[36mdscircuitswitch/2.1.0@nrc/stable: \u001b[0m\u001b[1m\u001b[37mNot found in local cache, looking in remotes...\u001b[0m\n",
      "\u001b[1m\u001b[36mdscircuitswitch/2.1.0@nrc/stable: \u001b[0m\u001b[1m\u001b[37mTrying with 'ska'...\u001b[0m\n",
      "\u001b[1m\u001b[36mdscircuitswitch/2.1.0@nrc/stable: \u001b[0m\u001b[1m\u001b[37mTrying with 'conan.io'...\u001b[0m\n",
      "\u001b[1m\u001b[31mERROR: Unable to find 'dscircuitswitch/2.1.0@nrc/stable' in remotes\u001b[0m\n",
      "\u001b[0m[talondx.py: line 339]INFO: DS Binary: ds-vcc\n",
      "[talondx.py: line 344]INFO: Conan info: {'package_name': 'dsvcc', 'user': 'nrc', 'channel': 'stable', 'version': '1.4.0', 'profile': 'conan_aarch64_profile.txt'}\n",
      "\u001b[1m\u001b[33mConan 1 is on a deprecation path, please consider migrating to Conan 2\u001b[0m\n",
      "\u001b[1m\u001b[36mConfiguration:\u001b[0m\n",
      "[settings]\n",
      "arch=armv8\n",
      "build_type=Release\n",
      "compiler=gcc\n",
      "compiler.libcxx=libstdc++11\n",
      "compiler.version=7\n",
      "os=Linux\n",
      "[options]\n",
      "[build_requires]\n",
      "[env]\n",
      "AR=aarch64-linux-gnu-ar\n",
      "AS=aarch64-linux-gnu-as\n",
      "CC=aarch64-linux-gnu-gcc\n",
      "CHOST=aarch64-linux-gnu\n",
      "CONAN_CMAKE_FIND_ROOT_PATH=/usr/aarch64-linux-gnu\n",
      "CONAN_CMAKE_SYSROOT=/usr/aarch64-linux-gnu\n",
      "CXX=aarch64-linux-gnu-g++\n",
      "CXXFLAGS=-I\"/usr/aarch64-linux-gnu/include\"\n",
      "LD=aarch64-linux-gnu-ld\n",
      "PATH=[/usr/aarch64-linux-gnu/bin]\n",
      "RANLIB=aarch64-linux-gnu-ranlib\n",
      "STRIP=aarch64-linux-gnu-strip\n",
      "\u001b[1m\u001b[36mdsvcc/1.4.0@nrc/stable: \u001b[0m\u001b[1m\u001b[37mNot found in local cache, looking in remotes...\u001b[0m\n",
      "\u001b[1m\u001b[36mdsvcc/1.4.0@nrc/stable: \u001b[0m\u001b[1m\u001b[37mTrying with 'ska'...\u001b[0m\n",
      "\u001b[1m\u001b[36mdsvcc/1.4.0@nrc/stable: \u001b[0m\u001b[1m\u001b[37mTrying with 'conan.io'...\u001b[0m\n",
      "\u001b[1m\u001b[31mERROR: Unable to find 'dsvcc/1.4.0@nrc/stable' in remotes\u001b[0m\n",
      "\u001b[0m[talondx.py: line 339]INFO: DS Binary: ds-fine-channelizer\n",
      "[talondx.py: line 344]INFO: Conan info: {'package_name': 'dsfinechannelizer', 'user': 'nrc', 'channel': 'stable', 'version': '1.3.0', 'profile': 'conan_aarch64_profile.txt'}\n",
      "\u001b[1m\u001b[33mConan 1 is on a deprecation path, please consider migrating to Conan 2\u001b[0m\n",
      "\u001b[1m\u001b[36mConfiguration:\u001b[0m\n",
      "[settings]\n",
      "arch=armv8\n",
      "build_type=Release\n",
      "compiler=gcc\n",
      "compiler.libcxx=libstdc++11\n",
      "compiler.version=7\n",
      "os=Linux\n",
      "[options]\n",
      "[build_requires]\n",
      "[env]\n",
      "AR=aarch64-linux-gnu-ar\n",
      "AS=aarch64-linux-gnu-as\n",
      "CC=aarch64-linux-gnu-gcc\n",
      "CHOST=aarch64-linux-gnu\n",
      "CONAN_CMAKE_FIND_ROOT_PATH=/usr/aarch64-linux-gnu\n",
      "CONAN_CMAKE_SYSROOT=/usr/aarch64-linux-gnu\n",
      "CXX=aarch64-linux-gnu-g++\n",
      "CXXFLAGS=-I\"/usr/aarch64-linux-gnu/include\"\n",
      "LD=aarch64-linux-gnu-ld\n",
      "PATH=[/usr/aarch64-linux-gnu/bin]\n",
      "RANLIB=aarch64-linux-gnu-ranlib\n",
      "STRIP=aarch64-linux-gnu-strip\n",
      "\u001b[1m\u001b[36mdsfinechannelizer/1.3.0@nrc/stable: \u001b[0m\u001b[1m\u001b[37mNot found in local cache, looking in remotes...\u001b[0m\n",
      "\u001b[1m\u001b[36mdsfinechannelizer/1.3.0@nrc/stable: \u001b[0m\u001b[1m\u001b[37mTrying with 'ska'...\u001b[0m\n",
      "\u001b[1m\u001b[36mdsfinechannelizer/1.3.0@nrc/stable: \u001b[0m\u001b[1m\u001b[37mTrying with 'conan.io'...\u001b[0m\n",
      "\u001b[1m\u001b[31mERROR: Unable to find 'dsfinechannelizer/1.3.0@nrc/stable' in remotes\u001b[0m\n",
      "\u001b[0m[talondx.py: line 339]INFO: DS Binary: ds-dct\n",
      "[talondx.py: line 344]INFO: Conan info: {'package_name': 'dsdct', 'user': 'nrc', 'channel': 'stable', 'version': '1.3.0', 'profile': 'conan_aarch64_profile.txt'}\n",
      "\u001b[1m\u001b[33mConan 1 is on a deprecation path, please consider migrating to Conan 2\u001b[0m\n",
      "\u001b[1m\u001b[36mConfiguration:\u001b[0m\n",
      "[settings]\n",
      "arch=armv8\n",
      "build_type=Release\n",
      "compiler=gcc\n",
      "compiler.libcxx=libstdc++11\n",
      "compiler.version=7\n",
      "os=Linux\n",
      "[options]\n",
      "[build_requires]\n",
      "[env]\n",
      "AR=aarch64-linux-gnu-ar\n",
      "AS=aarch64-linux-gnu-as\n",
      "CC=aarch64-linux-gnu-gcc\n",
      "CHOST=aarch64-linux-gnu\n",
      "CONAN_CMAKE_FIND_ROOT_PATH=/usr/aarch64-linux-gnu\n",
      "CONAN_CMAKE_SYSROOT=/usr/aarch64-linux-gnu\n",
      "CXX=aarch64-linux-gnu-g++\n",
      "CXXFLAGS=-I\"/usr/aarch64-linux-gnu/include\"\n",
      "LD=aarch64-linux-gnu-ld\n",
      "PATH=[/usr/aarch64-linux-gnu/bin]\n",
      "RANLIB=aarch64-linux-gnu-ranlib\n",
      "STRIP=aarch64-linux-gnu-strip\n",
      "\u001b[1m\u001b[36mdsdct/1.3.0@nrc/stable: \u001b[0m\u001b[1m\u001b[37mNot found in local cache, looking in remotes...\u001b[0m\n",
      "\u001b[1m\u001b[36mdsdct/1.3.0@nrc/stable: \u001b[0m\u001b[1m\u001b[37mTrying with 'ska'...\u001b[0m\n",
      "\u001b[1m\u001b[36mdsdct/1.3.0@nrc/stable: \u001b[0m\u001b[1m\u001b[37mTrying with 'conan.io'...\u001b[0m\n",
      "\u001b[1m\u001b[31mERROR: Unable to find 'dsdct/1.3.0@nrc/stable' in remotes\u001b[0m\n",
      "\u001b[0m[talondx.py: line 339]INFO: DS Binary: ska-talondx-status-ds\n",
      "[talondx.py: line 344]INFO: Conan info: {'package_name': 'ska-talondx-status-ds', 'user': 'nrc', 'channel': 'stable', 'version': '1.2.1', 'profile': 'conan_aarch64_profile.txt'}\n",
      "\u001b[1m\u001b[33mConan 1 is on a deprecation path, please consider migrating to Conan 2\u001b[0m\n",
      "\u001b[1m\u001b[36mConfiguration:\u001b[0m\n",
      "[settings]\n",
      "arch=armv8\n",
      "build_type=Release\n",
      "compiler=gcc\n",
      "compiler.libcxx=libstdc++11\n",
      "compiler.version=7\n",
      "os=Linux\n",
      "[options]\n",
      "[build_requires]\n",
      "[env]\n",
      "AR=aarch64-linux-gnu-ar\n",
      "AS=aarch64-linux-gnu-as\n",
      "CC=aarch64-linux-gnu-gcc\n",
      "CHOST=aarch64-linux-gnu\n",
      "CONAN_CMAKE_FIND_ROOT_PATH=/usr/aarch64-linux-gnu\n",
      "CONAN_CMAKE_SYSROOT=/usr/aarch64-linux-gnu\n",
      "CXX=aarch64-linux-gnu-g++\n",
      "CXXFLAGS=-I\"/usr/aarch64-linux-gnu/include\"\n",
      "LD=aarch64-linux-gnu-ld\n",
      "PATH=[/usr/aarch64-linux-gnu/bin]\n",
      "RANLIB=aarch64-linux-gnu-ranlib\n",
      "STRIP=aarch64-linux-gnu-strip\n",
      "\u001b[1m\u001b[36mska-talondx-status-ds/1.2.1@nrc/stable: \u001b[0m\u001b[1m\u001b[37mNot found in local cache, looking in remotes...\u001b[0m\n",
      "\u001b[1m\u001b[36mska-talondx-status-ds/1.2.1@nrc/stable: \u001b[0m\u001b[1m\u001b[37mTrying with 'ska'...\u001b[0m\n",
      "\u001b[1m\u001b[36mska-talondx-status-ds/1.2.1@nrc/stable: \u001b[0m\u001b[1m\u001b[37mTrying with 'conan.io'...\u001b[0m\n",
      "\u001b[1m\u001b[31mERROR: Unable to find 'ska-talondx-status-ds/1.2.1@nrc/stable' in remotes\u001b[0m\n",
      "\u001b[0m[talondx.py: line 339]INFO: DS Binary: ds-wb-state-count\n",
      "[talondx.py: line 344]INFO: Conan info: {'package_name': 'dswbstatecount', 'user': 'nrc', 'channel': 'stable', 'version': '1.3.0', 'profile': 'conan_aarch64_profile.txt'}\n",
      "\u001b[1m\u001b[33mConan 1 is on a deprecation path, please consider migrating to Conan 2\u001b[0m\n",
      "\u001b[1m\u001b[36mConfiguration:\u001b[0m\n",
      "[settings]\n",
      "arch=armv8\n",
      "build_type=Release\n",
      "compiler=gcc\n",
      "compiler.libcxx=libstdc++11\n",
      "compiler.version=7\n",
      "os=Linux\n",
      "[options]\n",
      "[build_requires]\n",
      "[env]\n",
      "AR=aarch64-linux-gnu-ar\n",
      "AS=aarch64-linux-gnu-as\n",
      "CC=aarch64-linux-gnu-gcc\n",
      "CHOST=aarch64-linux-gnu\n",
      "CONAN_CMAKE_FIND_ROOT_PATH=/usr/aarch64-linux-gnu\n",
      "CONAN_CMAKE_SYSROOT=/usr/aarch64-linux-gnu\n",
      "CXX=aarch64-linux-gnu-g++\n",
      "CXXFLAGS=-I\"/usr/aarch64-linux-gnu/include\"\n",
      "LD=aarch64-linux-gnu-ld\n",
      "PATH=[/usr/aarch64-linux-gnu/bin]\n",
      "RANLIB=aarch64-linux-gnu-ranlib\n",
      "STRIP=aarch64-linux-gnu-strip\n",
      "\u001b[1m\u001b[36mdswbstatecount/1.3.0@nrc/stable: \u001b[0m\u001b[1m\u001b[37mNot found in local cache, looking in remotes...\u001b[0m\n",
      "\u001b[1m\u001b[36mdswbstatecount/1.3.0@nrc/stable: \u001b[0m\u001b[1m\u001b[37mTrying with 'ska'...\u001b[0m\n",
      "\u001b[1m\u001b[36mdswbstatecount/1.3.0@nrc/stable: \u001b[0m\u001b[1m\u001b[37mTrying with 'conan.io'...\u001b[0m\n",
      "\u001b[1m\u001b[31mERROR: Unable to find 'dswbstatecount/1.3.0@nrc/stable' in remotes\u001b[0m\n",
      "\u001b[0m[talondx.py: line 339]INFO: DS Binary: ds-wb-input-buffer\n",
      "[talondx.py: line 344]INFO: Conan info: {'package_name': 'dswbinputbuffer', 'user': 'nrc', 'channel': 'stable', 'version': '0.2.1', 'profile': 'conan_aarch64_profile.txt'}\n",
      "\u001b[1m\u001b[33mConan 1 is on a deprecation path, please consider migrating to Conan 2\u001b[0m\n",
      "\u001b[1m\u001b[36mConfiguration:\u001b[0m\n",
      "[settings]\n",
      "arch=armv8\n",
      "build_type=Release\n",
      "compiler=gcc\n",
      "compiler.libcxx=libstdc++11\n",
      "compiler.version=7\n",
      "os=Linux\n",
      "[options]\n",
      "[build_requires]\n",
      "[env]\n",
      "AR=aarch64-linux-gnu-ar\n",
      "AS=aarch64-linux-gnu-as\n",
      "CC=aarch64-linux-gnu-gcc\n",
      "CHOST=aarch64-linux-gnu\n",
      "CONAN_CMAKE_FIND_ROOT_PATH=/usr/aarch64-linux-gnu\n",
      "CONAN_CMAKE_SYSROOT=/usr/aarch64-linux-gnu\n",
      "CXX=aarch64-linux-gnu-g++\n",
      "CXXFLAGS=-I\"/usr/aarch64-linux-gnu/include\"\n",
      "LD=aarch64-linux-gnu-ld\n",
      "PATH=[/usr/aarch64-linux-gnu/bin]\n",
      "RANLIB=aarch64-linux-gnu-ranlib\n",
      "STRIP=aarch64-linux-gnu-strip\n",
      "\u001b[1m\u001b[36mdswbinputbuffer/0.2.1@nrc/stable: \u001b[0m\u001b[1m\u001b[37mNot found in local cache, looking in remotes...\u001b[0m\n",
      "\u001b[1m\u001b[36mdswbinputbuffer/0.2.1@nrc/stable: \u001b[0m\u001b[1m\u001b[37mTrying with 'ska'...\u001b[0m\n",
      "\u001b[1m\u001b[36mdswbinputbuffer/0.2.1@nrc/stable: \u001b[0m\u001b[1m\u001b[37mTrying with 'conan.io'...\u001b[0m\n",
      "\u001b[1m\u001b[31mERROR: Unable to find 'dswbinputbuffer/0.2.1@nrc/stable' in remotes\u001b[0m\n",
      "\u001b[0m[talondx.py: line 339]INFO: DS Binary: ds-resampler-delay-tracker\n",
      "[talondx.py: line 344]INFO: Conan info: {'package_name': 'ds-resampler-delay-tracker', 'user': 'nrc', 'channel': 'stable', 'version': '1.5.3', 'profile': 'conan_aarch64_profile.txt'}\n",
      "\u001b[1m\u001b[33mConan 1 is on a deprecation path, please consider migrating to Conan 2\u001b[0m\n",
      "\u001b[1m\u001b[36mConfiguration:\u001b[0m\n",
      "[settings]\n",
      "arch=armv8\n",
      "build_type=Release\n",
      "compiler=gcc\n",
      "compiler.libcxx=libstdc++11\n",
      "compiler.version=7\n",
      "os=Linux\n",
      "[options]\n",
      "[build_requires]\n",
      "[env]\n",
      "AR=aarch64-linux-gnu-ar\n",
      "AS=aarch64-linux-gnu-as\n",
      "CC=aarch64-linux-gnu-gcc\n",
      "CHOST=aarch64-linux-gnu\n",
      "CONAN_CMAKE_FIND_ROOT_PATH=/usr/aarch64-linux-gnu\n",
      "CONAN_CMAKE_SYSROOT=/usr/aarch64-linux-gnu\n",
      "CXX=aarch64-linux-gnu-g++\n",
      "CXXFLAGS=-I\"/usr/aarch64-linux-gnu/include\"\n",
      "LD=aarch64-linux-gnu-ld\n",
      "PATH=[/usr/aarch64-linux-gnu/bin]\n",
      "RANLIB=aarch64-linux-gnu-ranlib\n",
      "STRIP=aarch64-linux-gnu-strip\n",
      "\u001b[1m\u001b[36mds-resampler-delay-tracker/1.5.3@nrc/stable: \u001b[0m\u001b[1m\u001b[37mNot found in local cache, looking in remotes...\u001b[0m\n",
      "\u001b[1m\u001b[36mds-resampler-delay-tracker/1.5.3@nrc/stable: \u001b[0m\u001b[1m\u001b[37mTrying with 'ska'...\u001b[0m\n",
      "\u001b[1m\u001b[36mds-resampler-delay-tracker/1.5.3@nrc/stable: \u001b[0m\u001b[1m\u001b[37mTrying with 'conan.io'...\u001b[0m\n",
      "\u001b[1m\u001b[31mERROR: Unable to find 'ds-resampler-delay-tracker/1.5.3@nrc/stable' in remotes\u001b[0m\n",
      "\u001b[0m[talondx.py: line 339]INFO: DS Binary: ds-correlator\n",
      "[talondx.py: line 344]INFO: Conan info: {'package_name': 'dscorrelator', 'user': 'nrc', 'channel': 'stable', 'version': '2.1.0', 'profile': 'conan_aarch64_profile.txt'}\n",
      "\u001b[1m\u001b[33mConan 1 is on a deprecation path, please consider migrating to Conan 2\u001b[0m\n",
      "\u001b[1m\u001b[36mConfiguration:\u001b[0m\n",
      "[settings]\n",
      "arch=armv8\n",
      "build_type=Release\n",
      "compiler=gcc\n",
      "compiler.libcxx=libstdc++11\n",
      "compiler.version=7\n",
      "os=Linux\n",
      "[options]\n",
      "[build_requires]\n",
      "[env]\n",
      "AR=aarch64-linux-gnu-ar\n",
      "AS=aarch64-linux-gnu-as\n",
      "CC=aarch64-linux-gnu-gcc\n",
      "CHOST=aarch64-linux-gnu\n",
      "CONAN_CMAKE_FIND_ROOT_PATH=/usr/aarch64-linux-gnu\n",
      "CONAN_CMAKE_SYSROOT=/usr/aarch64-linux-gnu\n",
      "CXX=aarch64-linux-gnu-g++\n",
      "CXXFLAGS=-I\"/usr/aarch64-linux-gnu/include\"\n",
      "LD=aarch64-linux-gnu-ld\n",
      "PATH=[/usr/aarch64-linux-gnu/bin]\n",
      "RANLIB=aarch64-linux-gnu-ranlib\n",
      "STRIP=aarch64-linux-gnu-strip\n",
      "\u001b[1m\u001b[36mdscorrelator/2.1.0@nrc/stable: \u001b[0m\u001b[1m\u001b[37mNot found in local cache, looking in remotes...\u001b[0m\n",
      "\u001b[1m\u001b[36mdscorrelator/2.1.0@nrc/stable: \u001b[0m\u001b[1m\u001b[37mTrying with 'ska'...\u001b[0m\n",
      "\u001b[1m\u001b[36mdscorrelator/2.1.0@nrc/stable: \u001b[0m\u001b[1m\u001b[37mTrying with 'conan.io'...\u001b[0m\n",
      "\u001b[1m\u001b[31mERROR: Unable to find 'dscorrelator/2.1.0@nrc/stable' in remotes\u001b[0m\n",
      "\u001b[0m[talondx.py: line 339]INFO: DS Binary: ds-spead-descriptor\n",
      "[talondx.py: line 344]INFO: Conan info: {'package_name': 'dsspeaddescriptor', 'user': 'nrc', 'channel': 'stable', 'version': '1.5.0', 'profile': 'conan_aarch64_profile.txt'}\n",
      "\u001b[1m\u001b[33mConan 1 is on a deprecation path, please consider migrating to Conan 2\u001b[0m\n",
      "\u001b[1m\u001b[36mConfiguration:\u001b[0m\n",
      "[settings]\n",
      "arch=armv8\n",
      "build_type=Release\n",
      "compiler=gcc\n",
      "compiler.libcxx=libstdc++11\n",
      "compiler.version=7\n",
      "os=Linux\n",
      "[options]\n",
      "[build_requires]\n",
      "[env]\n",
      "AR=aarch64-linux-gnu-ar\n",
      "AS=aarch64-linux-gnu-as\n",
      "CC=aarch64-linux-gnu-gcc\n",
      "CHOST=aarch64-linux-gnu\n",
      "CONAN_CMAKE_FIND_ROOT_PATH=/usr/aarch64-linux-gnu\n",
      "CONAN_CMAKE_SYSROOT=/usr/aarch64-linux-gnu\n",
      "CXX=aarch64-linux-gnu-g++\n",
      "CXXFLAGS=-I\"/usr/aarch64-linux-gnu/include\"\n",
      "LD=aarch64-linux-gnu-ld\n",
      "PATH=[/usr/aarch64-linux-gnu/bin]\n",
      "RANLIB=aarch64-linux-gnu-ranlib\n",
      "STRIP=aarch64-linux-gnu-strip\n",
      "\u001b[1m\u001b[36mdsspeaddescriptor/1.5.0@nrc/stable: \u001b[0m\u001b[1m\u001b[37mNot found in local cache, looking in remotes...\u001b[0m\n",
      "\u001b[1m\u001b[36mdsspeaddescriptor/1.5.0@nrc/stable: \u001b[0m\u001b[1m\u001b[37mTrying with 'ska'...\u001b[0m\n",
      "\u001b[1m\u001b[36mdsspeaddescriptor/1.5.0@nrc/stable: \u001b[0m\u001b[1m\u001b[37mTrying with 'conan.io'...\u001b[0m\n",
      "\u001b[1m\u001b[31mERROR: Unable to find 'dsspeaddescriptor/1.5.0@nrc/stable' in remotes\u001b[0m\n",
      "\u001b[0m[talondx.py: line 339]INFO: DS Binary: ds-host-lut-stage-1\n",
      "[talondx.py: line 344]INFO: Conan info: {'package_name': 'dshostlutstage1', 'user': 'nrc', 'channel': 'stable', 'version': '1.4.0', 'profile': 'conan_aarch64_profile.txt'}\n",
      "\u001b[1m\u001b[33mConan 1 is on a deprecation path, please consider migrating to Conan 2\u001b[0m\n",
      "\u001b[1m\u001b[36mConfiguration:\u001b[0m\n",
      "[settings]\n",
      "arch=armv8\n",
      "build_type=Release\n",
      "compiler=gcc\n",
      "compiler.libcxx=libstdc++11\n",
      "compiler.version=7\n",
      "os=Linux\n",
      "[options]\n",
      "[build_requires]\n",
      "[env]\n",
      "AR=aarch64-linux-gnu-ar\n",
      "AS=aarch64-linux-gnu-as\n",
      "CC=aarch64-linux-gnu-gcc\n",
      "CHOST=aarch64-linux-gnu\n",
      "CONAN_CMAKE_FIND_ROOT_PATH=/usr/aarch64-linux-gnu\n",
      "CONAN_CMAKE_SYSROOT=/usr/aarch64-linux-gnu\n",
      "CXX=aarch64-linux-gnu-g++\n",
      "CXXFLAGS=-I\"/usr/aarch64-linux-gnu/include\"\n",
      "LD=aarch64-linux-gnu-ld\n",
      "PATH=[/usr/aarch64-linux-gnu/bin]\n",
      "RANLIB=aarch64-linux-gnu-ranlib\n",
      "STRIP=aarch64-linux-gnu-strip\n",
      "\u001b[1m\u001b[36mdshostlutstage1/1.4.0@nrc/stable: \u001b[0m\u001b[1m\u001b[37mNot found in local cache, looking in remotes...\u001b[0m\n",
      "\u001b[1m\u001b[36mdshostlutstage1/1.4.0@nrc/stable: \u001b[0m\u001b[1m\u001b[37mTrying with 'ska'...\u001b[0m\n",
      "\u001b[1m\u001b[36mdshostlutstage1/1.4.0@nrc/stable: \u001b[0m\u001b[1m\u001b[37mTrying with 'conan.io'...\u001b[0m\n",
      "\u001b[1m\u001b[31mERROR: Unable to find 'dshostlutstage1/1.4.0@nrc/stable' in remotes\u001b[0m\n",
      "\u001b[0m[talondx.py: line 339]INFO: DS Binary: ds-host-lut-stage-2\n",
      "[talondx.py: line 344]INFO: Conan info: {'package_name': 'dshostlutstage2', 'user': 'nrc', 'channel': 'stable', 'version': '1.7.0', 'profile': 'conan_aarch64_profile.txt'}\n",
      "\u001b[1m\u001b[33mConan 1 is on a deprecation path, please consider migrating to Conan 2\u001b[0m\n",
      "\u001b[1m\u001b[36mConfiguration:\u001b[0m\n",
      "[settings]\n",
      "arch=armv8\n",
      "build_type=Release\n",
      "compiler=gcc\n",
      "compiler.libcxx=libstdc++11\n",
      "compiler.version=7\n",
      "os=Linux\n",
      "[options]\n",
      "[build_requires]\n",
      "[env]\n",
      "AR=aarch64-linux-gnu-ar\n",
      "AS=aarch64-linux-gnu-as\n",
      "CC=aarch64-linux-gnu-gcc\n",
      "CHOST=aarch64-linux-gnu\n",
      "CONAN_CMAKE_FIND_ROOT_PATH=/usr/aarch64-linux-gnu\n",
      "CONAN_CMAKE_SYSROOT=/usr/aarch64-linux-gnu\n",
      "CXX=aarch64-linux-gnu-g++\n",
      "CXXFLAGS=-I\"/usr/aarch64-linux-gnu/include\"\n",
      "LD=aarch64-linux-gnu-ld\n",
      "PATH=[/usr/aarch64-linux-gnu/bin]\n",
      "RANLIB=aarch64-linux-gnu-ranlib\n",
      "STRIP=aarch64-linux-gnu-strip\n",
      "\u001b[1m\u001b[36mdshostlutstage2/1.7.0@nrc/stable: \u001b[0m\u001b[1m\u001b[37mNot found in local cache, looking in remotes...\u001b[0m\n",
      "\u001b[1m\u001b[36mdshostlutstage2/1.7.0@nrc/stable: \u001b[0m\u001b[1m\u001b[37mTrying with 'ska'...\u001b[0m\n",
      "\u001b[1m\u001b[36mdshostlutstage2/1.7.0@nrc/stable: \u001b[0m\u001b[1m\u001b[37mTrying with 'conan.io'...\u001b[0m\n",
      "\u001b[1m\u001b[31mERROR: Unable to find 'dshostlutstage2/1.7.0@nrc/stable' in remotes\u001b[0m\n",
      "\u001b[0m[talondx.py: line 339]INFO: DS Binary: ska-mid-cbf-fsp-app\n",
      "[talondx.py: line 344]INFO: Conan info: {'package_name': 'ska-mid-cbf-fsp-app', 'user': 'nrc', 'channel': 'stable', 'version': '0.4.8', 'profile': 'conan_aarch64_profile.txt'}\n",
      "\u001b[1m\u001b[33mConan 1 is on a deprecation path, please consider migrating to Conan 2\u001b[0m\n",
      "\u001b[1m\u001b[36mConfiguration:\u001b[0m\n",
      "[settings]\n",
      "arch=armv8\n",
      "build_type=Release\n",
      "compiler=gcc\n",
      "compiler.libcxx=libstdc++11\n",
      "compiler.version=7\n",
      "os=Linux\n",
      "[options]\n",
      "[build_requires]\n",
      "[env]\n",
      "AR=aarch64-linux-gnu-ar\n",
      "AS=aarch64-linux-gnu-as\n",
      "CC=aarch64-linux-gnu-gcc\n",
      "CHOST=aarch64-linux-gnu\n",
      "CONAN_CMAKE_FIND_ROOT_PATH=/usr/aarch64-linux-gnu\n",
      "CONAN_CMAKE_SYSROOT=/usr/aarch64-linux-gnu\n",
      "CXX=aarch64-linux-gnu-g++\n",
      "CXXFLAGS=-I\"/usr/aarch64-linux-gnu/include\"\n",
      "LD=aarch64-linux-gnu-ld\n",
      "PATH=[/usr/aarch64-linux-gnu/bin]\n",
      "RANLIB=aarch64-linux-gnu-ranlib\n",
      "STRIP=aarch64-linux-gnu-strip\n",
      "\u001b[1m\u001b[36mska-mid-cbf-fsp-app/0.4.8@nrc/stable: \u001b[0m\u001b[1m\u001b[37mNot found in local cache, looking in remotes...\u001b[0m\n",
      "\u001b[1m\u001b[36mska-mid-cbf-fsp-app/0.4.8@nrc/stable: \u001b[0m\u001b[1m\u001b[37mTrying with 'ska'...\u001b[0m\n",
      "\u001b[1m\u001b[36mska-mid-cbf-fsp-app/0.4.8@nrc/stable: \u001b[0m\u001b[1m\u001b[37mTrying with 'conan.io'...\u001b[0m\n",
      "\u001b[1m\u001b[31mERROR: Unable to find 'ska-mid-cbf-fsp-app/0.4.8@nrc/stable' in remotes\u001b[0m\n",
      "\u001b[0m[talondx.py: line 339]INFO: DS Binary: ds-slim-tx-rx\n",
      "[talondx.py: line 344]INFO: Conan info: {'package_name': 'dsslimtxrx', 'user': 'nrc', 'channel': 'stable', 'version': '2.1.2', 'profile': 'conan_aarch64_profile.txt'}\n",
      "\u001b[1m\u001b[33mConan 1 is on a deprecation path, please consider migrating to Conan 2\u001b[0m\n",
      "\u001b[1m\u001b[36mConfiguration:\u001b[0m\n",
      "[settings]\n",
      "arch=armv8\n",
      "build_type=Release\n",
      "compiler=gcc\n",
      "compiler.libcxx=libstdc++11\n",
      "compiler.version=7\n",
      "os=Linux\n",
      "[options]\n",
      "[build_requires]\n",
      "[env]\n",
      "AR=aarch64-linux-gnu-ar\n",
      "AS=aarch64-linux-gnu-as\n",
      "CC=aarch64-linux-gnu-gcc\n",
      "CHOST=aarch64-linux-gnu\n",
      "CONAN_CMAKE_FIND_ROOT_PATH=/usr/aarch64-linux-gnu\n",
      "CONAN_CMAKE_SYSROOT=/usr/aarch64-linux-gnu\n",
      "CXX=aarch64-linux-gnu-g++\n",
      "CXXFLAGS=-I\"/usr/aarch64-linux-gnu/include\"\n",
      "LD=aarch64-linux-gnu-ld\n",
      "PATH=[/usr/aarch64-linux-gnu/bin]\n",
      "RANLIB=aarch64-linux-gnu-ranlib\n",
      "STRIP=aarch64-linux-gnu-strip\n",
      "\u001b[1m\u001b[36mdsslimtxrx/2.1.2@nrc/stable: \u001b[0m\u001b[1m\u001b[37mNot found in local cache, looking in remotes...\u001b[0m\n",
      "\u001b[1m\u001b[36mdsslimtxrx/2.1.2@nrc/stable: \u001b[0m\u001b[1m\u001b[37mTrying with 'ska'...\u001b[0m\n",
      "\u001b[1m\u001b[36mdsslimtxrx/2.1.2@nrc/stable: \u001b[0m\u001b[1m\u001b[37mTrying with 'conan.io'...\u001b[0m\n",
      "\u001b[1m\u001b[31mERROR: Unable to find 'dsslimtxrx/2.1.2@nrc/stable' in remotes\u001b[0m\n",
      "\u001b[0m[talondx.py: line 339]INFO: DS Binary: ds-packet-stream-repair\n",
      "[talondx.py: line 344]INFO: Conan info: {'package_name': 'dspacketstreamrepair', 'user': 'nrc', 'channel': 'stable', 'version': '1.3.0', 'profile': 'conan_aarch64_profile.txt'}\n",
      "\u001b[1m\u001b[33mConan 1 is on a deprecation path, please consider migrating to Conan 2\u001b[0m\n",
      "\u001b[1m\u001b[36mConfiguration:\u001b[0m\n",
      "[settings]\n",
      "arch=armv8\n",
      "build_type=Release\n",
      "compiler=gcc\n",
      "compiler.libcxx=libstdc++11\n",
      "compiler.version=7\n",
      "os=Linux\n",
      "[options]\n",
      "[build_requires]\n",
      "[env]\n",
      "AR=aarch64-linux-gnu-ar\n",
      "AS=aarch64-linux-gnu-as\n",
      "CC=aarch64-linux-gnu-gcc\n",
      "CHOST=aarch64-linux-gnu\n",
      "CONAN_CMAKE_FIND_ROOT_PATH=/usr/aarch64-linux-gnu\n",
      "CONAN_CMAKE_SYSROOT=/usr/aarch64-linux-gnu\n",
      "CXX=aarch64-linux-gnu-g++\n",
      "CXXFLAGS=-I\"/usr/aarch64-linux-gnu/include\"\n",
      "LD=aarch64-linux-gnu-ld\n",
      "PATH=[/usr/aarch64-linux-gnu/bin]\n",
      "RANLIB=aarch64-linux-gnu-ranlib\n",
      "STRIP=aarch64-linux-gnu-strip\n",
      "\u001b[1m\u001b[36mdspacketstreamrepair/1.3.0@nrc/stable: \u001b[0m\u001b[1m\u001b[37mNot found in local cache, looking in remotes...\u001b[0m\n",
      "\u001b[1m\u001b[36mdspacketstreamrepair/1.3.0@nrc/stable: \u001b[0m\u001b[1m\u001b[37mTrying with 'ska'...\u001b[0m\n",
      "\u001b[1m\u001b[36mdspacketstreamrepair/1.3.0@nrc/stable: \u001b[0m\u001b[1m\u001b[37mTrying with 'conan.io'...\u001b[0m\n",
      "\u001b[1m\u001b[31mERROR: Unable to find 'dspacketstreamrepair/1.3.0@nrc/stable' in remotes\u001b[0m\n",
      "\u001b[0m[talondx.py: line 339]INFO: DS Binary: ds-histogram\n",
      "[talondx.py: line 344]INFO: Conan info: {'package_name': 'ds-histogram', 'user': 'nrc', 'channel': 'stable', 'version': '1.2.1', 'profile': 'conan_aarch64_profile.txt'}\n",
      "\u001b[1m\u001b[33mConan 1 is on a deprecation path, please consider migrating to Conan 2\u001b[0m\n",
      "\u001b[1m\u001b[36mConfiguration:\u001b[0m\n",
      "[settings]\n",
      "arch=armv8\n",
      "build_type=Release\n",
      "compiler=gcc\n",
      "compiler.libcxx=libstdc++11\n",
      "compiler.version=7\n",
      "os=Linux\n",
      "[options]\n",
      "[build_requires]\n",
      "[env]\n",
      "AR=aarch64-linux-gnu-ar\n",
      "AS=aarch64-linux-gnu-as\n",
      "CC=aarch64-linux-gnu-gcc\n",
      "CHOST=aarch64-linux-gnu\n",
      "CONAN_CMAKE_FIND_ROOT_PATH=/usr/aarch64-linux-gnu\n",
      "CONAN_CMAKE_SYSROOT=/usr/aarch64-linux-gnu\n",
      "CXX=aarch64-linux-gnu-g++\n",
      "CXXFLAGS=-I\"/usr/aarch64-linux-gnu/include\"\n",
      "LD=aarch64-linux-gnu-ld\n",
      "PATH=[/usr/aarch64-linux-gnu/bin]\n",
      "RANLIB=aarch64-linux-gnu-ranlib\n",
      "STRIP=aarch64-linux-gnu-strip\n",
      "\u001b[1m\u001b[36mds-histogram/1.2.1@nrc/stable: \u001b[0m\u001b[1m\u001b[37mNot found in local cache, looking in remotes...\u001b[0m\n",
      "\u001b[1m\u001b[36mds-histogram/1.2.1@nrc/stable: \u001b[0m\u001b[1m\u001b[37mTrying with 'ska'...\u001b[0m\n",
      "\u001b[1m\u001b[36mds-histogram/1.2.1@nrc/stable: \u001b[0m\u001b[1m\u001b[37mTrying with 'conan.io'...\u001b[0m\n",
      "\u001b[1m\u001b[31mERROR: Unable to find 'ds-histogram/1.2.1@nrc/stable' in remotes\u001b[0m\n",
      "\u001b[0m[talondx.py: line 339]INFO: DS Binary: ska-talondx-bsp-ds\n",
      "[talondx.py: line 344]INFO: Conan info: {'package_name': 'ska-talondx-bsp-ds', 'user': 'nrc', 'channel': 'stable', 'version': '1.1.0', 'profile': 'conan_aarch64_profile.txt'}\n",
      "\u001b[1m\u001b[33mConan 1 is on a deprecation path, please consider migrating to Conan 2\u001b[0m\n",
      "\u001b[1m\u001b[36mConfiguration:\u001b[0m\n",
      "[settings]\n",
      "arch=armv8\n",
      "build_type=Release\n",
      "compiler=gcc\n",
      "compiler.libcxx=libstdc++11\n",
      "compiler.version=7\n",
      "os=Linux\n",
      "[options]\n",
      "[build_requires]\n",
      "[env]\n",
      "AR=aarch64-linux-gnu-ar\n",
      "AS=aarch64-linux-gnu-as\n",
      "CC=aarch64-linux-gnu-gcc\n",
      "CHOST=aarch64-linux-gnu\n",
      "CONAN_CMAKE_FIND_ROOT_PATH=/usr/aarch64-linux-gnu\n",
      "CONAN_CMAKE_SYSROOT=/usr/aarch64-linux-gnu\n",
      "CXX=aarch64-linux-gnu-g++\n",
      "CXXFLAGS=-I\"/usr/aarch64-linux-gnu/include\"\n",
      "LD=aarch64-linux-gnu-ld\n",
      "PATH=[/usr/aarch64-linux-gnu/bin]\n",
      "RANLIB=aarch64-linux-gnu-ranlib\n",
      "STRIP=aarch64-linux-gnu-strip\n",
      "\u001b[1m\u001b[36mska-talondx-bsp-ds/1.1.0@nrc/stable: \u001b[0m\u001b[1m\u001b[37mNot found in local cache, looking in remotes...\u001b[0m\n",
      "\u001b[1m\u001b[36mska-talondx-bsp-ds/1.1.0@nrc/stable: \u001b[0m\u001b[1m\u001b[37mTrying with 'ska'...\u001b[0m\n",
      "\u001b[1m\u001b[36mska-talondx-bsp-ds/1.1.0@nrc/stable: \u001b[0m\u001b[1m\u001b[37mTrying with 'conan.io'...\u001b[0m\n",
      "\u001b[1m\u001b[31mERROR: Unable to find 'ska-talondx-bsp-ds/1.1.0@nrc/stable' in remotes\u001b[0m\n",
      "\u001b[0m[talondx.py: line 383]INFO: FPGA bitstream ska-mid-cbf-talondx-0.2.6\n",
      "[talondx.py: line 402]INFO: <Response [404]>\n",
      "[talondx.py: line 487]INFO: User: root\n",
      "[talondx.py: line 530]INFO: Configure DB - TANGO_HOST = databaseds-tango-base:10000\n",
      "[talondx.py: line 225]INFO: Configure Tango DB\n",
      "Traceback (most recent call last):\n",
      "  File \"/app/images/ska-mid-cbf-engineering-console-deployer/midcbf_deployer.py\", line 534, in <module>\n",
      "    configure_tango_db(config.tango_db())\n",
      "  File \"/app/images/ska-mid-cbf-engineering-console-deployer/midcbf_deployer.py\", line 226, in configure_tango_db\n",
      "    configure_db(inputjson=tango_db.get(\"db_servers\", \"\"))\n",
      "  File \"/app/images/ska-mid-cbf-engineering-console-deployer/midcbf_deployer.py\", line 172, in configure_db\n",
      "    bitstream_f = open(\n",
      "FileNotFoundError: [Errno 2] No such file or directory: '/app/images/ska-mid-cbf-engineering-console-deployer/artifacts/fpga-talon/bin/talon_dx-tdc_base-tdc_vcc_processing.json'\n",
      "command terminated with exit code 1\n"
     ]
    }
   ],
   "source": [
    "deployer_board_target = TARGET_BOARD[0]\n",
    "print(\"Talon board -> {}\".format(deployer_board_target))\n",
    "!kubectl exec -ti -n $NS ec-deployer -- python3 midcbf_deployer.py --generate-talondx-config --boards=$deployer_board_target\n",
    "!kubectl exec -ti -n $NS ec-deployer -- python3 midcbf_deployer.py --download-artifacts\n",
    "!kubectl exec -ti -n $NS ec-deployer -- python3 midcbf_deployer.py --config-db"
   ]
  },
  {
   "cell_type": "markdown",
   "metadata": {},
   "source": [
    "Ensure that the download steps runs, and reaches completion."
   ]
  },
  {
   "cell_type": "markdown",
   "metadata": {},
   "source": [
    "## Deploying Using the Deployer Device"
   ]
  },
  {
   "cell_type": "markdown",
   "metadata": {},
   "source": [
    "First, we set the target talon boards we want to set up our configuration for. In Jive/Taranta, this would be configured by manually writing the attribute via the UI. Multiple boards can be targeted."
   ]
  },
  {
   "cell_type": "code",
   "execution_count": 23,
   "metadata": {},
   "outputs": [
    {
     "name": "stdout",
     "output_type": "stream",
     "text": [
      "[3]\n"
     ]
    }
   ],
   "source": [
    "deployer_tango.targetTalons = TARGET_BOARD\n",
    "print(deployer_tango.targetTalons)"
   ]
  },
  {
   "cell_type": "markdown",
   "metadata": {},
   "source": [
    "With this set, we can then run the configuration command by calling the generate_config_jsons command."
   ]
  },
  {
   "cell_type": "code",
   "execution_count": 24,
   "metadata": {},
   "outputs": [],
   "source": [
    "deployer_tango.generate_config_jsons()"
   ]
  },
  {
   "cell_type": "markdown",
   "metadata": {},
   "source": [
    "We then get the device artifacts from the [artifact repository](https://artefact.skao.int/#browse/browse:helm-internal) by running the command via TANGO. This step may take some time as it downloads multiple devices."
   ]
  },
  {
   "cell_type": "code",
   "execution_count": 25,
   "metadata": {},
   "outputs": [],
   "source": [
    "deployer_tango.set_timeout_millis(200000)\n",
    "try:\n",
    "    deployer_tango.download_artifacts()\n",
    "except Exception as e:\n",
    "    print(e)\n",
    "    print(\"Timed out, this is likely due to the download taking some time. Check the logs with the code space below after some time to see if it passes.\")\n",
    "deployer_tango.set_timeout_millis(4500)"
   ]
  },
  {
   "cell_type": "markdown",
   "metadata": {},
   "source": [
    "To check that the artifacts downloaded successfully, we want to check that the following returns something like `INFO|Dummy-2|download_fpga_bitstreams|midcbf_deployer.py#418||Finished downloading`. "
   ]
  },
  {
   "cell_type": "code",
   "execution_count": 28,
   "metadata": {},
   "outputs": [],
   "source": [
    "!kubectl logs -n $NS ds-deployer-deployer-0 | grep 'Finished downloading'"
   ]
  },
  {
   "cell_type": "markdown",
   "metadata": {},
   "source": [
    "Finally, we can configure the TANGO database with all the tango devices we just downloaded using the ConfigDB command."
   ]
  },
  {
   "cell_type": "code",
   "execution_count": null,
   "metadata": {},
   "outputs": [],
   "source": [
    "deployer_tango.configure_db()"
   ]
  },
  {
   "cell_type": "markdown",
   "metadata": {},
   "source": [
    "The TANGO database should now be configured with all the devices needed for the next step, running the BITE device."
   ]
  },
  {
   "cell_type": "code",
   "execution_count": null,
   "metadata": {},
   "outputs": [],
   "source": [
    "print(*db.get_device_exported(\"*\").value_string, sep=\"\\n\")"
   ]
  },
  {
   "cell_type": "markdown",
   "metadata": {},
   "source": [
    "## Uploading Controller Settings and Starting the Boards"
   ]
  },
  {
   "cell_type": "markdown",
   "metadata": {},
   "source": [
    "Now that we have the requried devices deployed and exported, we can set up the DeviceProxies for the devices we'll use in the next steps:"
   ]
  },
  {
   "cell_type": "code",
   "execution_count": 36,
   "metadata": {},
   "outputs": [
    {
     "name": "stdout",
     "output_type": "stream",
     "text": [
      "The device is in DISABLE state.\n",
      "The device is in DISABLE state.\n",
      "The device is in DISABLE state.\n"
     ]
    }
   ],
   "source": [
    "control_tango = DeviceProxy(\"mid-csp/control/0\")\n",
    "print(control_tango.status())\n",
    "subarray_tango = DeviceProxy(\"mid-csp/subarray/01\")\n",
    "print(subarray_tango.status())\n",
    "CBF_tango = DeviceProxy(\"mid_csp_cbf/sub_elt/controller\")\n",
    "print(CBF_tango.status())"
   ]
  },
  {
   "cell_type": "markdown",
   "metadata": {},
   "source": [
    "**Before running this step and the following steps, ensure that you have checked out the boards you have selected to use!**\n",
    "***"
   ]
  },
  {
   "cell_type": "markdown",
   "metadata": {},
   "source": [
    "We can then set adminMode to 0 (ONLINE), allowing us to run commands, and set simulationMode to 0 (FALSE)."
   ]
  },
  {
   "cell_type": "code",
   "execution_count": 37,
   "metadata": {},
   "outputs": [
    {
     "name": "stdout",
     "output_type": "stream",
     "text": [
      "Set to simulation mode on.\n"
     ]
    }
   ],
   "source": [
    "# Set relevant values on the mid-csp controller\n",
    "control_tango.adminMode = 0 \n",
    "control_tango.write_attribute(\"cbfSimulationMode\", 0)\n",
    "control_tango.cbfSimulationMode = 1\n",
    "\n",
    "if control_tango.read_attribute(\"adminMode\").value == 0 and control_tango.read_attribute(\"cbfSimulationMode\").value == 0:\n",
    "    print (\"Set values successfully!\")\n",
    "elif control_tango.read_attribute(\"adminMode\").value == 0 and control_tango.read_attribute(\"cbfSimulationMode\").value == 1:\n",
    "    print (\"Set to simulation mode on.\")\n",
    "else:\n",
    "    print (\"Error, couldn't set values!\")"
   ]
  },
  {
   "cell_type": "markdown",
   "metadata": {},
   "source": [
    "Checking the status dashboard, it should now display that all devices are both OFF and that the simulationstate is FALSE."
   ]
  },
  {
   "cell_type": "markdown",
   "metadata": {},
   "source": [
    " Next, we load in a inital values parameters and pass it to the controller, to do this we read in JSON file and pass it as a DevString to the relevant device command: "
   ]
  },
  {
   "cell_type": "code",
   "execution_count": 38,
   "metadata": {},
   "outputs": [
    {
     "name": "stdout",
     "output_type": "stream",
     "text": [
      "['CbfController InitSysParam command completed OK']\n"
     ]
    }
   ],
   "source": [
    "init_sys_param_file = os.path.join(COMMON_FILE_LOCATION, \"sys_params/initial_system_param.json\")\n",
    "\n",
    "with open(init_sys_param_file) as init_file:\n",
    "    data = json.load(init_file)\n",
    "upload_result = CBF_tango.InitSysParam(json.dumps(data))\n",
    "print(upload_result[1])"
   ]
  },
  {
   "cell_type": "markdown",
   "metadata": {},
   "source": [
    "Now, we turn ON the Controller by passing it the device we want to turn on, and letting it run for 45ms to give the boards time to power on."
   ]
  },
  {
   "cell_type": "code",
   "execution_count": 39,
   "metadata": {},
   "outputs": [
    {
     "name": "stdout",
     "output_type": "stream",
     "text": [
      "The device is in OFF state.\n",
      "The device is in ON state.\n"
     ]
    }
   ],
   "source": [
    "print(control_tango.status())\n",
    "control_tango.set_timeout_millis(50000)\n",
    "target = [\"mid_csp_cbf/sub_elt/controller\"]\n",
    "control_tango.On(target)\n",
    "sleep(55)\n",
    "print(control_tango.status())"
   ]
  },
  {
   "cell_type": "markdown",
   "metadata": {},
   "source": [
    "After running this step, check with the Tarnata dashboard to check that the boards are started."
   ]
  },
  {
   "cell_type": "markdown",
   "metadata": {},
   "source": [
    "## Running Commands in BITE Through Comamnd Line Args (Old Method)"
   ]
  },
  {
   "cell_type": "markdown",
   "metadata": {},
   "source": [
    "This is the older method for running BITE commands, utilizing kubectl to run python files directly:"
   ]
  },
  {
   "cell_type": "markdown",
   "metadata": {},
   "source": [
    "First we configure, specificing the MAC adress of the boards and the board # to configure."
   ]
  },
  {
   "cell_type": "code",
   "execution_count": null,
   "metadata": {},
   "outputs": [],
   "source": [
    "target_mac_address = \"08:c0:eb:9d:47:78\"\n",
    "standin_board = TARGET_BOARD[0]\n",
    "!kubectl exec -ti -n $NS ec-bite -- python3 midcbf_bite.py --talon-bite-config --boards=$standin_board --bite_mac_address=$target_mac_address"
   ]
  },
  {
   "cell_type": "markdown",
   "metadata": {},
   "source": [
    "Then we start LSTV replay, check the logs and get the epoch value to use later (`INFO: start_utc_time_offset = start_utc_time.unix_tai - ska_epoch_tai = <EPOCH VALUE TO COPY>`)"
   ]
  },
  {
   "cell_type": "code",
   "execution_count": null,
   "metadata": {},
   "outputs": [],
   "source": [
    "!kubectl exec -ti -n $NS ec-bite -- python3 midcbf_bite.py --talon-bite-lstv-replay --boards=$standin_board"
   ]
  },
  {
   "cell_type": "markdown",
   "metadata": {},
   "source": [
    "## Running Commands Through the BITE Device"
   ]
  },
  {
   "cell_type": "markdown",
   "metadata": {},
   "source": [
    "Now that the BITE tango Device has been deployed via the deployer, we can use it to configure tests. First we check the device is running."
   ]
  },
  {
   "cell_type": "code",
   "execution_count": null,
   "metadata": {},
   "outputs": [],
   "source": [
    "target_mac_address = \"08:c0:eb:9d:47:78\"\n",
    "bite_tango = DeviceProxy(\"mid_csp_cbf/ec/bite\")\n",
    "# Running this should return RUNNING\n",
    "print(bite_tango.State())"
   ]
  },
  {
   "cell_type": "markdown",
   "metadata": {},
   "source": [
    "Now that we have confirmed it is running, we load in what board we want to configure."
   ]
  },
  {
   "cell_type": "code",
   "execution_count": null,
   "metadata": {},
   "outputs": [],
   "source": [
    "bite_tango.boards = TARGET_BOARD\n",
    "bite_tango.bite_mac_address = target_mac_address"
   ]
  },
  {
   "cell_type": "markdown",
   "metadata": {},
   "source": [
    "For now, we can use the defaults and simply call the write command for the test configs. This should return the configuration for each board passed in."
   ]
  },
  {
   "cell_type": "code",
   "execution_count": null,
   "metadata": {},
   "outputs": [],
   "source": [
    "#print(bite_tango.command_inout(\"generate_bite_data\"))\n",
    "\n",
    "# For now run the backup\n",
    "standin_board = TARGET_BOARD[0]\n",
    "print(standin_board)\n",
    "!kubectl exec -ti -n $NS ec-bite -- python3 midcbf_bite.py --talon-bite-config --boards=$standin_board --bite_mac_address=$target_mac_address"
   ]
  },
  {
   "cell_type": "code",
   "execution_count": null,
   "metadata": {},
   "outputs": [],
   "source": [
    "!kubectl -n $NS logs ds-bite-bite-0 | grep generate_bite_data"
   ]
  },
  {
   "cell_type": "markdown",
   "metadata": {},
   "source": [
    "With the bite data generated, we can then start generating LSTV playback data:"
   ]
  },
  {
   "cell_type": "code",
   "execution_count": null,
   "metadata": {},
   "outputs": [],
   "source": [
    "bite_tango.start_lstv_replay()"
   ]
  },
  {
   "cell_type": "markdown",
   "metadata": {},
   "source": [
    "We can then check the logs to ensure the LSTV geneartion runs correctly."
   ]
  },
  {
   "cell_type": "code",
   "execution_count": null,
   "metadata": {},
   "outputs": [],
   "source": [
    "!kubectl -n $NS logs ds-bite-bite-0 | grep start_lstv_replay"
   ]
  },
  {
   "cell_type": "markdown",
   "metadata": {},
   "source": [
    "## Assigning Resources"
   ]
  },
  {
   "cell_type": "markdown",
   "metadata": {},
   "source": [
    "Next, we use the relevant subarray device to assign resources. First, as with the other devices, we establish a DeviceProxy to connect to it. We also read in the assign_resources file to load in using the command. "
   ]
  },
  {
   "cell_type": "markdown",
   "metadata": {},
   "source": [
    "For the loaded data, we must ensure the right board is selected, modifying the data for the receptor ID based on the Talon board selected."
   ]
  },
  {
   "cell_type": "code",
   "execution_count": 40,
   "metadata": {},
   "outputs": [
    {
     "name": "stdout",
     "output_type": "stream",
     "text": [
      "{'interface': 'https://schema.skao.int/ska-csp-assignresources/2.2', 'subarray_id': 1, 'dish': {'receptor_ids': ['SKA001']}}\n",
      "{\"interface\": \"https://schema.skao.int/ska-csp-assignresources/2.2\", \"subarray_id\": 1, \"dish\": {\"receptor_ids\": [\"SKA063\"]}}\n"
     ]
    }
   ],
   "source": [
    "# Load in the data from the file.\n",
    "subarray_tango = DeviceProxy(\"mid-csp/subarray/01\")\n",
    "assign_resources_file = os.path.join(CORRELATOR_FILE_LOCATION, \"assign_resources.json\")\n",
    "with open(assign_resources_file) as init_file:\n",
    "    config_dict = json.load(init_file)\n",
    "\n",
    "# In order to use the correct receptor, we modify the assign_resources data to use the correct receptor based on the board we're using\n",
    "receptor_map = [\"SKA001\",\"SKA036\",\"SKA063\",\"SKA100\"]\n",
    "print(config_dict)\n",
    "config_dict['dish']['receptor_ids'] = list(map(lambda x:receptor_map[x-1],TARGET_BOARD))\n",
    "print(json.dumps(config_dict))\n"
   ]
  },
  {
   "cell_type": "markdown",
   "metadata": {},
   "source": [
    "Next,we run the actual command to pass in the resources:"
   ]
  },
  {
   "cell_type": "code",
   "execution_count": 41,
   "metadata": {},
   "outputs": [
    {
     "name": "stdout",
     "output_type": "stream",
     "text": [
      "obsState.IDLE\n"
     ]
    }
   ],
   "source": [
    "subarray_tango.AssignResources(json.dumps(config_dict))\n",
    "while subarray_tango.obsState != 2:\n",
    "    pass\n",
    "print(subarray_tango.obsState)"
   ]
  },
  {
   "cell_type": "markdown",
   "metadata": {},
   "source": [
    "## SDP Setup"
   ]
  },
  {
   "cell_type": "markdown",
   "metadata": {},
   "source": [
    "Next, we run a few commands to set up the Science Data Processor (SDP), utilizing the sdp namespace"
   ]
  },
  {
   "cell_type": "markdown",
   "metadata": {},
   "source": [
    "First, we get the files needed to set up the SDP, if you require custom files, load in new ones or change the commands to point to them."
   ]
  },
  {
   "cell_type": "code",
   "execution_count": 45,
   "metadata": {},
   "outputs": [
    {
     "name": "stdout",
     "output_type": "stream",
     "text": [
      "All files loaded correctly\n"
     ]
    }
   ],
   "source": [
    "# Change this if you want to use a different folder for files\n",
    "SPD_FOLDER = CORRELATOR_FILE_LOCATION\n",
    "\n",
    "sdp_assign_resources_file = os.path.join(SPD_FOLDER,\"assign_resources_sdp.json\")\n",
    "sdp_configure_file = os.path.join(SPD_FOLDER,\"configure_sdp.json\")\n",
    "sdp_scan_file = os.path.join(SPD_FOLDER,\"scan_sdp.json\")\n",
    "if not os.path.isfile(sdp_scan_file) or not os.path.isfile(sdp_configure_file) or not os.path.isfile(sdp_assign_resources_file):\n",
    "    print(\"Warning, one or more of the files pointed to doesn't exist!\")\n",
    "else: \n",
    "    print(\"All files loaded correctly\")"
   ]
  },
  {
   "cell_type": "markdown",
   "metadata": {},
   "source": [
    "Next, we set up a proxy to the SDP device:"
   ]
  },
  {
   "cell_type": "code",
   "execution_count": 50,
   "metadata": {},
   "outputs": [
    {
     "name": "stdout",
     "output_type": "stream",
     "text": [
      "The device is in ON state.\n"
     ]
    }
   ],
   "source": [
    "sdp_tango = DeviceProxy(\"test-sdp/subarray/01\")\n",
    "sdp_tango.On()\n",
    "print(sdp_tango.Status())"
   ]
  },
  {
   "cell_type": "markdown",
   "metadata": {},
   "source": [
    "Now, we assign resources as we did with the subarray, as with the csp, we map the receptor boards based on our checked out board."
   ]
  },
  {
   "cell_type": "code",
   "execution_count": 51,
   "metadata": {},
   "outputs": [
    {
     "name": "stdout",
     "output_type": "stream",
     "text": [
      "{'interface': 'https://schema.skao.int/ska-sdp-assignres/0.4', 'resources': {'csp_links': [1, 2, 3, 4], 'receptors': ['SKA001'], 'receive_nodes': 1}, 'execution_block': {'eb_id': 'eb-test-20210630-00019', 'context': {}, 'max_length': 21600.0, 'channels': [{'channels_id': 'vis_channels', 'spectral_windows': [{'spectral_window_id': 'fsp_1_channels', 'count': 100, 'start': 0, 'stride': 1, 'freq_min': 296368100.0, 'freq_max': 297712100.0, 'link_map': [[0, 0], [200, 1], [744, 2], [944, 3]]}]}], 'polarisations': [{'polarisations_id': 'all', 'corr_type': ['XX', 'XY', 'YY', 'YX']}], 'fields': [{'field_id': 'field_a', 'phase_dir': {'ra': [2.711325], 'dec': [-0.01328889], 'reference_time': '...', 'reference_frame': 'ICRF3'}, 'pointing_fqdn': 'low-tmc/telstate/0/pointing'}, {'field_id': 'field_b', 'phase_dir': {'ra': [12.48519], 'dec': [2.052388], 'reference_time': '...', 'reference_frame': 'ICRF3'}, 'pointing_fqdn': 'low-tmc/telstate/0/pointing'}], 'beams': [{'beam_id': 'vis0', 'function': 'visibilities'}], 'scan_types': [{'scan_type_id': '.default', 'beams': {'vis0': {'polarisations_id': 'all', 'channels_id': 'vis_channels'}}}, {'scan_type_id': 'science', 'derive_from': '.default', 'beams': {'vis0': {'field_id': 'field_a'}}}, {'scan_type_id': 'calibration', 'derive_from': '.default', 'beams': {'vis0': {'field_id': 'field_b'}}}]}, 'processing_blocks': [{'pb_id': 'pb-test-20211111-00019', 'script': {'kind': 'realtime', 'name': 'vis-receive', 'version': '4.0.0'}, 'parameters': {'channels_per_port': 20, 'queue_connector_configuration': {}, 'transport_protocol': 'udp', 'use_network_definition': True, 'extra_helm_values': {'receiver': {'options': {'reception': {'reset_time_indexing_after_each_scan': True}, 'telescope_model': {'telmodel_key': 'instrument/ska1_mid/layout/mid-layout.json'}}}}, 'pod_settings': [{'securityContext': {'runAsUser': 0, 'fsGroup': 0}}]}}]}\n",
      "{\"interface\": \"https://schema.skao.int/ska-sdp-assignres/0.4\", \"resources\": {\"csp_links\": [1, 2, 3, 4], \"receptors\": [\"SKA063\"], \"receive_nodes\": 1}, \"execution_block\": {\"eb_id\": \"eb-test-20210630-00019\", \"context\": {}, \"max_length\": 21600.0, \"channels\": [{\"channels_id\": \"vis_channels\", \"spectral_windows\": [{\"spectral_window_id\": \"fsp_1_channels\", \"count\": 100, \"start\": 0, \"stride\": 1, \"freq_min\": 296368100.0, \"freq_max\": 297712100.0, \"link_map\": [[0, 0], [200, 1], [744, 2], [944, 3]]}]}], \"polarisations\": [{\"polarisations_id\": \"all\", \"corr_type\": [\"XX\", \"XY\", \"YY\", \"YX\"]}], \"fields\": [{\"field_id\": \"field_a\", \"phase_dir\": {\"ra\": [2.711325], \"dec\": [-0.01328889], \"reference_time\": \"...\", \"reference_frame\": \"ICRF3\"}, \"pointing_fqdn\": \"low-tmc/telstate/0/pointing\"}, {\"field_id\": \"field_b\", \"phase_dir\": {\"ra\": [12.48519], \"dec\": [2.052388], \"reference_time\": \"...\", \"reference_frame\": \"ICRF3\"}, \"pointing_fqdn\": \"low-tmc/telstate/0/pointing\"}], \"beams\": [{\"beam_id\": \"vis0\", \"function\": \"visibilities\"}], \"scan_types\": [{\"scan_type_id\": \".default\", \"beams\": {\"vis0\": {\"polarisations_id\": \"all\", \"channels_id\": \"vis_channels\"}}}, {\"scan_type_id\": \"science\", \"derive_from\": \".default\", \"beams\": {\"vis0\": {\"field_id\": \"field_a\"}}}, {\"scan_type_id\": \"calibration\", \"derive_from\": \".default\", \"beams\": {\"vis0\": {\"field_id\": \"field_b\"}}}]}, \"processing_blocks\": [{\"pb_id\": \"pb-test-20211111-00019\", \"script\": {\"kind\": \"realtime\", \"name\": \"vis-receive\", \"version\": \"4.0.0\"}, \"parameters\": {\"channels_per_port\": 20, \"queue_connector_configuration\": {}, \"transport_protocol\": \"udp\", \"use_network_definition\": true, \"extra_helm_values\": {\"receiver\": {\"options\": {\"reception\": {\"reset_time_indexing_after_each_scan\": true}, \"telescope_model\": {\"telmodel_key\": \"instrument/ska1_mid/layout/mid-layout.json\"}}}}, \"pod_settings\": [{\"securityContext\": {\"runAsUser\": 0, \"fsGroup\": 0}}]}}]}\n"
     ]
    }
   ],
   "source": [
    "with open(sdp_assign_resources_file) as f:\n",
    "    sdp_resources = json.load(f)\n",
    "print(sdp_resources)\n",
    "sdp_resources['resources']['receptors'] = list(map(lambda x:receptor_map[x-1],TARGET_BOARD))\n",
    "print(json.dumps(sdp_resources))"
   ]
  },
  {
   "cell_type": "markdown",
   "metadata": {},
   "source": [
    "And run the command to assign resources:"
   ]
  },
  {
   "cell_type": "code",
   "execution_count": 52,
   "metadata": {},
   "outputs": [],
   "source": [
    "sdp_tango.AssignResources(json.dumps(sdp_resources))"
   ]
  },
  {
   "cell_type": "markdown",
   "metadata": {},
   "source": [
    "Next we send the configure command along with the required config file: (This step may fail if run right after the previous one, wait before running )"
   ]
  },
  {
   "cell_type": "code",
   "execution_count": null,
   "metadata": {},
   "outputs": [],
   "source": [
    "print(sdp_tango.obsState)"
   ]
  },
  {
   "cell_type": "code",
   "execution_count": 54,
   "metadata": {},
   "outputs": [
    {
     "ename": "DevFailed",
     "evalue": "DevFailed[\nDevError[\n    desc = Command not allowed in obsState RESOURCING\n  origin = command_allowed_obs_state\n  reason = API_CommandNotAllowed\nseverity = ERR]\n\nDevError[\n    desc = Failed to execute command_inout on device test-sdp/subarray/01, command Configure\n  origin = virtual Tango::DeviceData Tango::Connection::command_inout(const string&, const Tango::DeviceData&) at (/src/cppTango/cppapi/client/devapi_base.cpp:1338)\n  reason = API_CommandFailed\nseverity = ERR]\n]",
     "output_type": "error",
     "traceback": [
      "\u001b[0;31m---------------------------------------------------------------------------\u001b[0m",
      "\u001b[0;31mDevFailed\u001b[0m                                 Traceback (most recent call last)",
      "Cell \u001b[0;32mIn[54], line 3\u001b[0m\n\u001b[1;32m      1\u001b[0m \u001b[38;5;28;01mwith\u001b[39;00m \u001b[38;5;28mopen\u001b[39m(sdp_configure_file) \u001b[38;5;28;01mas\u001b[39;00m f:\n\u001b[1;32m      2\u001b[0m     sdp_configuration \u001b[38;5;241m=\u001b[39m json\u001b[38;5;241m.\u001b[39mload(f)\n\u001b[0;32m----> 3\u001b[0m \u001b[43msdp_tango\u001b[49m\u001b[38;5;241;43m.\u001b[39;49m\u001b[43mConfigure\u001b[49m\u001b[43m(\u001b[49m\u001b[43mjson\u001b[49m\u001b[38;5;241;43m.\u001b[39;49m\u001b[43mdumps\u001b[49m\u001b[43m(\u001b[49m\u001b[43msdp_configuration\u001b[49m\u001b[43m)\u001b[49m\u001b[43m)\u001b[49m\n",
      "File \u001b[0;32m~/envs/al_venv/lib/python3.9/site-packages/tango/device_proxy.py:336\u001b[0m, in \u001b[0;36m__get_command_func.<locals>.f\u001b[0;34m(*args, **kwds)\u001b[0m\n\u001b[1;32m    335\u001b[0m \u001b[38;5;28;01mdef\u001b[39;00m \u001b[38;5;21mf\u001b[39m(\u001b[38;5;241m*\u001b[39margs, \u001b[38;5;241m*\u001b[39m\u001b[38;5;241m*\u001b[39mkwds):\n\u001b[0;32m--> 336\u001b[0m     \u001b[38;5;28;01mreturn\u001b[39;00m \u001b[43mdp\u001b[49m\u001b[38;5;241;43m.\u001b[39;49m\u001b[43mcommand_inout\u001b[49m\u001b[43m(\u001b[49m\u001b[43mname\u001b[49m\u001b[43m,\u001b[49m\u001b[43m \u001b[49m\u001b[38;5;241;43m*\u001b[39;49m\u001b[43margs\u001b[49m\u001b[43m,\u001b[49m\u001b[43m \u001b[49m\u001b[38;5;241;43m*\u001b[39;49m\u001b[38;5;241;43m*\u001b[39;49m\u001b[43mkwds\u001b[49m\u001b[43m)\u001b[49m\n",
      "File \u001b[0;32m~/envs/al_venv/lib/python3.9/site-packages/tango/green.py:204\u001b[0m, in \u001b[0;36mgreen.<locals>.decorator.<locals>.greener\u001b[0;34m(obj, *args, **kwargs)\u001b[0m\n\u001b[1;32m    202\u001b[0m green_mode \u001b[38;5;241m=\u001b[39m access(\u001b[38;5;124m\"\u001b[39m\u001b[38;5;124mgreen_mode\u001b[39m\u001b[38;5;124m\"\u001b[39m, \u001b[38;5;28;01mNone\u001b[39;00m)\n\u001b[1;32m    203\u001b[0m executor \u001b[38;5;241m=\u001b[39m get_object_executor(obj, green_mode)\n\u001b[0;32m--> 204\u001b[0m \u001b[38;5;28;01mreturn\u001b[39;00m \u001b[43mexecutor\u001b[49m\u001b[38;5;241;43m.\u001b[39;49m\u001b[43mrun\u001b[49m\u001b[43m(\u001b[49m\u001b[43mfn\u001b[49m\u001b[43m,\u001b[49m\u001b[43m \u001b[49m\u001b[43margs\u001b[49m\u001b[43m,\u001b[49m\u001b[43m \u001b[49m\u001b[43mkwargs\u001b[49m\u001b[43m,\u001b[49m\u001b[43m \u001b[49m\u001b[43mwait\u001b[49m\u001b[38;5;241;43m=\u001b[39;49m\u001b[43mwait\u001b[49m\u001b[43m,\u001b[49m\u001b[43m \u001b[49m\u001b[43mtimeout\u001b[49m\u001b[38;5;241;43m=\u001b[39;49m\u001b[43mtimeout\u001b[49m\u001b[43m)\u001b[49m\n",
      "File \u001b[0;32m~/envs/al_venv/lib/python3.9/site-packages/tango/green.py:112\u001b[0m, in \u001b[0;36mAbstractExecutor.run\u001b[0;34m(self, fn, args, kwargs, wait, timeout)\u001b[0m\n\u001b[1;32m    110\u001b[0m \u001b[38;5;66;03m# Synchronous (no delegation)\u001b[39;00m\n\u001b[1;32m    111\u001b[0m \u001b[38;5;28;01mif\u001b[39;00m \u001b[38;5;129;01mnot\u001b[39;00m \u001b[38;5;28mself\u001b[39m\u001b[38;5;241m.\u001b[39masynchronous \u001b[38;5;129;01mor\u001b[39;00m \u001b[38;5;129;01mnot\u001b[39;00m \u001b[38;5;28mself\u001b[39m\u001b[38;5;241m.\u001b[39min_executor_context():\n\u001b[0;32m--> 112\u001b[0m     \u001b[38;5;28;01mreturn\u001b[39;00m \u001b[43mfn\u001b[49m\u001b[43m(\u001b[49m\u001b[38;5;241;43m*\u001b[39;49m\u001b[43margs\u001b[49m\u001b[43m,\u001b[49m\u001b[43m \u001b[49m\u001b[38;5;241;43m*\u001b[39;49m\u001b[38;5;241;43m*\u001b[39;49m\u001b[43mkwargs\u001b[49m\u001b[43m)\u001b[49m\n\u001b[1;32m    113\u001b[0m \u001b[38;5;66;03m# Asynchronous delegation\u001b[39;00m\n\u001b[1;32m    114\u001b[0m accessor \u001b[38;5;241m=\u001b[39m \u001b[38;5;28mself\u001b[39m\u001b[38;5;241m.\u001b[39mdelegate(fn, \u001b[38;5;241m*\u001b[39margs, \u001b[38;5;241m*\u001b[39m\u001b[38;5;241m*\u001b[39mkwargs)\n",
      "File \u001b[0;32m~/envs/al_venv/lib/python3.9/site-packages/tango/connection.py:116\u001b[0m, in \u001b[0;36m__Connection__command_inout\u001b[0;34m(self, name, *args, **kwds)\u001b[0m\n\u001b[1;32m     84\u001b[0m \u001b[38;5;28;01mdef\u001b[39;00m \u001b[38;5;21m__Connection__command_inout\u001b[39m(\u001b[38;5;28mself\u001b[39m, name, \u001b[38;5;241m*\u001b[39margs, \u001b[38;5;241m*\u001b[39m\u001b[38;5;241m*\u001b[39mkwds):\n\u001b[1;32m     85\u001b[0m \u001b[38;5;250m    \u001b[39m\u001b[38;5;124;03m\"\"\"\u001b[39;00m\n\u001b[1;32m     86\u001b[0m \u001b[38;5;124;03m    command_inout( self, cmd_name, cmd_param=None, green_mode=None, wait=True, timeout=None) -> any\u001b[39;00m\n\u001b[1;32m     87\u001b[0m \n\u001b[0;32m   (...)\u001b[0m\n\u001b[1;32m    114\u001b[0m \u001b[38;5;124;03m        *timeout* parameter.\u001b[39;00m\n\u001b[1;32m    115\u001b[0m \u001b[38;5;124;03m    \"\"\"\u001b[39;00m\n\u001b[0;32m--> 116\u001b[0m     r \u001b[38;5;241m=\u001b[39m \u001b[43mConnection\u001b[49m\u001b[38;5;241;43m.\u001b[39;49m\u001b[43mcommand_inout_raw\u001b[49m\u001b[43m(\u001b[49m\u001b[38;5;28;43mself\u001b[39;49m\u001b[43m,\u001b[49m\u001b[43m \u001b[49m\u001b[43mname\u001b[49m\u001b[43m,\u001b[49m\u001b[43m \u001b[49m\u001b[38;5;241;43m*\u001b[39;49m\u001b[43margs\u001b[49m\u001b[43m,\u001b[49m\u001b[43m \u001b[49m\u001b[38;5;241;43m*\u001b[39;49m\u001b[38;5;241;43m*\u001b[39;49m\u001b[43mkwds\u001b[49m\u001b[43m)\u001b[49m\n\u001b[1;32m    117\u001b[0m     \u001b[38;5;28;01mif\u001b[39;00m \u001b[38;5;28misinstance\u001b[39m(r, DeviceData):\n\u001b[1;32m    118\u001b[0m         \u001b[38;5;28;01mtry\u001b[39;00m:\n",
      "File \u001b[0;32m~/envs/al_venv/lib/python3.9/site-packages/tango/connection.py:145\u001b[0m, in \u001b[0;36m__Connection__command_inout_raw\u001b[0;34m(self, cmd_name, cmd_param)\u001b[0m\n\u001b[1;32m    130\u001b[0m \u001b[38;5;250m\u001b[39m\u001b[38;5;124;03m\"\"\"\u001b[39;00m\n\u001b[1;32m    131\u001b[0m \u001b[38;5;124;03mcommand_inout_raw( self, cmd_name, cmd_param=None) -> DeviceData\u001b[39;00m\n\u001b[1;32m    132\u001b[0m \n\u001b[0;32m   (...)\u001b[0m\n\u001b[1;32m    142\u001b[0m \u001b[38;5;124;03m    Throws     : ConnectionFailed, CommunicationFailed, DeviceUnlocked, DevFailed from device\u001b[39;00m\n\u001b[1;32m    143\u001b[0m \u001b[38;5;124;03m\"\"\"\u001b[39;00m\n\u001b[1;32m    144\u001b[0m param \u001b[38;5;241m=\u001b[39m __get_command_inout_param(\u001b[38;5;28mself\u001b[39m, cmd_name, cmd_param)\n\u001b[0;32m--> 145\u001b[0m \u001b[38;5;28;01mreturn\u001b[39;00m \u001b[38;5;28;43mself\u001b[39;49m\u001b[38;5;241;43m.\u001b[39;49m\u001b[43m__command_inout\u001b[49m\u001b[43m(\u001b[49m\u001b[43mcmd_name\u001b[49m\u001b[43m,\u001b[49m\u001b[43m \u001b[49m\u001b[43mparam\u001b[49m\u001b[43m)\u001b[49m\n",
      "\u001b[0;31mDevFailed\u001b[0m: DevFailed[\nDevError[\n    desc = Command not allowed in obsState RESOURCING\n  origin = command_allowed_obs_state\n  reason = API_CommandNotAllowed\nseverity = ERR]\n\nDevError[\n    desc = Failed to execute command_inout on device test-sdp/subarray/01, command Configure\n  origin = virtual Tango::DeviceData Tango::Connection::command_inout(const string&, const Tango::DeviceData&) at (/src/cppTango/cppapi/client/devapi_base.cpp:1338)\n  reason = API_CommandFailed\nseverity = ERR]\n]"
     ]
    }
   ],
   "source": [
    "with open(sdp_configure_file) as f:\n",
    "    sdp_configuration = json.load(f)\n",
    "sdp_tango.Configure(json.dumps(sdp_configuration))"
   ]
  },
  {
   "cell_type": "markdown",
   "metadata": {},
   "source": [
    "We then start the SDP output via the Scan command:"
   ]
  },
  {
   "cell_type": "code",
   "execution_count": null,
   "metadata": {},
   "outputs": [],
   "source": [
    "with open(sdp_scan_file) as f:\n",
    "    sdp_scan = json.load(f)\n",
    "sdp_tango.Scan(json.dumps(sdp_scan))"
   ]
  },
  {
   "cell_type": "markdown",
   "metadata": {},
   "source": [
    "After running this step, a pod for reciving visabilities will be launched, grab the IP of this pod and place it in the output_host var in the configure_scan json file."
   ]
  },
  {
   "cell_type": "code",
   "execution_count": 44,
   "metadata": {},
   "outputs": [
    {
     "name": "stdout",
     "output_type": "stream",
     "text": [
      "No resources found in ci-ska-mid-psi-1246254401-alexschell-sdp namespace.\n"
     ]
    }
   ],
   "source": [
    "# Grab the pod name\n",
    "!kubectl -n $NS-sdp get pods | grep vis-receive"
   ]
  },
  {
   "cell_type": "code",
   "execution_count": 42,
   "metadata": {},
   "outputs": [
    {
     "name": "stdout",
     "output_type": "stream",
     "text": [
      "Error from server (NotFound): pods \"proc-pb-test-20211111-00019-vis-receive-00-0\" not found\n"
     ]
    }
   ],
   "source": [
    "# Then find the IP:\n",
    "vis_pod = \"proc-pb-test-20211111-00019-vis-receive-00-0\"\n",
    "!kubectl -n $NS-sdp describe pod $vis_pod | grep net1 -A 3"
   ]
  },
  {
   "cell_type": "markdown",
   "metadata": {},
   "source": [
    "With this pod, we will also want to prep for mointoring the pod for when it (hopefully) recivies the visibilties"
   ]
  },
  {
   "cell_type": "markdown",
   "metadata": {},
   "source": [
    "Run this command, then use the output in a seperate terminal to enter the correct pod:"
   ]
  },
  {
   "cell_type": "code",
   "execution_count": 43,
   "metadata": {},
   "outputs": [
    {
     "name": "stdout",
     "output_type": "stream",
     "text": [
      "kubectl exec -n ci-ska-mid-psi-1246254401-alexschell-sdp -ti proc-pb-test-20211111-00019-vis-receive-00-0 -- bash\n"
     ]
    }
   ],
   "source": [
    "!echo kubectl exec -n $NS-sdp -ti $vis_pod -- bash"
   ]
  },
  {
   "cell_type": "markdown",
   "metadata": {},
   "source": [
    "We can then run the following commands in this pod to start monitoring for the correct traffic:"
   ]
  },
  {
   "cell_type": "raw",
   "metadata": {},
   "source": [
    "apt update && apt install -y iproute2 tcpdump\n",
    "tcpdump -i net1"
   ]
  },
  {
   "cell_type": "markdown",
   "metadata": {},
   "source": [
    "Now on the CBF side we can load in the corresponding Scan file."
   ]
  },
  {
   "cell_type": "code",
   "execution_count": 46,
   "metadata": {},
   "outputs": [],
   "source": [
    "cbf_configure_scan_file = os.path.join(CORRELATOR_FILE_LOCATION,\"configure_scan.json\")\n",
    "cbf_scan_file  = os.path.join(CORRELATOR_FILE_LOCATION,\"scan.json\")\n",
    "with open(cbf_configure_scan_file) as f:\n",
    "    cbf_config = json.load(f)\n",
    "with open(cbf_scan_file) as f:\n",
    "    cbf_scan = json.load(f)"
   ]
  },
  {
   "cell_type": "code",
   "execution_count": 47,
   "metadata": {},
   "outputs": [
    {
     "name": "stdout",
     "output_type": "stream",
     "text": [
      "{\"interface\": \"https://schema.skao.int/ska-csp-configure/2.4\", \"subarray\": {\"subarray_name\": \"4 receptors\"}, \"common\": {\"config_id\": \"4 receptor, band 1, 1 FSP, no options\", \"frequency_band\": \"1\", \"subarray_id\": 1}, \"cbf\": {\"delay_model_subscription_point\": \"ska_mid/tm_leaf_node/csp_subarray_01/delayModel\", \"fsp\": [{\"fsp_id\": 1, \"function_mode\": \"CORR\", \"frequency_slice_id\": 1, \"zoom_factor\": 0, \"integration_factor\": 10, \"channel_offset\": 0, \"output_link_map\": [[0, 1]], \"output_host\": [[0, \"10.50.1.34\"]], \"output_port\": [[0, 21000, 1]]}]}}\n"
     ]
    }
   ],
   "source": [
    "print(json.dumps(cbf_config))"
   ]
  },
  {
   "cell_type": "code",
   "execution_count": 48,
   "metadata": {},
   "outputs": [
    {
     "name": "stdout",
     "output_type": "stream",
     "text": [
      "Observation state: 2\n",
      "Observation state: 4\n"
     ]
    }
   ],
   "source": [
    "print(\"Observation state: {}\".format(subarray_tango.obsState))\n",
    "subarray_tango.Configure(json.dumps(cbf_config))\n",
    "sleep(5)\n",
    "print(\"Observation state: {}\".format(subarray_tango.obsState))"
   ]
  },
  {
   "cell_type": "markdown",
   "metadata": {},
   "source": [
    "As a temporary step, load this into the delay model on the CSP Subarray dash make sure to change the `epoch` value to the one generated by the BITE LSTV replay start command, and the `receptor` to match the one set :"
   ]
  },
  {
   "cell_type": "code",
   "execution_count": null,
   "metadata": {},
   "outputs": [],
   "source": [
    "delay_model ={\"interface\":\"https://schema.skao.int/ska-csp-delaymodel/2.2\",\"epoch\":765929670.5153561,\"validity_period\":400.0,\"delay_details\":[{\"receptor\":\"SKA063\",\"poly_info\":[{\"polarization\":\"X\",\"coeffs\":[0.0,0.0,0.0,0.0,0.0,0.0]},{\"polarization\":\"Y\",\"coeffs\":[0.0,0.0,0.0,0.0,0.0,0.0]}]}]}\n",
    "delayModelProxy = DeviceProxy('ska_mid/tm_leaf_node/csp_subarray_01')\n",
    "delayModelProxy.write_attribute('delayModel', json.dumps(delay_model))"
   ]
  },
  {
   "cell_type": "markdown",
   "metadata": {},
   "source": [
    "And then the matching command in the subarray:"
   ]
  },
  {
   "cell_type": "code",
   "execution_count": null,
   "metadata": {},
   "outputs": [],
   "source": [
    "subarray_tango.Scan(json.dumps(cbf_scan))"
   ]
  },
  {
   "cell_type": "code",
   "execution_count": null,
   "metadata": {},
   "outputs": [],
   "source": [
    "print(\"Observation state: {}\".format(subarray_tango.obsState))"
   ]
  },
  {
   "cell_type": "markdown",
   "metadata": {},
   "source": [
    "Checking the dashboard, the dish should now be in the SCANNING status."
   ]
  },
  {
   "cell_type": "markdown",
   "metadata": {},
   "source": [
    "## Checking Visabilties"
   ]
  },
  {
   "cell_type": "markdown",
   "metadata": {},
   "source": [
    "With the devices scanning and linked, we can monitor the output via monitoring the network packets that come from it. Use the tcpdum running terminal to check that packet lengths are correct:"
   ]
  },
  {
   "cell_type": "markdown",
   "metadata": {},
   "source": [
    "## Cleanup"
   ]
  },
  {
   "cell_type": "markdown",
   "metadata": {},
   "source": [
    "Once we're satisfied with the reuslts, we can stop the scans and shut down the boards."
   ]
  },
  {
   "cell_type": "code",
   "execution_count": null,
   "metadata": {},
   "outputs": [],
   "source": [
    "sdp_tango.EndScan()\n",
    "subarray_tango.EndScan()"
   ]
  },
  {
   "cell_type": "code",
   "execution_count": null,
   "metadata": {},
   "outputs": [],
   "source": [
    "control_tango.Off(target)"
   ]
  },
  {
   "cell_type": "markdown",
   "metadata": {},
   "source": [
    "If the boards are on, use the LRU command to turn them off."
   ]
  },
  {
   "cell_type": "markdown",
   "metadata": {},
   "source": [
    "Now that we're done, free up dev resources on PSI by deleting your ns."
   ]
  },
  {
   "cell_type": "code",
   "execution_count": null,
   "metadata": {},
   "outputs": [],
   "source": [
    "!kubectl delete ns $NS\n",
    "!kubectl delete ns $NS-sdp"
   ]
  },
  {
   "cell_type": "code",
   "execution_count": null,
   "metadata": {},
   "outputs": [],
   "source": [
    "!kubectl get ns | grep ska-mid-psi"
   ]
  }
 ],
 "metadata": {
  "kernelspec": {
   "display_name": "al_venv",
   "language": "python",
   "name": "python3"
  },
  "language_info": {
   "codemirror_mode": {
    "name": "ipython",
    "version": 3
   },
   "file_extension": ".py",
   "mimetype": "text/x-python",
   "name": "python",
   "nbconvert_exporter": "python",
   "pygments_lexer": "ipython3",
   "version": "3.9.19"
  }
 },
 "nbformat": 4,
 "nbformat_minor": 2
}
