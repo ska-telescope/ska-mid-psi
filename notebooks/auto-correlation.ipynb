{
 "cells": [
  {
   "cell_type": "markdown",
   "metadata": {},
   "source": [
    "# Running Auto Correlation with Talon Deployer and BITE\n",
    "###### Last Updated: 19/03/24\n",
    "\n",
    "This demo will show the basic operation of auto correlation using the new Deployer and BITE TANGO devices currently deployed in this repository. With this notebook, all TANGO commands and attribute changes are made via a [TANGO DeviceProxy](https://pytango.readthedocs.io/en/stable/client_api/device_proxy.html) but the overall steps should be the same for using the JIVE interface or Taranta web interface."
   ]
  },
  {
   "cell_type": "markdown",
   "metadata": {},
   "source": [
    "## Pre-requisites"
   ]
  },
  {
   "cell_type": "markdown",
   "metadata": {},
   "source": [
    "\n",
    "First, this notebook assumes you have a running environment launched from a pipeline, in particular it assumes you are running off one launched from the [SKA-mid-psi](https://gitlab.com/ska-telescope/ska-mid-psi) pipeline. Secondly, for ease of dev work, it also assumes you are using a virtual env. This notebook was made with Python 3.10 in mind.\n",
    "\n",
    "Finally, make sure all requirements are installed via [poetry]()."
   ]
  },
  {
   "cell_type": "markdown",
   "metadata": {},
   "source": [
    "### Running on Dev servers"
   ]
  },
  {
   "cell_type": "markdown",
   "metadata": {},
   "source": [
    "Firstly, to make future commands a bit easier, we load the namespace name into a variable."
   ]
  },
  {
   "cell_type": "code",
   "execution_count": null,
   "metadata": {},
   "outputs": [],
   "source": [
    "NS = \"ska-mid-cbf\""
   ]
  },
  {
   "cell_type": "markdown",
   "metadata": {},
   "source": [
    "\n",
    "To run this locally, a few extra steps are required:\n",
    "* Uncomment the [pv.yaml file in Engineering Console](https://gitlab.com/ska-telescope/ska-mid-cbf-engineering-console/-/blob/main/charts/ska-mid-cbf-engineering-console-umbrella/templates/pv.yaml). This will establish the persistant volume, without having to go through MCS.\n",
    "* Run the required make commands in the CICD repo.\n",
    "    * `make minkube-clean DRIVER=docker`- Clean out the old minikube if previously used.\n",
    "    * `make all DRIVER=docker` - Set up the minkube using the docker driver.\n",
    "    * `eval $(minikube docker-env)` - Set the docker enivronment vairable.\n",
    "* Then run the make commands to set up in the EC repo.\n",
    "    * `make oci-build-all` - Build latest images/requriments in the repo.\n",
    "    * `make oci-image-build` - Check to make sure the latest image is built.\n",
    "    * `make k8s-reinstall-chart` - Deploy these images to the minikube."
   ]
  },
  {
   "cell_type": "markdown",
   "metadata": {},
   "source": [
    "If you check the minkube pods, you should see the TANGO database pods, the itango console and the old bite and deployer pods running. If they are still starting, give them a few moments."
   ]
  },
  {
   "cell_type": "code",
   "execution_count": null,
   "metadata": {},
   "outputs": [],
   "source": [
    "!kubectl -n {NS} get pods"
   ]
  },
  {
   "cell_type": "markdown",
   "metadata": {},
   "source": [
    "This should return something like: \n",
    "```\n",
    "NAME                                         READY   STATUS    RESTARTS   AGE\n",
    "databaseds-ds-tango-databaseds-test-0        1/1     Running   0          17m\n",
    "databaseds-tangodb-tango-databaseds-test-0   1/1     Running   0          17m\n",
    "ds-bite-bite-0                               1/1     Running   0          16m\n",
    "ds-deployer-deployer-0                       1/1     Running   0          16m\n",
    "ds-tangotest-test-0                          1/1     Running   0          16m\n",
    "ska-tango-base-itango-console                1/1     Running   0          17m\n",
    "```"
   ]
  },
  {
   "cell_type": "markdown",
   "metadata": {},
   "source": [
    "### Running on PSI"
   ]
  },
  {
   "cell_type": "code",
   "execution_count": null,
   "metadata": {},
   "outputs": [],
   "source": [
    "!{sys.executable} -m pip list"
   ]
  },
  {
   "cell_type": "markdown",
   "metadata": {},
   "source": [
    "\n",
    "To Run on PSI, once running the launch step from the PSI pipeline, grab your booted namespace's name. You can run a check on the ns as well to make sure the pods are ready."
   ]
  },
  {
   "cell_type": "code",
   "execution_count": null,
   "metadata": {},
   "outputs": [],
   "source": [
    "!kubectl get ns"
   ]
  },
  {
   "cell_type": "markdown",
   "metadata": {},
   "source": [
    "To make future work a bit easier we can load this into a NS var."
   ]
  },
  {
   "cell_type": "code",
   "execution_count": null,
   "metadata": {},
   "outputs": [],
   "source": [
    "# Change this var to be the non-spd namespace with your username in it\n",
    "NS = \"ci-ska-mid-psi-1218359385-alexschell\""
   ]
  },
  {
   "cell_type": "markdown",
   "metadata": {},
   "source": [
    "We can then check to ensure the pods have spun up successfully."
   ]
  },
  {
   "cell_type": "code",
   "execution_count": null,
   "metadata": {},
   "outputs": [],
   "source": [
    "!kubectl -n $NS get pods"
   ]
  },
  {
   "cell_type": "markdown",
   "metadata": {},
   "source": [
    "## Initial Setup/Using Deployer Device\n",
    "\n",
    "First we want to set up the target board that we will be using for the auto correlation. While this can be multiple boards, for now we will only need one. Punch out the board(s) you have access to and set the `TARGET_BOARD` to assign it to be used in future steps.\n",
    "\n",
    "The `TANGO_HOST` will be created based of the namespace you set earlier."
   ]
  },
  {
   "cell_type": "code",
   "execution_count": null,
   "metadata": {},
   "outputs": [],
   "source": [
    "import os\n",
    "import logging\n",
    "logging.basicConfig(level=logging.INFO)\n",
    "logger = logging.getLogger(__name__)\n",
    "# Set to the boards you wish to configure.\n",
    "TARGET_BOARD = [3]\n",
    "\n",
    "\n",
    "TANGO_HOST = \"databaseds-tango-base.\"+NS+\".svc.cluster.local:10000\"\n",
    "print(\"Will be using HOST: \", TANGO_HOST)\n",
    "\n",
    "os.environ[\"TANGO_HOST\"] = TANGO_HOST"
   ]
  },
  {
   "cell_type": "markdown",
   "metadata": {},
   "source": [
    "For this demo, we will interact with the TANGO devices via a device proxy, which will allow us to pass commands into them as we would in the UI."
   ]
  },
  {
   "cell_type": "code",
   "execution_count": null,
   "metadata": {},
   "outputs": [],
   "source": [
    "from PyTango import DeviceProxy, Database\n",
    "\n",
    "# Setup the device proxies targeting bite and deployer\n",
    "db = Database()\n",
    "deployer_tango = DeviceProxy(\"mid_csp_cbf/ec/deployer\")\n",
    "\n",
    "#Check the devices initially deployed to the database\n",
    "devices = db.get_device_exported(\"*\")\n",
    "print(devices)\n",
    "# Make sure the deployer device is set to ON\n",
    "deployer_tango.On()\n",
    "print(\"State of deployer device:\")\n",
    "print(deployer_tango.state())"
   ]
  },
  {
   "cell_type": "markdown",
   "metadata": {},
   "source": [
    "First, we set the target talon boards we want to set up our configuration for. In Jive/Taranta, this would be configured by manually writing the attribute via the UI. Multiple boards can be targeted."
   ]
  },
  {
   "cell_type": "code",
   "execution_count": null,
   "metadata": {},
   "outputs": [],
   "source": [
    "deployer_tango.write_attribute(\"targetTalons\",TARGET_BOARD)"
   ]
  },
  {
   "cell_type": "markdown",
   "metadata": {},
   "source": [
    "With this set, we can then run the configuration command by calling the generate_config_jsons command."
   ]
  },
  {
   "cell_type": "code",
   "execution_count": null,
   "metadata": {},
   "outputs": [],
   "source": [
    "deployer_tango.command_inout(\"generate_config_jsons\")"
   ]
  },
  {
   "cell_type": "markdown",
   "metadata": {},
   "source": [
    "We then get the device artifacts from the [artifact repository](https://artefact.skao.int/#browse/browse:helm-internal) by running the command via TANGO. This step may take some time as it downloads multiple devices."
   ]
  },
  {
   "cell_type": "markdown",
   "metadata": {},
   "source": [
    "**! CURRENTLY THIS DOES NOT WORK ON MINIKUBE, MUST USE PSI !**"
   ]
  },
  {
   "cell_type": "code",
   "execution_count": null,
   "metadata": {},
   "outputs": [],
   "source": [
    "deployer_tango.set_timeout_millis(100000)\n",
    "try:\n",
    "    deployer_tango.command_inout(\"download_artifacts\")\n",
    "except Exception as e:\n",
    "    print(e)\n",
    "    print(\"Timed out, this is likely due to the download taking some time. Check the logs with the code space below after some time to see if it passes.\")\n",
    "deployer_tango.set_timeout_millis(4500)"
   ]
  },
  {
   "cell_type": "markdown",
   "metadata": {},
   "source": [
    "To check that the artifacts downloaded successfully, we want to check that the following returns something like `INFO|Dummy-2|download_fpga_bitstreams|midcbf_deployer.py#418||Finished downloading`. "
   ]
  },
  {
   "cell_type": "code",
   "execution_count": null,
   "metadata": {},
   "outputs": [],
   "source": [
    "!kubectl logs -n $NS ds-deployer-deployer-0 | grep 'Finished downloading'"
   ]
  },
  {
   "cell_type": "markdown",
   "metadata": {},
   "source": [
    "Finally, we can configure the TANGO database with all the tango devices we just downloaded using the ConfigDB command."
   ]
  },
  {
   "cell_type": "code",
   "execution_count": null,
   "metadata": {},
   "outputs": [],
   "source": [
    "deployer_tango.command_inout(\"configure_db\")"
   ]
  },
  {
   "cell_type": "markdown",
   "metadata": {},
   "source": [
    "The TANGO database should now be configured with all the devices needed for the next step, running the BITE device."
   ]
  },
  {
   "cell_type": "code",
   "execution_count": null,
   "metadata": {},
   "outputs": [],
   "source": [
    "print(*db.get_device_exported(\"*\").value_string, sep=\"\\n\")"
   ]
  },
  {
   "cell_type": "markdown",
   "metadata": {},
   "source": [
    "## Setting Controller settings"
   ]
  },
  {
   "cell_type": "markdown",
   "metadata": {},
   "source": [
    "Now that we have the controller device deployed, we can use it to prep for further steps."
   ]
  },
  {
   "cell_type": "code",
   "execution_count": null,
   "metadata": {},
   "outputs": [],
   "source": [
    "CBF_tango = DeviceProxy(\"mid_csp_cbf/sub_elt/controller\")\n",
    "print(CBF_tango.status())"
   ]
  },
  {
   "cell_type": "markdown",
   "metadata": {},
   "source": [
    "We can then set adminMode to 0 (ONLINE), allowing us to run commands, and set simulationMode to 0 (FALSE)."
   ]
  },
  {
   "cell_type": "code",
   "execution_count": null,
   "metadata": {},
   "outputs": [],
   "source": [
    "CBF_tango.write_attribute(\"adminMode\",0)\n",
    "CBF_tango.write_attribute(\"simulationMode\",0)\n",
    "if CBF_tango.read_attribute(\"adminMode\").value == 0 and CBF_tango.read_attribute(\"simulationmode\").value == 0:\n",
    "    print (\"Set values successfully!\")\n",
    "else:\n",
    "    print (\"Error, couldn't set values!\")"
   ]
  },
  {
   "cell_type": "markdown",
   "metadata": {},
   "source": [
    "Next, we load in a inital values parameters and pass it to the controller, to do this we read in JSON file and pass it as a DevString to the relevant device command:"
   ]
  },
  {
   "cell_type": "code",
   "execution_count": null,
   "metadata": {},
   "outputs": [],
   "source": [
    "# Change this value if you want to read files from somewhere else\n",
    "FILE_LOCATION = os.getcwd()+\"/json_files\"\n",
    "\n",
    "init_sys_param_file = os.path.join(FILE_LOCATION, \"initial_system_param.json\")\n",
    "\n",
    "with open(init_sys_param_file) as init_file:\n",
    "    data = init_file.read()\n",
    "\n",
    "# Use the InitSysParam command and feed in data\n",
    "CBF_tango.command_inout(\"InitSysParam\", data)"
   ]
  },
  {
   "cell_type": "markdown",
   "metadata": {},
   "source": [
    "## Running Commands Through the BITE Device"
   ]
  },
  {
   "cell_type": "markdown",
   "metadata": {},
   "source": [
    "Now that the BITE tango Device has been deployed via the deployer, we can use it to configure tests. First we check the device is running."
   ]
  },
  {
   "cell_type": "code",
   "execution_count": null,
   "metadata": {},
   "outputs": [],
   "source": [
    "bite_tango = DeviceProxy(\"mid_csp_cbf/ec/bite\")\n",
    "# Running this should return RUNNING\n",
    "print(bite_tango.State())"
   ]
  },
  {
   "cell_type": "markdown",
   "metadata": {},
   "source": [
    "Now that we have confirmed it is running, we load in what board we want to configure."
   ]
  },
  {
   "cell_type": "code",
   "execution_count": null,
   "metadata": {},
   "outputs": [],
   "source": [
    "bite_tango.write_attribute(\"boards\",TARGET_BOARD)"
   ]
  },
  {
   "cell_type": "markdown",
   "metadata": {},
   "source": [
    "For now, we can use the defaults and simply call the write command for the test configs. This should return the configuration for each board passed in."
   ]
  },
  {
   "cell_type": "code",
   "execution_count": null,
   "metadata": {},
   "outputs": [],
   "source": [
    "print(bite_tango.command_inout(\"generate_bite_data\"))"
   ]
  }
 ],
 "metadata": {
  "kernelspec": {
   "display_name": "al_venv",
   "language": "python",
   "name": "python3"
  },
  "language_info": {
   "codemirror_mode": {
    "name": "ipython",
    "version": 3
   },
   "file_extension": ".py",
   "mimetype": "text/x-python",
   "name": "python",
   "nbconvert_exporter": "python",
   "pygments_lexer": "ipython3",
   "version": "3.9.18"
  }
 },
 "nbformat": 4,
 "nbformat_minor": 2
}
