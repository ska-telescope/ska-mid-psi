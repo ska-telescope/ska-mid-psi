{
 "cells": [
  {
   "cell_type": "markdown",
   "metadata": {},
   "source": [
    "# Running Auto Correlation with Talon Deployer and BITE\n",
    "###### Last Updated: 19/03/24\n",
    "\n",
    "This demo will show the basic operation of auto correlation using the new Deployer and BITE TANGO devices currently deployed in this repository. With this notebook, all TANGO commands and attribute changes are made via a [TANGO DeviceProxy](https://pytango.readthedocs.io/en/stable/client_api/device_proxy.html) but the overall steps should be the same for using the JIVE interface or Taranta web interface."
   ]
  },
  {
   "cell_type": "markdown",
   "metadata": {},
   "source": [
    "## Pre-requisites"
   ]
  },
  {
   "cell_type": "markdown",
   "metadata": {},
   "source": [
    "\n",
    "First, this notebook assumes you have a running environment launched from a pipeline, in particular it assumes you are running off one launched from the [SKA-mid-psi](https://gitlab.com/ska-telescope/ska-mid-psi) pipeline. Secondly, for ease of dev work, it also assumes you are using a virtual env. This notebook was made with Python 3.10 in mind.\n",
    "\n",
    "Finally, make sure all requirements are installed via [poetry]()."
   ]
  },
  {
   "cell_type": "markdown",
   "metadata": {},
   "source": [
    "### Running on PSI"
   ]
  },
  {
   "cell_type": "markdown",
   "metadata": {},
   "source": [
    "\n",
    "To Run on PSI, once running the launch step from the PSI pipeline, grab your booted namespace's name. You can run a check on the ns as well to make sure the pods are ready."
   ]
  },
  {
   "cell_type": "code",
   "execution_count": 136,
   "metadata": {},
   "outputs": [
    {
     "name": "stdout",
     "output_type": "stream",
     "text": [
      "ci-ska-mid-psi-1212485592-jaredmda                       Active   5h27m\n",
      "ci-ska-mid-psi-1212485592-jaredmda-sdp                   Active   5h28m\n",
      "ci-ska-mid-psi-1222659231-alexschell                     Active   19m\n",
      "ci-ska-mid-psi-1222659231-alexschell-sdp                 Active   20m\n",
      "ci-ska-mid-psi-1224505247-maecst                         Active   3h21m\n",
      "ci-ska-mid-psi-1224505247-maecst-sdp                     Active   3h21m\n"
     ]
    }
   ],
   "source": [
    "!kubectl get ns | grep ska-mid-psi"
   ]
  },
  {
   "cell_type": "markdown",
   "metadata": {},
   "source": [
    "To make future work a bit easier we can load this into a NS var."
   ]
  },
  {
   "cell_type": "code",
   "execution_count": 139,
   "metadata": {},
   "outputs": [
    {
     "name": "stdout",
     "output_type": "stream",
     "text": [
      "You can monitor board status using: https://142.73.34.170/ci-ska-mid-psi-1222659231-alexschell/taranta/dashboard?id=65e7b6f7b72ec70018cdb16a&mode=run\n"
     ]
    }
   ],
   "source": [
    "# Change this var to be the non-spd namespace with your username in it\n",
    "NS = \"ci-ska-mid-psi-1222659231-alexschell\"\n",
    "\n",
    "url = \"https://142.73.34.170/\"+NS+\"/taranta/dashboard?id=65e7b6f7b72ec70018cdb16a&mode=run\"\n",
    "print(\"You can monitor board status using: https://142.73.34.170/{}/taranta/dashboard?id=65e7b6f7b72ec70018cdb16a&mode=run\".format(NS))"
   ]
  },
  {
   "cell_type": "markdown",
   "metadata": {},
   "source": [
    "We can then check to ensure the pods have spun up successfully."
   ]
  },
  {
   "cell_type": "code",
   "execution_count": 138,
   "metadata": {},
   "outputs": [
    {
     "name": "stdout",
     "output_type": "stream",
     "text": [
      "NAME                                            READY   STATUS    RESTARTS   AGE\n",
      "databaseds-ds-databaseds-tango-base-0           1/1     Running   0          18m\n",
      "databaseds-tangodb-databaseds-tango-base-0      1/1     Running   0          18m\n",
      "ds-bite-bite-0                                  1/1     Running   0          17m\n",
      "ds-cbfcontroller-controller-0                   1/1     Running   0          16m\n",
      "ds-cbfsubarray-cbfsubarray-01-0                 1/1     Running   0          16m\n",
      "ds-cbfsubarray-cbfsubarray-02-0                 1/1     Running   0          16m\n",
      "ds-cbfsubarray-cbfsubarray-03-0                 1/1     Running   0          16m\n",
      "ds-deployer-deployer-0                          1/1     Running   0          17m\n",
      "ds-fsp-fsp-01-0                                 1/1     Running   0          17m\n",
      "ds-fsp-fsp-02-0                                 1/1     Running   0          17m\n",
      "ds-fsp-fsp-03-0                                 1/1     Running   0          17m\n",
      "ds-fsp-fsp-04-0                                 1/1     Running   0          17m\n",
      "ds-midcspcapabilityfsp01-capabilityfsp-0        1/1     Running   0          17m\n",
      "ds-midcspcapabilityvcc01-capabilityvcc-0        1/1     Running   0          17m\n",
      "ds-midcspcontroller-controller-0                1/1     Running   0          17m\n",
      "ds-midcspsubarray01-subarray1-0                 1/1     Running   0          17m\n",
      "ds-midcspsubarray02-subarray2-0                 1/1     Running   0          17m\n",
      "ds-midcspsubarray03-subarray3-0                 1/1     Running   0          17m\n",
      "ds-powerswitch-powerswitch-001-0                1/1     Running   0          17m\n",
      "ds-powerswitch-powerswitch-002-0                1/1     Running   0          17m\n",
      "ds-powerswitch-powerswitch-003-0                1/1     Running   0          17m\n",
      "ds-powerswitch-powerswitch-004-0                1/1     Running   0          17m\n",
      "ds-slim-mesh-0                                  1/1     Running   0          17m\n",
      "ds-slimlink-fs-links-0                          1/1     Running   0          17m\n",
      "ds-slimlink-vis-links-0                         1/1     Running   0          17m\n",
      "ds-talonboard-talon-001-0                       1/1     Running   0          16m\n",
      "ds-talonboard-talon-002-0                       1/1     Running   0          16m\n",
      "ds-talonboard-talon-003-0                       1/1     Running   0          16m\n",
      "ds-talonboard-talon-004-0                       1/1     Running   0          16m\n",
      "ds-talonboard-talon-005-0                       1/1     Running   0          16m\n",
      "ds-talonboard-talon-006-0                       1/1     Running   0          16m\n",
      "ds-talonboard-talon-007-0                       1/1     Running   0          16m\n",
      "ds-talonboard-talon-008-0                       1/1     Running   0          16m\n",
      "ds-talondxlogconsumer-001-0                     1/1     Running   0          16m\n",
      "ds-talonlru-talonlru-001-0                      1/1     Running   0          17m\n",
      "ds-talonlru-talonlru-002-0                      1/1     Running   0          17m\n",
      "ds-talonlru-talonlru-003-0                      1/1     Running   0          17m\n",
      "ds-talonlru-talonlru-004-0                      1/1     Running   0          17m\n",
      "ds-tangotest-test-0                             1/1     Running   0          17m\n",
      "ds-tmcspsubarrayleafnodetest-tm-0               1/1     Running   0          16m\n",
      "ds-tmcspsubarrayleafnodetest-tm2-0              1/1     Running   0          16m\n",
      "ds-vcc-vcc-001-0                                1/1     Running   0          17m\n",
      "ds-vcc-vcc-002-0                                1/1     Running   0          17m\n",
      "ds-vcc-vcc-003-0                                1/1     Running   0          17m\n",
      "ds-vcc-vcc-004-0                                1/1     Running   0          17m\n",
      "ds-vcc-vcc-005-0                                1/1     Running   0          17m\n",
      "ds-vcc-vcc-006-0                                1/1     Running   0          17m\n",
      "ds-vcc-vcc-007-0                                1/1     Running   0          17m\n",
      "ds-vcc-vcc-008-0                                1/1     Running   0          17m\n",
      "ec-bite                                         1/1     Running   0          18m\n",
      "ec-deployer                                     1/1     Running   0          18m\n",
      "ska-tango-base-vnc-gui-0                        1/1     Running   0          18m\n",
      "sv                                              1/1     Running   0          18m\n",
      "sv-data-collector                               1/1     Running   0          18m\n",
      "tangogql-ska-tango-tangogql-test-1222659231-0   1/1     Running   0          18m\n",
      "taranta-ska-tango-taranta-test-1222659231-0     1/1     Running   0          18m\n"
     ]
    }
   ],
   "source": [
    "!kubectl -n $NS get pods"
   ]
  },
  {
   "cell_type": "markdown",
   "metadata": {},
   "source": [
    "## Initial Setup/Using Deployer Device\n",
    "\n",
    "First we want to set up the target board that we will be using for the auto correlation. While this can be multiple boards, for now we will only need one. Punch out the board(s) you have access to and set the `TARGET_BOARD` to assign it to be used in future steps.\n",
    "\n",
    "The `TANGO_HOST` will be created based of the namespace you set earlier."
   ]
  },
  {
   "cell_type": "code",
   "execution_count": 140,
   "metadata": {},
   "outputs": [
    {
     "name": "stdout",
     "output_type": "stream",
     "text": [
      "Will be using HOST:  databaseds-tango-base.ci-ska-mid-psi-1222659231-alexschell.svc.cluster.local:10000\n"
     ]
    }
   ],
   "source": [
    "import os\n",
    "import logging\n",
    "logging.basicConfig(level=logging.INFO)\n",
    "logger = logging.getLogger(__name__)\n",
    "# Set to the boards you wish to configure.\n",
    "TARGET_BOARD = [1]\n",
    "\n",
    "\n",
    "TANGO_HOST = \"databaseds-tango-base.\"+NS+\".svc.cluster.local:10000\"\n",
    "print(\"Will be using HOST: \", TANGO_HOST)\n",
    "\n",
    "os.environ[\"TANGO_HOST\"] = TANGO_HOST"
   ]
  },
  {
   "cell_type": "markdown",
   "metadata": {},
   "source": [
    "We then load in the locations of local files for configuration. If you wish to use custom files you can change the folders pointed to, otherwise this code block can be run without edits."
   ]
  },
  {
   "cell_type": "code",
   "execution_count": 141,
   "metadata": {},
   "outputs": [
    {
     "name": "stdout",
     "output_type": "stream",
     "text": [
      "['assign_resources.json']\n",
      "['hw_config', 'slim_config', 'sys_params']\n"
     ]
    }
   ],
   "source": [
    "# Get files from configs folder in repo\n",
    "currdir = os.path.dirname(os.getcwd())\n",
    "correlator_file_location = os.path.abspath(os.path.join(currdir,\"configs/auto-correlation\"))\n",
    "common_file_location = os.path.abspath(os.path.join(currdir,\"configs/common\"))\n",
    "\n",
    "print(os.listdir(correlator_file_location))\n",
    "print(os.listdir(common_file_location))"
   ]
  },
  {
   "cell_type": "markdown",
   "metadata": {},
   "source": [
    "Next, we pass in the SLIM mesh config files by copying them to the namespace, these files should be in the json_files storage folder. Custom files here are not required, but if needed, the following two code blocks can be used."
   ]
  },
  {
   "cell_type": "code",
   "execution_count": 142,
   "metadata": {},
   "outputs": [
    {
     "name": "stdout",
     "output_type": "stream",
     "text": [
      "SLIM will use defaults for this test.\n"
     ]
    }
   ],
   "source": [
    "# Change this value if you want to specify a certain slim directory for files\n",
    "slim_fs_config = \"\"\n",
    "slim_vis_config = \"\"\n",
    "if slim_fs_config != \"\" and slim_vis_config != \"\" :\n",
    "    fs_config_path = os.path.join(correlator_file_location, slim_fs_config)\n",
    "    vis_config_path = os.path.join(correlator_file_location, slim_vis_config)    \n",
    "else:\n",
    "    print(\"SLIM will use defaults for this test.\")"
   ]
  },
  {
   "cell_type": "code",
   "execution_count": null,
   "metadata": {},
   "outputs": [],
   "source": [
    "!\"kubectl cp {fs_config_path} {NS}/ds-cbfcontroller-controller-0:/app/mnt/slim/fs_slim_config.yaml\"\n",
    "!\"kubectl cp {vis_config_path} {NS}/ds-cbfcontroller-controller-0:/app/mnt/slim/vis_slim_config.yaml\""
   ]
  },
  {
   "cell_type": "markdown",
   "metadata": {},
   "source": [
    "For this demo, we will interact with the TANGO devices via a device proxy, which will allow us to pass commands into them as we would in the UI."
   ]
  },
  {
   "cell_type": "code",
   "execution_count": 143,
   "metadata": {},
   "outputs": [
    {
     "name": "stdout",
     "output_type": "stream",
     "text": [
      "DbDatum[\n",
      "        name = '*'\n",
      "value_string = ['dserver/CbfController/controller', 'dserver/CbfSubarray/cbfsubarray-01', 'dserver/CbfSubarray/cbfsubarray-02', 'dserver/CbfSubarray/cbfsubarray-03', 'dserver/DataBaseds/2', 'dserver/ECBite/bite', 'dserver/ECDeployer/deployer', 'dserver/FspMulti/fsp-01', 'dserver/FspMulti/fsp-02', 'dserver/FspMulti/fsp-03', 'dserver/FspMulti/fsp-04', 'dserver/MidCspCapabilityFsp/capabilityfsp', 'dserver/MidCspCapabilityVcc/capabilityvcc', 'dserver/MidCspController/controller', 'dserver/MidCspSubarray/subarray1', 'dserver/MidCspSubarray/subarray2', 'dserver/MidCspSubarray/subarray3', 'dserver/PowerSwitch/powerswitch-001', 'dserver/PowerSwitch/powerswitch-002', 'dserver/PowerSwitch/powerswitch-003', 'dserver/PowerSwitch/powerswitch-004', 'dserver/Slim/mesh', 'dserver/SlimLink/fs-links', 'dserver/SlimLink/vis-links', 'dserver/TalonBoard/talon-001', 'dserver/TalonBoard/talon-002', 'dserver/TalonBoard/talon-003', 'dserver/TalonBoard/talon-004', 'dserver/TalonBoard/talon-005', 'dserver/TalonBoard/talon-006', 'dserver/TalonBoard/talon-007', 'dserver/TalonBoard/talon-008', 'dserver/TalonDxLogConsumer/001', 'dserver/TalonLRU/talonlru-001', 'dserver/TalonLRU/talonlru-002', 'dserver/TalonLRU/talonlru-003', 'dserver/TalonLRU/talonlru-004', 'dserver/TangoTest/test', 'dserver/TmCspSubarrayLeafNodeTest/tm', 'dserver/TmCspSubarrayLeafNodeTest/tm2', 'dserver/VccMulti/vcc-001', 'dserver/VccMulti/vcc-002', 'dserver/VccMulti/vcc-003', 'dserver/VccMulti/vcc-004', 'dserver/VccMulti/vcc-005', 'dserver/VccMulti/vcc-006', 'dserver/VccMulti/vcc-007', 'dserver/VccMulti/vcc-008', 'mid-csp/capability-fsp/0', 'mid-csp/capability-vcc/0', 'mid-csp/control/0', 'mid-csp/subarray/01', 'mid-csp/subarray/02', 'mid-csp/subarray/03', 'mid_csp_cbf/ec/bite', 'mid_csp_cbf/ec/deployer', 'mid_csp_cbf/fsp/01', 'mid_csp_cbf/fsp/02', 'mid_csp_cbf/fsp/03', 'mid_csp_cbf/fsp/04', 'mid_csp_cbf/fspCorrSubarray/01_01', 'mid_csp_cbf/fspCorrSubarray/01_02', 'mid_csp_cbf/fspCorrSubarray/01_03', 'mid_csp_cbf/fspCorrSubarray/02_01', 'mid_csp_cbf/fspCorrSubarray/02_02', 'mid_csp_cbf/fspCorrSubarray/02_03', 'mid_csp_cbf/fspCorrSubarray/03_01', 'mid_csp_cbf/fspCorrSubarray/03_02', 'mid_csp_cbf/fspCorrSubarray/03_03', 'mid_csp_cbf/fspCorrSubarray/04_01', 'mid_csp_cbf/fspCorrSubarray/04_02', 'mid_csp_cbf/fspCorrSubarray/04_03', 'mid_csp_cbf/fspPssSubarray/01_01', 'mid_csp_cbf/fspPssSubarray/01_02', 'mid_csp_cbf/fspPssSubarray/01_03', 'mid_csp_cbf/fspPssSubarray/02_01', 'mid_csp_cbf/fspPssSubarray/02_02', 'mid_csp_cbf/fspPssSubarray/02_03', 'mid_csp_cbf/fspPssSubarray/03_01', 'mid_csp_cbf/fspPssSubarray/03_02', 'mid_csp_cbf/fspPssSubarray/03_03', 'mid_csp_cbf/fspPssSubarray/04_01', 'mid_csp_cbf/fspPssSubarray/04_02', 'mid_csp_cbf/fspPssSubarray/04_03', 'mid_csp_cbf/fspPstSubarray/01_01', 'mid_csp_cbf/fspPstSubarray/01_02', 'mid_csp_cbf/fspPstSubarray/01_03', 'mid_csp_cbf/fspPstSubarray/02_01', 'mid_csp_cbf/fspPstSubarray/02_02', 'mid_csp_cbf/fspPstSubarray/02_03', 'mid_csp_cbf/fspPstSubarray/03_01', 'mid_csp_cbf/fspPstSubarray/03_02', 'mid_csp_cbf/fspPstSubarray/03_03', 'mid_csp_cbf/fspPstSubarray/04_01', 'mid_csp_cbf/fspPstSubarray/04_02', 'mid_csp_cbf/fspPstSubarray/04_03', 'mid_csp_cbf/fs_links/000', 'mid_csp_cbf/fs_links/001', 'mid_csp_cbf/fs_links/002', 'mid_csp_cbf/fs_links/003', 'mid_csp_cbf/fs_links/004', 'mid_csp_cbf/fs_links/005', 'mid_csp_cbf/fs_links/006', 'mid_csp_cbf/fs_links/007', 'mid_csp_cbf/fs_links/008', 'mid_csp_cbf/fs_links/009', 'mid_csp_cbf/fs_links/010', 'mid_csp_cbf/fs_links/011', 'mid_csp_cbf/fs_links/012', 'mid_csp_cbf/fs_links/013', 'mid_csp_cbf/fs_links/014', 'mid_csp_cbf/fs_links/015', 'mid_csp_cbf/power_switch/001', 'mid_csp_cbf/power_switch/002', 'mid_csp_cbf/power_switch/003', 'mid_csp_cbf/power_switch/004', 'mid_csp_cbf/slim/slim-fs', 'mid_csp_cbf/slim/slim-vis', 'mid_csp_cbf/sub_elt/controller', 'mid_csp_cbf/sub_elt/subarray_01', 'mid_csp_cbf/sub_elt/subarray_02', 'mid_csp_cbf/sub_elt/subarray_03', 'mid_csp_cbf/talondx_log_consumer/001', 'mid_csp_cbf/talon_board/001', 'mid_csp_cbf/talon_board/002', 'mid_csp_cbf/talon_board/003', 'mid_csp_cbf/talon_board/004', 'mid_csp_cbf/talon_board/005', 'mid_csp_cbf/talon_board/006', 'mid_csp_cbf/talon_board/007', 'mid_csp_cbf/talon_board/008', 'mid_csp_cbf/talon_lru/001', 'mid_csp_cbf/talon_lru/002', 'mid_csp_cbf/talon_lru/003', 'mid_csp_cbf/talon_lru/004', 'mid_csp_cbf/vcc/001', 'mid_csp_cbf/vcc/002', 'mid_csp_cbf/vcc/003', 'mid_csp_cbf/vcc/004', 'mid_csp_cbf/vcc/005', 'mid_csp_cbf/vcc/006', 'mid_csp_cbf/vcc/007', 'mid_csp_cbf/vcc/008', 'mid_csp_cbf/vcc_sw1/001', 'mid_csp_cbf/vcc_sw1/002', 'mid_csp_cbf/vcc_sw1/003', 'mid_csp_cbf/vcc_sw1/004', 'mid_csp_cbf/vcc_sw1/005', 'mid_csp_cbf/vcc_sw1/006', 'mid_csp_cbf/vcc_sw1/007', 'mid_csp_cbf/vcc_sw1/008', 'mid_csp_cbf/vcc_sw2/001', 'mid_csp_cbf/vcc_sw2/002', 'mid_csp_cbf/vcc_sw2/003', 'mid_csp_cbf/vcc_sw2/004', 'mid_csp_cbf/vcc_sw2/005', 'mid_csp_cbf/vcc_sw2/006', 'mid_csp_cbf/vcc_sw2/007', 'mid_csp_cbf/vcc_sw2/008', 'mid_csp_cbf/vis_links/000', 'mid_csp_cbf/vis_links/001', 'mid_csp_cbf/vis_links/002', 'mid_csp_cbf/vis_links/003', 'ska_mid/tm_leaf_node/csp_subarray_01', 'ska_mid/tm_leaf_node/csp_subarray_02', 'sys/database/2', 'sys/tg_test/1']]\n",
      "\n",
      "State of deployer device:\n",
      "ON\n"
     ]
    }
   ],
   "source": [
    "from PyTango import DeviceProxy, Database\n",
    "\n",
    "# Setup the device proxies targeting bite and deployer\n",
    "db = Database()\n",
    "deployer_tango = DeviceProxy(\"mid_csp_cbf/ec/deployer\")\n",
    "\n",
    "#Check the devices initially deployed to the database\n",
    "devices = db.get_device_exported(\"*\")\n",
    "print(devices)\n",
    "# Make sure the deployer device is set to ON\n",
    "deployer_tango.On()\n",
    "print(\"State of deployer device:\")\n",
    "print(deployer_tango.state())"
   ]
  },
  {
   "cell_type": "markdown",
   "metadata": {},
   "source": [
    "First, we set the target talon boards we want to set up our configuration for. In Jive/Taranta, this would be configured by manually writing the attribute via the UI. Multiple boards can be targeted."
   ]
  },
  {
   "cell_type": "code",
   "execution_count": 145,
   "metadata": {},
   "outputs": [],
   "source": [
    "deployer_tango.write_attribute(\"targetTalons\",TARGET_BOARD)"
   ]
  },
  {
   "cell_type": "markdown",
   "metadata": {},
   "source": [
    "With this set, we can then run the configuration command by calling the generate_config_jsons command."
   ]
  },
  {
   "cell_type": "code",
   "execution_count": 146,
   "metadata": {},
   "outputs": [],
   "source": [
    "deployer_tango.command_inout(\"generate_config_jsons\")"
   ]
  },
  {
   "cell_type": "markdown",
   "metadata": {},
   "source": [
    "We then get the device artifacts from the [artifact repository](https://artefact.skao.int/#browse/browse:helm-internal) by running the command via TANGO. This step may take some time as it downloads multiple devices."
   ]
  },
  {
   "cell_type": "code",
   "execution_count": 147,
   "metadata": {},
   "outputs": [],
   "source": [
    "deployer_tango.set_timeout_millis(200000)\n",
    "try:\n",
    "    deployer_tango.command_inout(\"download_artifacts\")\n",
    "except Exception as e:\n",
    "    print(e)\n",
    "    print(\"Timed out, this is likely due to the download taking some time. Check the logs with the code space below after some time to see if it passes.\")\n",
    "deployer_tango.set_timeout_millis(4500)"
   ]
  },
  {
   "cell_type": "markdown",
   "metadata": {},
   "source": [
    "To check that the artifacts downloaded successfully, we want to check that the following returns something like `INFO|Dummy-2|download_fpga_bitstreams|midcbf_deployer.py#418||Finished downloading`. "
   ]
  },
  {
   "cell_type": "code",
   "execution_count": 148,
   "metadata": {},
   "outputs": [
    {
     "name": "stdout",
     "output_type": "stream",
     "text": [
      "1|2024-03-23T00:22:46.140Z|INFO|Dummy-2|download_fpga_bitstreams|midcbf_deployer.py#418||Finished downloading\n",
      "^C\n"
     ]
    }
   ],
   "source": [
    "!kubectl logs -n $NS ds-deployer-deployer-0 -f | grep 'Finished downloading'"
   ]
  },
  {
   "cell_type": "markdown",
   "metadata": {},
   "source": [
    "Finally, we can configure the TANGO database with all the tango devices we just downloaded using the ConfigDB command."
   ]
  },
  {
   "cell_type": "code",
   "execution_count": 149,
   "metadata": {},
   "outputs": [],
   "source": [
    "deployer_tango.command_inout(\"configure_db\")"
   ]
  },
  {
   "cell_type": "markdown",
   "metadata": {},
   "source": [
    "The TANGO database should now be configured with all the devices needed for the next step, running the BITE device."
   ]
  },
  {
   "cell_type": "code",
   "execution_count": 150,
   "metadata": {},
   "outputs": [
    {
     "name": "stdout",
     "output_type": "stream",
     "text": [
      "dserver/CbfController/controller\n",
      "dserver/CbfSubarray/cbfsubarray-01\n",
      "dserver/CbfSubarray/cbfsubarray-02\n",
      "dserver/CbfSubarray/cbfsubarray-03\n",
      "dserver/DataBaseds/2\n",
      "dserver/ECBite/bite\n",
      "dserver/ECDeployer/deployer\n",
      "dserver/FspMulti/fsp-01\n",
      "dserver/FspMulti/fsp-02\n",
      "dserver/FspMulti/fsp-03\n",
      "dserver/FspMulti/fsp-04\n",
      "dserver/MidCspCapabilityFsp/capabilityfsp\n",
      "dserver/MidCspCapabilityVcc/capabilityvcc\n",
      "dserver/MidCspController/controller\n",
      "dserver/MidCspSubarray/subarray1\n",
      "dserver/MidCspSubarray/subarray2\n",
      "dserver/MidCspSubarray/subarray3\n",
      "dserver/PowerSwitch/powerswitch-001\n",
      "dserver/PowerSwitch/powerswitch-002\n",
      "dserver/PowerSwitch/powerswitch-003\n",
      "dserver/PowerSwitch/powerswitch-004\n",
      "dserver/Slim/mesh\n",
      "dserver/SlimLink/fs-links\n",
      "dserver/SlimLink/vis-links\n",
      "dserver/TalonBoard/talon-001\n",
      "dserver/TalonBoard/talon-002\n",
      "dserver/TalonBoard/talon-003\n",
      "dserver/TalonBoard/talon-004\n",
      "dserver/TalonBoard/talon-005\n",
      "dserver/TalonBoard/talon-006\n",
      "dserver/TalonBoard/talon-007\n",
      "dserver/TalonBoard/talon-008\n",
      "dserver/TalonDxLogConsumer/001\n",
      "dserver/TalonLRU/talonlru-001\n",
      "dserver/TalonLRU/talonlru-002\n",
      "dserver/TalonLRU/talonlru-003\n",
      "dserver/TalonLRU/talonlru-004\n",
      "dserver/TangoTest/test\n",
      "dserver/TmCspSubarrayLeafNodeTest/tm\n",
      "dserver/TmCspSubarrayLeafNodeTest/tm2\n",
      "dserver/VccMulti/vcc-001\n",
      "dserver/VccMulti/vcc-002\n",
      "dserver/VccMulti/vcc-003\n",
      "dserver/VccMulti/vcc-004\n",
      "dserver/VccMulti/vcc-005\n",
      "dserver/VccMulti/vcc-006\n",
      "dserver/VccMulti/vcc-007\n",
      "dserver/VccMulti/vcc-008\n",
      "mid-csp/capability-fsp/0\n",
      "mid-csp/capability-vcc/0\n",
      "mid-csp/control/0\n",
      "mid-csp/subarray/01\n",
      "mid-csp/subarray/02\n",
      "mid-csp/subarray/03\n",
      "mid_csp_cbf/ec/bite\n",
      "mid_csp_cbf/ec/deployer\n",
      "mid_csp_cbf/fsp/01\n",
      "mid_csp_cbf/fsp/02\n",
      "mid_csp_cbf/fsp/03\n",
      "mid_csp_cbf/fsp/04\n",
      "mid_csp_cbf/fspCorrSubarray/01_01\n",
      "mid_csp_cbf/fspCorrSubarray/01_02\n",
      "mid_csp_cbf/fspCorrSubarray/01_03\n",
      "mid_csp_cbf/fspCorrSubarray/02_01\n",
      "mid_csp_cbf/fspCorrSubarray/02_02\n",
      "mid_csp_cbf/fspCorrSubarray/02_03\n",
      "mid_csp_cbf/fspCorrSubarray/03_01\n",
      "mid_csp_cbf/fspCorrSubarray/03_02\n",
      "mid_csp_cbf/fspCorrSubarray/03_03\n",
      "mid_csp_cbf/fspCorrSubarray/04_01\n",
      "mid_csp_cbf/fspCorrSubarray/04_02\n",
      "mid_csp_cbf/fspCorrSubarray/04_03\n",
      "mid_csp_cbf/fspPssSubarray/01_01\n",
      "mid_csp_cbf/fspPssSubarray/01_02\n",
      "mid_csp_cbf/fspPssSubarray/01_03\n",
      "mid_csp_cbf/fspPssSubarray/02_01\n",
      "mid_csp_cbf/fspPssSubarray/02_02\n",
      "mid_csp_cbf/fspPssSubarray/02_03\n",
      "mid_csp_cbf/fspPssSubarray/03_01\n",
      "mid_csp_cbf/fspPssSubarray/03_02\n",
      "mid_csp_cbf/fspPssSubarray/03_03\n",
      "mid_csp_cbf/fspPssSubarray/04_01\n",
      "mid_csp_cbf/fspPssSubarray/04_02\n",
      "mid_csp_cbf/fspPssSubarray/04_03\n",
      "mid_csp_cbf/fspPstSubarray/01_01\n",
      "mid_csp_cbf/fspPstSubarray/01_02\n",
      "mid_csp_cbf/fspPstSubarray/01_03\n",
      "mid_csp_cbf/fspPstSubarray/02_01\n",
      "mid_csp_cbf/fspPstSubarray/02_02\n",
      "mid_csp_cbf/fspPstSubarray/02_03\n",
      "mid_csp_cbf/fspPstSubarray/03_01\n",
      "mid_csp_cbf/fspPstSubarray/03_02\n",
      "mid_csp_cbf/fspPstSubarray/03_03\n",
      "mid_csp_cbf/fspPstSubarray/04_01\n",
      "mid_csp_cbf/fspPstSubarray/04_02\n",
      "mid_csp_cbf/fspPstSubarray/04_03\n",
      "mid_csp_cbf/fs_links/000\n",
      "mid_csp_cbf/fs_links/001\n",
      "mid_csp_cbf/fs_links/002\n",
      "mid_csp_cbf/fs_links/003\n",
      "mid_csp_cbf/fs_links/004\n",
      "mid_csp_cbf/fs_links/005\n",
      "mid_csp_cbf/fs_links/006\n",
      "mid_csp_cbf/fs_links/007\n",
      "mid_csp_cbf/fs_links/008\n",
      "mid_csp_cbf/fs_links/009\n",
      "mid_csp_cbf/fs_links/010\n",
      "mid_csp_cbf/fs_links/011\n",
      "mid_csp_cbf/fs_links/012\n",
      "mid_csp_cbf/fs_links/013\n",
      "mid_csp_cbf/fs_links/014\n",
      "mid_csp_cbf/fs_links/015\n",
      "mid_csp_cbf/power_switch/001\n",
      "mid_csp_cbf/power_switch/002\n",
      "mid_csp_cbf/power_switch/003\n",
      "mid_csp_cbf/power_switch/004\n",
      "mid_csp_cbf/slim/slim-fs\n",
      "mid_csp_cbf/slim/slim-vis\n",
      "mid_csp_cbf/sub_elt/controller\n",
      "mid_csp_cbf/sub_elt/subarray_01\n",
      "mid_csp_cbf/sub_elt/subarray_02\n",
      "mid_csp_cbf/sub_elt/subarray_03\n",
      "mid_csp_cbf/talondx_log_consumer/001\n",
      "mid_csp_cbf/talon_board/001\n",
      "mid_csp_cbf/talon_board/002\n",
      "mid_csp_cbf/talon_board/003\n",
      "mid_csp_cbf/talon_board/004\n",
      "mid_csp_cbf/talon_board/005\n",
      "mid_csp_cbf/talon_board/006\n",
      "mid_csp_cbf/talon_board/007\n",
      "mid_csp_cbf/talon_board/008\n",
      "mid_csp_cbf/talon_lru/001\n",
      "mid_csp_cbf/talon_lru/002\n",
      "mid_csp_cbf/talon_lru/003\n",
      "mid_csp_cbf/talon_lru/004\n",
      "mid_csp_cbf/vcc/001\n",
      "mid_csp_cbf/vcc/002\n",
      "mid_csp_cbf/vcc/003\n",
      "mid_csp_cbf/vcc/004\n",
      "mid_csp_cbf/vcc/005\n",
      "mid_csp_cbf/vcc/006\n",
      "mid_csp_cbf/vcc/007\n",
      "mid_csp_cbf/vcc/008\n",
      "mid_csp_cbf/vcc_sw1/001\n",
      "mid_csp_cbf/vcc_sw1/002\n",
      "mid_csp_cbf/vcc_sw1/003\n",
      "mid_csp_cbf/vcc_sw1/004\n",
      "mid_csp_cbf/vcc_sw1/005\n",
      "mid_csp_cbf/vcc_sw1/006\n",
      "mid_csp_cbf/vcc_sw1/007\n",
      "mid_csp_cbf/vcc_sw1/008\n",
      "mid_csp_cbf/vcc_sw2/001\n",
      "mid_csp_cbf/vcc_sw2/002\n",
      "mid_csp_cbf/vcc_sw2/003\n",
      "mid_csp_cbf/vcc_sw2/004\n",
      "mid_csp_cbf/vcc_sw2/005\n",
      "mid_csp_cbf/vcc_sw2/006\n",
      "mid_csp_cbf/vcc_sw2/007\n",
      "mid_csp_cbf/vcc_sw2/008\n",
      "mid_csp_cbf/vis_links/000\n",
      "mid_csp_cbf/vis_links/001\n",
      "mid_csp_cbf/vis_links/002\n",
      "mid_csp_cbf/vis_links/003\n",
      "ska_mid/tm_leaf_node/csp_subarray_01\n",
      "ska_mid/tm_leaf_node/csp_subarray_02\n",
      "sys/database/2\n",
      "sys/tg_test/1\n"
     ]
    }
   ],
   "source": [
    "print(*db.get_device_exported(\"*\").value_string, sep=\"\\n\")"
   ]
  },
  {
   "cell_type": "markdown",
   "metadata": {},
   "source": [
    "## Setting Controller settings"
   ]
  },
  {
   "cell_type": "markdown",
   "metadata": {},
   "source": [
    "Now that we have the controller device deployed, we can use it to prep for further steps."
   ]
  },
  {
   "cell_type": "code",
   "execution_count": 151,
   "metadata": {},
   "outputs": [
    {
     "name": "stdout",
     "output_type": "stream",
     "text": [
      "The device is in DISABLE state.\n"
     ]
    }
   ],
   "source": [
    "CBF_tango = DeviceProxy(\"mid_csp_cbf/sub_elt/controller\")\n",
    "control_tango = DeviceProxy(\"mid-csp/control/0\")\n",
    "subarray_tango = DeviceProxy(\"mid_csp_cbf/sub_elt/subarray_01\")\n",
    "print(CBF_tango.status())"
   ]
  },
  {
   "cell_type": "markdown",
   "metadata": {},
   "source": [
    "We can then set adminMode to 0 (ONLINE), allowing us to run commands, and set simulationMode to 0 (FALSE)."
   ]
  },
  {
   "cell_type": "code",
   "execution_count": 158,
   "metadata": {},
   "outputs": [
    {
     "name": "stdout",
     "output_type": "stream",
     "text": [
      "OFF\n",
      "OFF\n",
      "Set values successfully!\n"
     ]
    }
   ],
   "source": [
    "CBF_tango.write_attribute(\"adminMode\",0)\n",
    "CBF_tango.write_attribute(\"simulationMode\",0)\n",
    "subarray_tango.write_attribute(\"adminMode\",0)\n",
    "subarray_tango.write_attribute(\"simulationMode\",0)\n",
    "control_tango.write_attribute(\"adminMode\",0)\n",
    "control_tango.write_attribute(\"simulationMode\",0)\n",
    "control_tango.write_attribute(\"cbfSimulationMode\",0)\n",
    "print(CBF_tango.State())\n",
    "print(control_tango.State())\n",
    "\n",
    "if CBF_tango.read_attribute(\"adminMode\").value == 0 and CBF_tango.read_attribute(\"simulationmode\").value == 0:\n",
    "    print (\"Set values successfully!\")\n",
    "elif CBF_tango.read_attribute(\"adminMode\").value == 0 and CBF_tango.read_attribute(\"simulationmode\").value == 1:\n",
    "    print (\"Set to simulation mode on.\")\n",
    "else:\n",
    "    print (\"Error, couldn't set values!\")\n"
   ]
  },
  {
   "cell_type": "markdown",
   "metadata": {},
   "source": [
    "Next, we load in a inital values parameters and pass it to the controller, to do this we read in JSON file and pass it as a DevString to the relevant device command:"
   ]
  },
  {
   "cell_type": "code",
   "execution_count": 161,
   "metadata": {},
   "outputs": [
    {
     "name": "stdout",
     "output_type": "stream",
     "text": [
      "{\n",
      "\t\"interface\": \"https://schema.skao.int/ska-mid-cbf-initsysparam/1.0\",\n",
      "\t\"dish_parameters\": {\n",
      "\t\t\"SKA001\": {\n",
      "\t\t\t\"vcc\": 1,\n",
      "\t\t\t\"k\"\t : 100\n",
      "\t\t},\n",
      "\t\t\"SKA036\": {\n",
      "\t\t\t\"vcc\": 2,\n",
      "\t\t\t\"k\"\t : 618\n",
      "\t\t},\n",
      "\t\t\"SKA063\": {\n",
      "\t\t\t\"vcc\": 3,\n",
      "\t\t\t\"k\"\t : 1220\n",
      "\t\t},\n",
      "\t\t\"SKA100\": {\n",
      "\t\t\t\"vcc\": 4,\n",
      "\t\t\t\"k\"\t : 1815\n",
      "\t\t}\n",
      "\t}\n",
      "}\n"
     ]
    },
    {
     "ename": "DevFailed",
     "evalue": "DevFailed[\nDevError[\n    desc = Command On not allowed when the device is in DISABLE state\n  origin = CORBA::Any* Tango::DeviceClass::command_handler(Tango::DeviceImpl*, const string&, const CORBA::Any&) at (/src/cppTango/cppapi/server/deviceclass.cpp:1139)\n  reason = API_CommandNotAllowed\nseverity = ERR]\n\nDevError[\n    desc = Failed to execute command_inout on device mid-csp/control/0, command On\n  origin = virtual Tango::DeviceData Tango::Connection::command_inout(const string&, const Tango::DeviceData&) at (/src/cppTango/src/client/devapi_base.cpp:1334)\n  reason = API_CommandFailed\nseverity = ERR]\n]",
     "output_type": "error",
     "traceback": [
      "\u001b[0;31m---------------------------------------------------------------------------\u001b[0m",
      "\u001b[0;31mDevFailed\u001b[0m                                 Traceback (most recent call last)",
      "Cell \u001b[0;32mIn[161], line 15\u001b[0m\n\u001b[1;32m     13\u001b[0m CBF_tango\u001b[38;5;241m.\u001b[39mOn()\n\u001b[1;32m     14\u001b[0m control_tango\u001b[38;5;241m.\u001b[39mInit()\n\u001b[0;32m---> 15\u001b[0m \u001b[43mcontrol_tango\u001b[49m\u001b[38;5;241;43m.\u001b[39;49m\u001b[43mOn\u001b[49m\u001b[43m(\u001b[49m\u001b[43m)\u001b[49m\n\u001b[1;32m     16\u001b[0m \u001b[38;5;28mprint\u001b[39m(CBF_tango\u001b[38;5;241m.\u001b[39mstatus())\n",
      "File \u001b[0;32m~/envs/al_venv/lib/python3.9/site-packages/tango/device_proxy.py:365\u001b[0m, in \u001b[0;36m__get_command_func.<locals>.f\u001b[0;34m(*args, **kwds)\u001b[0m\n\u001b[1;32m    364\u001b[0m \u001b[38;5;28;01mdef\u001b[39;00m \u001b[38;5;21mf\u001b[39m(\u001b[38;5;241m*\u001b[39margs, \u001b[38;5;241m*\u001b[39m\u001b[38;5;241m*\u001b[39mkwds):\n\u001b[0;32m--> 365\u001b[0m     \u001b[38;5;28;01mreturn\u001b[39;00m \u001b[43mdp\u001b[49m\u001b[38;5;241;43m.\u001b[39;49m\u001b[43mcommand_inout\u001b[49m\u001b[43m(\u001b[49m\u001b[43mname\u001b[49m\u001b[43m,\u001b[49m\u001b[43m \u001b[49m\u001b[38;5;241;43m*\u001b[39;49m\u001b[43margs\u001b[49m\u001b[43m,\u001b[49m\u001b[43m \u001b[49m\u001b[38;5;241;43m*\u001b[39;49m\u001b[38;5;241;43m*\u001b[39;49m\u001b[43mkwds\u001b[49m\u001b[43m)\u001b[49m\n",
      "File \u001b[0;32m~/envs/al_venv/lib/python3.9/site-packages/tango/green.py:234\u001b[0m, in \u001b[0;36mgreen.<locals>.decorator.<locals>.greener\u001b[0;34m(obj, *args, **kwargs)\u001b[0m\n\u001b[1;32m    232\u001b[0m green_mode \u001b[38;5;241m=\u001b[39m access(\u001b[38;5;124m\"\u001b[39m\u001b[38;5;124mgreen_mode\u001b[39m\u001b[38;5;124m\"\u001b[39m, \u001b[38;5;28;01mNone\u001b[39;00m)\n\u001b[1;32m    233\u001b[0m executor \u001b[38;5;241m=\u001b[39m get_object_executor(obj, green_mode)\n\u001b[0;32m--> 234\u001b[0m \u001b[38;5;28;01mreturn\u001b[39;00m \u001b[43mexecutor\u001b[49m\u001b[38;5;241;43m.\u001b[39;49m\u001b[43mrun\u001b[49m\u001b[43m(\u001b[49m\u001b[43mfn\u001b[49m\u001b[43m,\u001b[49m\u001b[43m \u001b[49m\u001b[43margs\u001b[49m\u001b[43m,\u001b[49m\u001b[43m \u001b[49m\u001b[43mkwargs\u001b[49m\u001b[43m,\u001b[49m\u001b[43m \u001b[49m\u001b[43mwait\u001b[49m\u001b[38;5;241;43m=\u001b[39;49m\u001b[43mwait\u001b[49m\u001b[43m,\u001b[49m\u001b[43m \u001b[49m\u001b[43mtimeout\u001b[49m\u001b[38;5;241;43m=\u001b[39;49m\u001b[43mtimeout\u001b[49m\u001b[43m)\u001b[49m\n",
      "File \u001b[0;32m~/envs/al_venv/lib/python3.9/site-packages/tango/green.py:124\u001b[0m, in \u001b[0;36mAbstractExecutor.run\u001b[0;34m(self, fn, args, kwargs, wait, timeout)\u001b[0m\n\u001b[1;32m    122\u001b[0m \u001b[38;5;66;03m# Synchronous (no delegation)\u001b[39;00m\n\u001b[1;32m    123\u001b[0m \u001b[38;5;28;01mif\u001b[39;00m \u001b[38;5;129;01mnot\u001b[39;00m \u001b[38;5;28mself\u001b[39m\u001b[38;5;241m.\u001b[39masynchronous \u001b[38;5;129;01mor\u001b[39;00m \u001b[38;5;129;01mnot\u001b[39;00m \u001b[38;5;28mself\u001b[39m\u001b[38;5;241m.\u001b[39min_executor_context():\n\u001b[0;32m--> 124\u001b[0m     \u001b[38;5;28;01mreturn\u001b[39;00m \u001b[43mfn\u001b[49m\u001b[43m(\u001b[49m\u001b[38;5;241;43m*\u001b[39;49m\u001b[43margs\u001b[49m\u001b[43m,\u001b[49m\u001b[43m \u001b[49m\u001b[38;5;241;43m*\u001b[39;49m\u001b[38;5;241;43m*\u001b[39;49m\u001b[43mkwargs\u001b[49m\u001b[43m)\u001b[49m\n\u001b[1;32m    125\u001b[0m \u001b[38;5;66;03m# Asynchronous delegation\u001b[39;00m\n\u001b[1;32m    126\u001b[0m accessor \u001b[38;5;241m=\u001b[39m \u001b[38;5;28mself\u001b[39m\u001b[38;5;241m.\u001b[39mdelegate(fn, \u001b[38;5;241m*\u001b[39margs, \u001b[38;5;241m*\u001b[39m\u001b[38;5;241m*\u001b[39mkwargs)\n",
      "File \u001b[0;32m~/envs/al_venv/lib/python3.9/site-packages/tango/connection.py:116\u001b[0m, in \u001b[0;36m__Connection__command_inout\u001b[0;34m(self, name, *args, **kwds)\u001b[0m\n\u001b[1;32m     84\u001b[0m \u001b[38;5;28;01mdef\u001b[39;00m \u001b[38;5;21m__Connection__command_inout\u001b[39m(\u001b[38;5;28mself\u001b[39m, name, \u001b[38;5;241m*\u001b[39margs, \u001b[38;5;241m*\u001b[39m\u001b[38;5;241m*\u001b[39mkwds):\n\u001b[1;32m     85\u001b[0m \u001b[38;5;250m    \u001b[39m\u001b[38;5;124;03m\"\"\"\u001b[39;00m\n\u001b[1;32m     86\u001b[0m \u001b[38;5;124;03m    command_inout( self, cmd_name, cmd_param=None, green_mode=None, wait=True, timeout=None) -> any\u001b[39;00m\n\u001b[1;32m     87\u001b[0m \n\u001b[0;32m   (...)\u001b[0m\n\u001b[1;32m    114\u001b[0m \u001b[38;5;124;03m        *timeout* parameter.\u001b[39;00m\n\u001b[1;32m    115\u001b[0m \u001b[38;5;124;03m    \"\"\"\u001b[39;00m\n\u001b[0;32m--> 116\u001b[0m     r \u001b[38;5;241m=\u001b[39m \u001b[43mConnection\u001b[49m\u001b[38;5;241;43m.\u001b[39;49m\u001b[43mcommand_inout_raw\u001b[49m\u001b[43m(\u001b[49m\u001b[38;5;28;43mself\u001b[39;49m\u001b[43m,\u001b[49m\u001b[43m \u001b[49m\u001b[43mname\u001b[49m\u001b[43m,\u001b[49m\u001b[43m \u001b[49m\u001b[38;5;241;43m*\u001b[39;49m\u001b[43margs\u001b[49m\u001b[43m,\u001b[49m\u001b[43m \u001b[49m\u001b[38;5;241;43m*\u001b[39;49m\u001b[38;5;241;43m*\u001b[39;49m\u001b[43mkwds\u001b[49m\u001b[43m)\u001b[49m\n\u001b[1;32m    117\u001b[0m     \u001b[38;5;28;01mif\u001b[39;00m \u001b[38;5;28misinstance\u001b[39m(r, DeviceData):\n\u001b[1;32m    118\u001b[0m         \u001b[38;5;28;01mtry\u001b[39;00m:\n",
      "File \u001b[0;32m~/envs/al_venv/lib/python3.9/site-packages/tango/connection.py:145\u001b[0m, in \u001b[0;36m__Connection__command_inout_raw\u001b[0;34m(self, cmd_name, cmd_param)\u001b[0m\n\u001b[1;32m    130\u001b[0m \u001b[38;5;250m\u001b[39m\u001b[38;5;124;03m\"\"\"\u001b[39;00m\n\u001b[1;32m    131\u001b[0m \u001b[38;5;124;03mcommand_inout_raw( self, cmd_name, cmd_param=None) -> DeviceData\u001b[39;00m\n\u001b[1;32m    132\u001b[0m \n\u001b[0;32m   (...)\u001b[0m\n\u001b[1;32m    142\u001b[0m \u001b[38;5;124;03m    Throws     : ConnectionFailed, CommunicationFailed, DeviceUnlocked, DevFailed from device\u001b[39;00m\n\u001b[1;32m    143\u001b[0m \u001b[38;5;124;03m\"\"\"\u001b[39;00m\n\u001b[1;32m    144\u001b[0m param \u001b[38;5;241m=\u001b[39m __get_command_inout_param(\u001b[38;5;28mself\u001b[39m, cmd_name, cmd_param)\n\u001b[0;32m--> 145\u001b[0m \u001b[38;5;28;01mreturn\u001b[39;00m \u001b[38;5;28;43mself\u001b[39;49m\u001b[38;5;241;43m.\u001b[39;49m\u001b[43m__command_inout\u001b[49m\u001b[43m(\u001b[49m\u001b[43mcmd_name\u001b[49m\u001b[43m,\u001b[49m\u001b[43m \u001b[49m\u001b[43mparam\u001b[49m\u001b[43m)\u001b[49m\n",
      "\u001b[0;31mDevFailed\u001b[0m: DevFailed[\nDevError[\n    desc = Command On not allowed when the device is in DISABLE state\n  origin = CORBA::Any* Tango::DeviceClass::command_handler(Tango::DeviceImpl*, const string&, const CORBA::Any&) at (/src/cppTango/cppapi/server/deviceclass.cpp:1139)\n  reason = API_CommandNotAllowed\nseverity = ERR]\n\nDevError[\n    desc = Failed to execute command_inout on device mid-csp/control/0, command On\n  origin = virtual Tango::DeviceData Tango::Connection::command_inout(const string&, const Tango::DeviceData&) at (/src/cppTango/src/client/devapi_base.cpp:1334)\n  reason = API_CommandFailed\nseverity = ERR]\n]"
     ]
    }
   ],
   "source": [
    "\n",
    "init_sys_param_file = os.path.join(common_file_location, \"sys_params/initial_system_param.json\")\n",
    "\n",
    "with open(init_sys_param_file) as init_file:\n",
    "    data = init_file.read()\n",
    "# Use the InitSysParam command and feed in data\n",
    "    \n",
    "# add in check for off state before writing\n",
    "CBF_tango.command_inout(\"InitSysParam\", data)\n",
    "print(subarray_tango.sysParam)\n",
    "\n",
    "\n",
    "CBF_tango.Init()\n",
    "CBF_tango.On()\n",
    "control_tango.Init()\n",
    "control_tango.On()\n",
    "print(CBF_tango.status())"
   ]
  },
  {
   "cell_type": "markdown",
   "metadata": {},
   "source": [
    "TODO: Add in HW swap for using higher # Talon boards."
   ]
  },
  {
   "cell_type": "markdown",
   "metadata": {},
   "source": [
    "## Running Commands Through the BITE Device"
   ]
  },
  {
   "cell_type": "markdown",
   "metadata": {},
   "source": [
    "Now that the BITE tango Device has been deployed via the deployer, we can use it to configure tests. First we check the device is running."
   ]
  },
  {
   "cell_type": "code",
   "execution_count": 128,
   "metadata": {},
   "outputs": [
    {
     "name": "stdout",
     "output_type": "stream",
     "text": [
      "RUNNING\n"
     ]
    }
   ],
   "source": [
    "target_mac_address = \"08:c0:eb:9d:47:78\"\n",
    "\n",
    "bite_tango = DeviceProxy(\"mid_csp_cbf/ec/bite\")\n",
    "# Running this should return RUNNING\n",
    "print(bite_tango.State())"
   ]
  },
  {
   "cell_type": "markdown",
   "metadata": {},
   "source": [
    "Now that we have confirmed it is running, we load in what board we want to configure."
   ]
  },
  {
   "cell_type": "code",
   "execution_count": 129,
   "metadata": {},
   "outputs": [],
   "source": [
    "bite_tango.write_attribute(\"boards\",TARGET_BOARD)\n",
    "bite_tango.write_attribute(\"bite_mac_address\", target_mac_address)"
   ]
  },
  {
   "cell_type": "markdown",
   "metadata": {},
   "source": [
    "For now, we can use the defaults and simply call the write command for the test configs. This should return the configuration for each board passed in."
   ]
  },
  {
   "cell_type": "code",
   "execution_count": 133,
   "metadata": {},
   "outputs": [
    {
     "name": "stdout",
     "output_type": "stream",
     "text": [
      "[midcbf_bite.py: line 43]INFO: User: root\n",
      "[midcbf_bite.py: line 118]INFO: Test parameter files have not all been copied to, or are not all accessible at, their expected location. Cannot proceed with specified test parameters unless all files are present, since some files would be pointing to non-existent information expected in other files. Resorting to the default test parameters in basic_test_parameters.json.\n",
      "[midcbf_bite.py: line 172]INFO: No test parameter arguments provided. Defaulting to basic test parameters on boards: ['1']\n",
      "[midcbf_bite.py: line 182]INFO: BITE receptors: [{'talon': '1', 'dish_id': 'SKA001', 'sample_rate_k': 100, 'bite_config_id': 'basic gaussian noise', 'bite_initial_timestamp_time_offset': 60.0}]\n",
      "[midcbf_bite.py: line 203]INFO: Talon BITE Configure\n",
      "[midcbf_bite.py: line 118]INFO: Creating dps for device server: dsgaussiannoisegen\n",
      "[midcbf_bite.py: line 680]INFO: Creating device server for talondx-001/gaussiannoisegen/gn_gen_src_polX_0\n",
      "[midcbf_bite.py: line 660]INFO: Created device proxy for talondx-001/gaussiannoisegen/gn_gen_src_polX_0\n",
      "[midcbf_bite.py: line 680]INFO: Creating device server for talondx-001/gaussiannoisegen/gn_gen_src_polY_0\n",
      "[midcbf_bite.py: line 660]INFO: Created device proxy for talondx-001/gaussiannoisegen/gn_gen_src_polY_0\n",
      "[midcbf_bite.py: line 118]INFO: Creating dps for device server: dslstvbandpassfilter\n",
      "[midcbf_bite.py: line 680]INFO: Creating device server for talondx-001/lstvbandpassfilter/fir_filt_src_polX_0\n",
      "[midcbf_bite.py: line 660]INFO: Created device proxy for talondx-001/lstvbandpassfilter/fir_filt_src_polX_0\n",
      "[midcbf_bite.py: line 680]INFO: Creating device server for talondx-001/lstvbandpassfilter/fir_filt_src_polY_0\n",
      "[midcbf_bite.py: line 660]INFO: Created device proxy for talondx-001/lstvbandpassfilter/fir_filt_src_polY_0\n",
      "[midcbf_bite.py: line 118]INFO: Creating dps for device server: dslstvgen\n",
      "[midcbf_bite.py: line 680]INFO: Creating device server for talondx-001/lstvgen/lstv_gen\n",
      "[midcbf_bite.py: line 660]INFO: Created device proxy for talondx-001/lstvgen/lstv_gen\n",
      "[midcbf_bite.py: line 118]INFO: Creating dps for device server: dslstvplayback\n",
      "[midcbf_bite.py: line 680]INFO: Creating device server for talondx-001/lstvplayback/lstv_pbk\n",
      "[midcbf_bite.py: line 660]INFO: Created device proxy for talondx-001/lstvplayback/lstv_pbk\n",
      "[midcbf_bite.py: line 118]INFO: Creating dps for device server: ska-mid-spfrx-packetizer-ds\n",
      "[midcbf_bite.py: line 680]INFO: Creating device server for talondx-001/ska-mid-spfrx-packetizer/spfrx_pkt\n",
      "[midcbf_bite.py: line 660]INFO: Created device proxy for talondx-001/ska-mid-spfrx-packetizer/spfrx_pkt\n",
      "[midcbf_bite.py: line 118]INFO: Creating dps for device server: dslstvtonegenerator\n",
      "[midcbf_bite.py: line 680]INFO: Creating device server for talondx-001/lstvtonegenerator/tone_gen_polX\n",
      "[midcbf_bite.py: line 660]INFO: Created device proxy for talondx-001/lstvtonegenerator/tone_gen_polX\n",
      "[midcbf_bite.py: line 680]INFO: Creating device server for talondx-001/lstvtonegenerator/tone_gen_polY\n",
      "[midcbf_bite.py: line 660]INFO: Created device proxy for talondx-001/lstvtonegenerator/tone_gen_polY\n",
      "[midcbf_bite.py: line 118]INFO: Creating dps for device server: dspolarizationcoupler\n",
      "[midcbf_bite.py: line 680]INFO: Creating device server for talondx-001/polarizationcoupler/pol_coupler_0\n",
      "[midcbf_bite.py: line 660]INFO: Created device proxy for talondx-001/polarizationcoupler/pol_coupler_0\n",
      "[midcbf_bite.py: line 118]INFO: Creating dps for device server: dsvcc\n",
      "[midcbf_bite.py: line 680]INFO: Creating device server for talondx-001/vcc/vcc\n",
      "[midcbf_bite.py: line 660]INFO: Created device proxy for talondx-001/vcc/vcc\n",
      "[midcbf_bite.py: line 118]INFO: Creating dps for device server: dscircuitswitch\n",
      "[midcbf_bite.py: line 680]INFO: Creating device server for talondx-001/circuitswitch/circuit_switch\n",
      "[midcbf_bite.py: line 660]INFO: Created device proxy for talondx-001/circuitswitch/circuit_switch\n",
      "[midcbf_bite.py: line 118]INFO: Creating dps for device server: ska-talondx-100-gigabit-ethernet-ds\n",
      "[midcbf_bite.py: line 680]INFO: Creating device server for talondx-001/ska-talondx-100-gigabit-ethernet/100g_eth_0\n",
      "[midcbf_bite.py: line 660]INFO: Created device proxy for talondx-001/ska-talondx-100-gigabit-ethernet/100g_eth_0\n",
      "[midcbf_bite.py: line 680]INFO: Creating device server for talondx-001/ska-talondx-100-gigabit-ethernet/100g_eth_1\n",
      "[midcbf_bite.py: line 660]INFO: Created device proxy for talondx-001/ska-talondx-100-gigabit-ethernet/100g_eth_1\n",
      "[midcbf_bite.py: line 118]INFO: Creating dps for device server: ska-talondx-status-ds\n",
      "[midcbf_bite.py: line 680]INFO: Creating device server for talondx-001/ska-talondx-status/status\n",
      "[midcbf_bite.py: line 660]INFO: Created device proxy for talondx-001/ska-talondx-status/status\n",
      "[midcbf_bite.py: line 118]INFO: Creating dps for device server: dswbstatecount\n",
      "[midcbf_bite.py: line 680]INFO: Creating device server for talondx-001/wbstatecount/state_count\n",
      "[midcbf_bite.py: line 660]INFO: Created device proxy for talondx-001/wbstatecount/state_count\n",
      "[midcbf_bite.py: line 120]INFO: Device proxies have been initialized.\n",
      "[midcbf_bite.py: line 140]INFO: Entering ...\n",
      "[midcbf_bite.py: line 638]INFO: write_attribute(talondx-001/lstvplayback/lstv_pbk, run, 0)\n",
      "[midcbf_bite.py: line 643]ERROR: unsupported data_format.\n",
      "[midcbf_bite.py: line 615]INFO: command_read_write(talondx-001/lstvgen/lstv_gen, ip_control, False)\n",
      "[midcbf_bite.py: line 620]ERROR: DevFailed[\n",
      "DevError[\n",
      "    desc = Device talondx-001/lstvgen/lstv_gen is not exported (hint: try starting the device server)\n",
      "  origin = virtual std::string Tango::DeviceProxy::get_corba_name(bool) at (/src/cppTango/cppapi/client/devapi_base.cpp:2378)\n",
      "  reason = API_DeviceNotExported\n",
      "severity = ERR]\n",
      "]\n",
      "[midcbf_bite.py: line 488]ERROR: DevFailed[\n",
      "DevError[\n",
      "    desc = Failed to connect to device talondx-001/lstvgen/lstv_gen\n",
      "           The connection request was delayed.\n",
      "           The last connection request was done less than 1000 ms ago\n",
      "  origin = virtual void Tango::Connection::reconnect(bool) at (/src/cppTango/cppapi/client/devapi_base.cpp:712)\n",
      "  reason = API_CantConnectToDevice\n",
      "severity = ERR]\n",
      "\n",
      "DevError[\n",
      "    desc = Failed to read_attribute on device talondx-001/lstvgen/lstv_gen, attribute ip_status\n",
      "  origin = virtual Tango::DeviceAttribute Tango::DeviceProxy::read_attribute(const string&) at (/src/cppTango/cppapi/client/devapi_base.cpp:5589)\n",
      "  reason = API_AttributeFailed\n",
      "severity = ERR]\n",
      "]\n"
     ]
    }
   ],
   "source": [
    "#print(bite_tango.command_inout(\"generate_bite_data\"))\n",
    "\n",
    "# For now run the backup\n",
    "!kubectl exec -ti -n $NS ec-bite -- python3 midcbf_bite.py --talon-bite-config --boards=1 --bite_mac_address=$target_mac_address\n"
   ]
  },
  {
   "cell_type": "code",
   "execution_count": null,
   "metadata": {},
   "outputs": [],
   "source": [
    "!kubectl -n $NS logs ds-bite-bite-0 | grep generate_bite_data"
   ]
  },
  {
   "cell_type": "markdown",
   "metadata": {},
   "source": [
    "With the bite data generated, we can then start generating LSTV playback data:"
   ]
  },
  {
   "cell_type": "code",
   "execution_count": null,
   "metadata": {},
   "outputs": [],
   "source": [
    "bite_tango.command_inout(\"start_lstv_replay\")\n"
   ]
  },
  {
   "cell_type": "markdown",
   "metadata": {},
   "source": [
    "We can then check the logs to ensure the LSTV geneartion runs correctly."
   ]
  },
  {
   "cell_type": "code",
   "execution_count": 135,
   "metadata": {},
   "outputs": [
    {
     "name": "stdout",
     "output_type": "stream",
     "text": [
      "[THREAD: MainThread]->[bite.py: line 192]INFO: Start TANGO device init...\n",
      "1|2024-03-22T23:58:12.538Z|INFO|MainThread|write_loggingLevel|base_device.py#1085|tango-device:mid_csp_cbf/ec/bite|Logging level set to LoggingLevel.INFO on Python and Tango loggers\n",
      "1|2024-03-22T23:58:12.538Z|INFO|MainThread|update_logging_handlers|base_device.py#313|tango-device:mid_csp_cbf/ec/bite|Logging targets set to ['tango::logger']\n",
      "1|2024-03-22T23:58:12.545Z|INFO|MainThread|exit|core.py#136||Finished processing state UNINITIALISED exit callbacks.\n",
      "1|2024-03-22T23:58:12.545Z|INFO|MainThread|enter|core.py#130||Finished processing state INIT enter callbacks.\n",
      "1|2024-03-22T23:58:12.545Z|INFO|MainThread|_update_state|base_device.py#905|tango-device:mid_csp_cbf/ec/bite|Device state changed from UNKNOWN to INIT\n",
      "1|2024-03-22T23:58:12.546Z|INFO|MainThread|callbacks|core.py#1147||Executed callback '<bound method OperationStateMachine._state_changed of <ska_tango_base.state_machine.OperationStateMachine object at 0x7fd9af58fc70>>'\n",
      "1|2024-03-22T23:58:12.546Z|INFO|MainThread|do|base_device.py#646|tango-device:mid_csp_cbf/ec/bite|SKABaseDevice Init command completed OK\n",
      "1|2024-03-22T23:58:12.547Z|INFO|MainThread|_call_do|commands.py#211|tango-device:mid_csp_cbf/ec/bite|Exiting command InitCommand with return_code ResultCode.OK, message: 'SKABaseDevice Init command completed OK'\n",
      "1|2024-03-22T23:58:12.548Z|INFO|MainThread|exit|core.py#136||Finished processing state INIT exit callbacks.\n",
      "1|2024-03-22T23:58:12.548Z|INFO|MainThread|enter|core.py#130||Finished processing state OFF enter callbacks.\n",
      "1|2024-03-22T23:58:12.548Z|INFO|MainThread|_update_state|base_device.py#905|tango-device:mid_csp_cbf/ec/bite|Device state changed from INIT to OFF\n",
      "1|2024-03-22T23:58:12.550Z|INFO|MainThread|callbacks|core.py#1147||Executed callback '<bound method OperationStateMachine._state_changed of <ska_tango_base.state_machine.OperationStateMachine object at 0x7fd9af58fc70>>'\n",
      "1|2024-03-22T23:58:12.550Z|INFO|MainThread|load_in_input_json|bite.py#143||Setting test param location to -> /app/src/ska_mid_cbf_engineering_console/bite/\n",
      "1|2024-03-22T23:58:12.550Z|WARNING|MainThread|load_in_input_json|bite.py#171||Couldn't find test data, using fallback basic test data file!\n",
      "1|2024-03-22T23:58:12.550Z|INFO|MainThread|init_device|bite.py#215||Device setup has finished.\n",
      "^C\n",
      "ci-ska-mid-psi-1222659231-alexschell\n"
     ]
    }
   ],
   "source": [
    "!kubectl -n $NS logs ds-bite-bite-0 -f"
   ]
  },
  {
   "cell_type": "markdown",
   "metadata": {},
   "source": [
    "## Assigning Resources"
   ]
  },
  {
   "cell_type": "markdown",
   "metadata": {},
   "source": [
    "Next, we use the relevant subarray device to assign resources. First, as with the other devices, we establish a DeviceProxy to connect to it. We also read in the assign_resources file to load in using the command. "
   ]
  },
  {
   "cell_type": "code",
   "execution_count": null,
   "metadata": {},
   "outputs": [],
   "source": [
    "subarray_tango = DeviceProxy(\"mid-csp/subarray/01\")\n",
    "print(subarray_tango.State())\n",
    "assign_resources_file = os.path.join(correlator_file_location, \"assign_resources.json\")\n",
    "with open(init_sys_param_file) as init_file:\n",
    "    resource_data = init_file.read()\n",
    "\n",
    "subarray_tango.On()\n",
    "print(subarray_tango.State())"
   ]
  },
  {
   "cell_type": "markdown",
   "metadata": {},
   "source": [
    "Next,we run the actual command to pass in the resources:"
   ]
  },
  {
   "cell_type": "code",
   "execution_count": null,
   "metadata": {},
   "outputs": [],
   "source": [
    "subarray_tango.command_inout(\"AssignResources\",resource_data)"
   ]
  },
  {
   "cell_type": "markdown",
   "metadata": {},
   "source": [
    "## SDP Setup"
   ]
  },
  {
   "cell_type": "markdown",
   "metadata": {},
   "source": [
    "Next, we run a few commands to set up the Science Data Processor (SDP), utilizing the sdp namespace"
   ]
  },
  {
   "cell_type": "code",
   "execution_count": null,
   "metadata": {},
   "outputs": [],
   "source": [
    "sdp_namespace = NS+\"-sdp\"\n",
    "print(sdp_namespace)\n",
    "!kubectl -n $sdp_namespace get pods"
   ]
  },
  {
   "cell_type": "markdown",
   "metadata": {},
   "source": [
    "Now, we assign resources as we did with the subarray:"
   ]
  }
 ],
 "metadata": {
  "kernelspec": {
   "display_name": "al_venv",
   "language": "python",
   "name": "python3"
  },
  "language_info": {
   "codemirror_mode": {
    "name": "ipython",
    "version": 3
   },
   "file_extension": ".py",
   "mimetype": "text/x-python",
   "name": "python",
   "nbconvert_exporter": "python",
   "pygments_lexer": "ipython3",
   "version": "3.9.18"
  }
 },
 "nbformat": 4,
 "nbformat_minor": 2
}
