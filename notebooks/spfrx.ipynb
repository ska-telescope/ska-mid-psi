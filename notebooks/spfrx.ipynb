{
 "cells": [
  {
   "cell_type": "markdown",
   "metadata": {},
   "source": [
    "# SPFRx Start\n",
    "##### Last Updated: 20/03/24\n",
    "\n",
    "This demo will show "
   ]
  },
  {
   "cell_type": "markdown",
   "metadata": {},
   "source": [
    "### Pre-requisites\n",
    "\n",
    "This notebook has the following assumptions and pre-requisites:\n",
    "* A deployment that includes TMC, CSP.LMC, and CBF is running. For example, one in a namespace `NS` that was launched from the [ska-mid-psi](https://gitlab.com/ska-telescope/ska-mid-psi) pipeline.\n",
    "* Taranta should be enabled in the deployment and the CSP.LMC Monitoring Dashboard can be used to monitor the relevant CSP.LMC and CBF devices.\n",
    "* A virtual environment is being used. This notebook was made with Python 3.10 in mind.\n",
    "* All requirements are installed via [poetry]().\n",
    "* The talon boards `TARGET_TALONS` are powered off."
   ]
  },
  {
   "cell_type": "markdown",
   "metadata": {},
   "source": [
    "## Execution Steps\n",
    "\n",
    "### Initial Parameter Set Up\n",
    "\n",
    "The parameters below (except for `TANGO_HOST`) may need to be updated to match your deployment, environment, and paths."
   ]
  },
  {
   "cell_type": "code",
   "execution_count": 2,
   "metadata": {},
   "outputs": [
    {
     "name": "stdout",
     "output_type": "stream",
     "text": [
      "Setting up parameters\n"
     ]
    }
   ],
   "source": [
    "import os, json\n",
    "\n",
    "print(\"Setting up parameters\")\n",
    "\n",
    "TARGET_TALONS = \"7,8\"\n",
    "NS = \"ci-ska-mid-psi-1224652103-jaredmda\"\n",
    "# BITE_MAC_ADDRESS = \"08:c0:eb:9d:47:78\"\n",
    "\n",
    "# TANGO HOST set up\n",
    "CLUSTER_DOMAIN = \"cluster.local\"\n",
    "TANGO_DB = \"databaseds-tango-base\"\n",
    "TANGO_HOST = f\"{TANGO_DB}.{NS}.svc.{CLUSTER_DOMAIN}:10000\"\n",
    "os.environ[\"TANGO_HOST\"] = TANGO_HOST\n",
    "\n",
    "# Config files set up\n",
    "# CONFIG_PATH = \"~/configs/4-receptor\"\n",
    "HW_CONFIG_FILE = \"../configs/common/hw_config/hw_config_swap_psi.yaml\"\n",
    "# DISH_CONFIG_FILE = \"load_dish_config.json\"\n",
    "INIT_SYS_PARAM_FILE = \"../configs/common/sys_params/initial_system_param.json\"\n",
    "# SLIM_CONFIG_FILE = \"fs_slim_4vcc_1fsp.yaml\"\n",
    "# ASSIGN_RESOURCES_FILE = \"assign_resources_tmc.json\"\n",
    "CONFIGURE_SCAN_FILE = \"configure_scan.json\"\n",
    "SPFRX_LOCAL_DIR = \"../configs/spfrx/mnt/spfrx-config\"\n",
    "SPFRX_RELEASE = \"0.2.0\"\n",
    "RAW_USER_ACCOUNT = \"\"\n",
    "RAW_USER_PASS = \"\"\n",
    "SPFRX_ADDRESS = \"192.168.8.200\"\n",
    "SPFRX_BIN = \"/usr/local/bin\"\n",
    "SPFRX_TANGO_INSTANCE = \"spfrx-20\"\n",
    "SPFRX_DEFAULT_LOGGING_LEVEL = 4\n",
    "# SCAN_FILE = \"scan.json\"\n",
    "# RELEASE_RESOURCES_FILE = \"release_resources.json\""
   ]
  },
  {
   "cell_type": "markdown",
   "metadata": {},
   "source": [
    "### Initial Set Up Using Engineering Console Deployer\n",
    "\n",
    "Engineering Console Deployer is used to generate the talondx-config file, download the necessary artifacts from CAR, and configure the database."
   ]
  },
  {
   "cell_type": "code",
   "execution_count": 3,
   "metadata": {},
   "outputs": [
    {
     "name": "stdout",
     "output_type": "stream",
     "text": [
      "Copying the HW config file to the CBF Controller pod\n",
      "error: ../configs/common/hw_config/hw_config_swap_psi.yaml doesn't exist in local filesystem\n",
      "\n",
      "Generating the talondx-config file for boards=7,8\n",
      "Error from server (NotFound): namespaces \"ci-ska-mid-psi-1212485592-jaredmda\" not found\n",
      "\n",
      "Downloading artifacts\n",
      "Error from server (NotFound): namespaces \"ci-ska-mid-psi-1212485592-jaredmda\" not found\n",
      "\n",
      "Configuring the TANGO database\n",
      "Error from server (NotFound): namespaces \"ci-ska-mid-psi-1212485592-jaredmda\" not found\n",
      "\n",
      "DONE\n"
     ]
    }
   ],
   "source": [
    "print(\"Copying the HW config file to the CBF Controller pod\")\n",
    "!kubectl cp {HW_CONFIG_FILE} {NS}/ds-cbfcontroller-controller-0:/app/mnt/hw_config/hw_config.yaml\n",
    "\n",
    "print(f\"\\nGenerating the talondx-config file for boards={TARGET_TALONS}\")\n",
    "!kubectl exec -ti -n {NS} ec-deployer -- python3 midcbf_deployer.py --generate-talondx-config --boards={TARGET_TALONS}\n",
    "\n",
    "print(\"\\nDownloading artifacts\")\n",
    "!kubectl exec -ti -n {NS} ec-deployer -- python3 midcbf_deployer.py --download-artifacts\n",
    "\n",
    "print(\"\\nConfiguring the TANGO database\")\n",
    "!kubectl exec -ti -n {NS} ec-deployer -- python3 midcbf_deployer.py --config-db\n",
    "\n",
    "print(\"\\nDONE\")"
   ]
  },
  {
   "cell_type": "markdown",
   "metadata": {},
   "source": [
    "### Set Up and Configure Device Proxies "
   ]
  },
  {
   "cell_type": "code",
   "execution_count": null,
   "metadata": {},
   "outputs": [],
   "source": [
    "from PyTango import DeviceProxy\n",
    "\n",
    "print(\"Setting up the device proxies\")\n",
    "\n",
    "## TMC proxies\n",
    "# tmc_central_node = DeviceProxy(\"ska_mid/tm_central/central_node\")\n",
    "# tmc_csp_master = DeviceProxy(\"ska_mid/tm_leaf_node/csp_master\")\n",
    "# tmc_csp_subarray = DeviceProxy(\"ska_mid/tm_leaf_node/csp_subarray01\")\n",
    "\n",
    "## CSP.LMC proxies\n",
    "csp_control = DeviceProxy(\"mid-csp/control/0\")\n",
    "csp_subarray= DeviceProxy(\"mid-csp/subarray/01\")\n",
    "\n",
    "## CBF proxies\n",
    "cbf_controller = DeviceProxy(\"mid_csp_cbf/sub_elt/controller\")\n",
    "cbf_subarray = DeviceProxy(\"mid_csp_cbf/sub_elt/subarray_01\")\n",
    "\n",
    "# Set devices to adminMode = ONLINE\n",
    "csp_control.adminMode = 0\n",
    "csp_subarray.adminMode = 0\n",
    "cbf_controller.adminMode = 0\n",
    "cbf_subarray.adminMode = 0\n",
    "\n",
    "print(\"\\nChecking admin mode after setting to ONLINE (0):\")\n",
    "print(f\"  CSP Control: {csp_control.adminMode}\")\n",
    "print(f\"  CSP Subarray: {csp_subarray.adminMode}\")\n",
    "print(f\"  CBF Controller: {cbf_controller.adminMode}\")\n",
    "print(f\"  CBF Subarray: {cbf_subarray.adminMode}\")\n",
    "\n",
    "# Set CBF Simulation mode to false and CBF timeout to 99s\n",
    "csp_control.simulationMode = 0\n",
    "cbf_controller.simulationMode = 0\n",
    "csp_control.commandTimeout = 99\n",
    "\n",
    "print(\"\\nChecking CBF Simulation Mode and CBF Timeout:\")\n",
    "print(f\"  CSP Control's CBF Simulation Mode: {bool(csp_control.simulationMode)}\")\n",
    "print(f\"  CBF Simulation Mode: {bool(cbf_controller.simulationMode)}\")\n",
    "print(f\"  CBF Timeout: {csp_control.commandTimeout} sec\")"
   ]
  },
  {
   "cell_type": "code",
   "execution_count": null,
   "metadata": {},
   "outputs": [],
   "source": [
    "print(\"Checking SPFRx status\\n If either of these pings fail, please see a system administrator\")\n",
    "\n",
    "#Pinging the clock\n",
    "!ping 192.168.74.2 -c 1\n",
    "#Pinging the SPF Surrogate\n",
    "!ping 192.168.74.8 -c 1\n",
    "\n",
    "#Stopping the RXPU incase it was already running\n",
    "!../configs/spfrx/spfrx-remote-stop.sh 192.168.8.200 /usr/local/bin\n",
    "\n",
    "print(\"Configuring SPFRx...\")\n",
    "\n",
    "#Generate SPFRx Config\n",
    "!docker run --rm --network host --volume /$SPFRX_LOCAL_DIR:/app/images/ska-mid-dish-spfrx-talondx-console-deploy/artifacts:rw artefact.skao.int/ska-mid-dish-spfrx-talondx-console-deploy:$SPFRX_RELEASE ./spfrx_deployer.py --generate-spfrx-config\n",
    "#Download Artifacts\n",
    "!mkdir -p /$SPFRX_LOCAL_DIR\n",
    "!docker run --rm --env RAW_USER_ACCOUNT=$RAW_USER_ACCOUNT --env RAW_USER_PASS=$RAW_USER_PASS --volume /$SPFRX_LOCAL_DIR:/app/images/ska-mid-dish-spfrx-talondx-console-deploy/artifacts:rw artefact.skao.int/ska-mid-dish-spfrx-talondx-console-deploy:$SPFRX_RELEASE ./spfrx_deployer.py --download-artifacts\n",
    "#Config DB\n",
    "\n",
    "!docker run --rm --network host --env TANGO_HOST=$TANGO_HOST --volume /$SPFRX_LOCAL_DIR:/app/images/ska-mid-dish-spfrx-talondx-console-deploy/artifacts:rw artefact.skao.int/ska-mid-dish-spfrx-talondx-console-deploy:$SPFRX_RELEASE ./spfrx_deployer.py --config-db\n",
    "print(\"Done!\")\n",
    "\n",
    "print(\"Starting SPFRx...\")\n",
    "!../configs/spfrx/spfrx-remote-start.sh $TANGO_HOST $SPFRX_ADDRESS $SPFRX_BIN $SPFRX_TANGO_INSTANCE $SPFRX_DEFAULT_LOGGING_LEVEL"
   ]
  },
  {
   "cell_type": "code",
   "execution_count": null,
   "metadata": {},
   "outputs": [],
   "source": []
  },
  {
   "cell_type": "markdown",
   "metadata": {},
   "source": [
    "### Load the Dish Vcc Config / Init Sys Params"
   ]
  },
  {
   "cell_type": "code",
   "execution_count": null,
   "metadata": {},
   "outputs": [],
   "source": [
    "with open(f\"{CONFIG_PATH}/{DISH_CONFIG_FILE}\") as f:\n",
    "    dish_config_json = f.read()\n",
    "\n",
    "tmc_central_node.LoadDishCfg(dish_config_json)\n",
    "\n",
    "print(f\"TMC CSP Master Dish Vcc Config: \\n{tmc_csp_master.dishVccConfig}\")\n",
    "print(f\"\\nTMC CSP Master Source Dish Vcc Config: \\n{tmc_csp_master.sourceDishVccConfig}\")\n",
    "\n",
    "with open(f\"{CONFIG_PATH}/{INIT_SYS_PARAM_FILE}\") as f:\n",
    "    cbf_init_sys_params_json = f.read()\n",
    "\n",
    "cbf_controller.InitSysParam(cbf_init_sys_params_json)\n",
    "\n",
    "print(f\"\\nCBF Init Sys Params: \\n{cbf_subarray.sysParam}\")"
   ]
  },
  {
   "cell_type": "markdown",
   "metadata": {},
   "source": [
    "### Configure CBF Controller with the SLIM config for 4-receptors"
   ]
  },
  {
   "cell_type": "code",
   "execution_count": null,
   "metadata": {},
   "outputs": [],
   "source": [
    "print(\"Copying the appropriate SLIM config for 4-receptors into the CBF Controller pod\")\n",
    "!kubectl exec -ti -n {NS} ds-cbfcontroller-controller-0 -- /bin/bash -c \"mkdir -p mnt/slim\"\n",
    "!kubectl cp {CONFIG_PATH}/{SLIM_CONFIG_FILE} {NS}/ds-cbfcontroller-controller-0:/app/mnt/slim/fs_slim_config.yaml"
   ]
  },
  {
   "cell_type": "markdown",
   "metadata": {},
   "source": [
    "### Turn the Telescope On"
   ]
  },
  {
   "cell_type": "code",
   "execution_count": null,
   "metadata": {},
   "outputs": [],
   "source": [
    "print(\"Running the TelescopeOn command\")\n",
    "tmc_central_node.TelescopeOn()\n",
    "\n",
    "print(\"Wait... \")\n",
    "\n",
    "# Monitor the kubectl logs for the CBF Controller\n",
    "!kubectl logs -n {NS} ds-cbfcontroller-controller-0 -f"
   ]
  },
  {
   "cell_type": "code",
   "execution_count": null,
   "metadata": {},
   "outputs": [],
   "source": [
    "print(\"Verifying the states:\")\n",
    "print(f\"  TMC Central Node State: {tmc_central_node.State()}\")\n",
    "print(f\"  CSP Control State: {csp_control.State()}\")\n",
    "print(f\"  CBF Controller State: {cbf_controller.State()}\")"
   ]
  },
  {
   "cell_type": "markdown",
   "metadata": {},
   "source": [
    "### Verify the Boards are On\n",
    "\n",
    "SSH into each of the `TARGET_TALONS` to ensure they started correctly and run a \"ps -ef\" command on the board to ensure that the lower level device server executables have been copied over and are running."
   ]
  },
  {
   "cell_type": "markdown",
   "metadata": {},
   "source": [
    "### Generate the BITE Data using Engineering Console Bite"
   ]
  },
  {
   "cell_type": "code",
   "execution_count": null,
   "metadata": {},
   "outputs": [],
   "source": [
    "print(\"Generating the BITE data\")\n",
    "!kubectl exec -ti -n {NS} ec-bite -- python3 midcbf_bite.py --talon-bite-config --boards={TARGET_TALONS} --bite_mac_address={BITE_MAC_ADDRESS}\n",
    "\n",
    "print(\"DONE\")"
   ]
  },
  {
   "cell_type": "markdown",
   "metadata": {},
   "source": [
    "### Monitor Visibilities Pod\n",
    "\n",
    "These steps should be done in a separate terminal to monitor the packets when replaying the BITE data command a bit below."
   ]
  },
  {
   "cell_type": "code",
   "execution_count": null,
   "metadata": {},
   "outputs": [],
   "source": [
    "# kubectl apply -f viz_pod.yaml\n",
    "# kubectl exec -ti sdn-dynamic-vis-1  -- bash\n",
    "# apt update && apt install -y iproute2 tcpdump\n",
    "# ip a \n",
    "\n",
    "# Update the IP in the Configure Scan to be the IP of the inet interface of the visibilities pod \n",
    "\n",
    "# tcpdump -i net1"
   ]
  },
  {
   "cell_type": "markdown",
   "metadata": {},
   "source": [
    "### Assign Resources"
   ]
  },
  {
   "cell_type": "code",
   "execution_count": null,
   "metadata": {},
   "outputs": [],
   "source": [
    "print(\"Running the AssignResources command: subarray obsstate should go to Idle and receptor IDs should be assigned\")\n",
    "\n",
    "with open(f\"{CONFIG_PATH}/{ASSIGN_RESOURCES_FILE}\") as f:\n",
    "    assign_resources_json = f.read()\n",
    "\n",
    "tmc_csp_subarray.AssignResources(assign_resources_json)\n",
    "\n",
    "print(f\"CBF Subarray Observation State: {cbf_subarray.obsState}\")\n",
    "print(f\"CBF Subarray Receptors : {cbf_subarray.receptors}\")"
   ]
  },
  {
   "cell_type": "markdown",
   "metadata": {},
   "source": [
    "### Configure Scan"
   ]
  },
  {
   "cell_type": "code",
   "execution_count": null,
   "metadata": {},
   "outputs": [],
   "source": [
    "print(\"Running the Configure command: subarray obsstate should go to Ready\")\n",
    "\n",
    "with open(f\"{CONFIG_PATH}/{CONFIGURE_SCAN_FILE}\") as f:\n",
    "    configure_scan_json = f.read()\n",
    "\n",
    "tmc_csp_subarray.Configure(configure_scan_json)\n",
    "\n",
    "print(f\"CBF Subarray Observation State: {cbf_subarray.obsState}\")"
   ]
  },
  {
   "cell_type": "markdown",
   "metadata": {},
   "source": [
    "### Replay the BITE Data using Engineering Console Bite"
   ]
  },
  {
   "cell_type": "code",
   "execution_count": null,
   "metadata": {},
   "outputs": [],
   "source": [
    "print(\"Replay the BITE Data\")\n",
    "\n",
    "!kubectl exec -ti -n {NS} ec-bite -- python3 midcbf_bite.py --talon-bite-lstv-replay --boards={TARGET_TALONS}\n",
    "\n",
    "print(\"DONE\")"
   ]
  },
  {
   "cell_type": "markdown",
   "metadata": {},
   "source": [
    "### Scan"
   ]
  },
  {
   "cell_type": "code",
   "execution_count": null,
   "metadata": {},
   "outputs": [],
   "source": [
    "print(\"Running the Scan command: subarray obsstate should go to Scanning\")\n",
    "\n",
    "with open(f\"{CONFIG_PATH}/{SCAN_FILE}\") as f:\n",
    "    scan_json = f.read()\n",
    "\n",
    "tmc_csp_subarray.Scan(scan_json)\n",
    "\n",
    "print(f\"CBF Subarray Observation State: {cbf_subarray.obsState}\")"
   ]
  },
  {
   "cell_type": "markdown",
   "metadata": {},
   "source": [
    "### Clean Up\n"
   ]
  },
  {
   "cell_type": "code",
   "execution_count": null,
   "metadata": {},
   "outputs": [],
   "source": [
    "print(\"Running the End Scan command: subarray obsstate should go to Ready state\")\n",
    "\n",
    "tmc_csp_subarray.EndScan()\n",
    "\n",
    "print(f\"CBF Subarray Observation State: {cbf_subarray.obsState}\")"
   ]
  },
  {
   "cell_type": "code",
   "execution_count": null,
   "metadata": {},
   "outputs": [],
   "source": [
    "print(\"Running the End command: subarray obsstate should go to Idle state\")\n",
    "\n",
    "tmc_csp_subarray.End()\n",
    "\n",
    "print(f\"CBF Subarray Observation State: {cbf_subarray.obsState}\")"
   ]
  },
  {
   "cell_type": "code",
   "execution_count": null,
   "metadata": {},
   "outputs": [],
   "source": [
    "print(\"Running the Release All Resources command: subarray obsstate should go to Empty state and receptor IDs should be empty\")\n",
    "\n",
    "tmc_csp_subarray.ReleaseAllResources()\n",
    "\n",
    "print(f\"CBF Subarray Observation State: {cbf_subarray.obsState}\")\n",
    "print(f\"CBF Subarray Receptors : {cbf_subarray.receptors}\")"
   ]
  },
  {
   "cell_type": "markdown",
   "metadata": {},
   "source": [
    "### Telescope Off"
   ]
  },
  {
   "cell_type": "code",
   "execution_count": null,
   "metadata": {},
   "outputs": [],
   "source": [
    "print(\"Running the TelescopeOff command\")\n",
    "\n",
    "tmc_central_node.TelescopeOff()\n",
    "\n",
    "print(f\"TMC Central Node State: {tmc_central_node.State()}\")\n",
    "print(f\"CSP Control State: {csp_control.State()}\")\n",
    "print(f\"CBF Controller State: {cbf_controller.State()}\")"
   ]
  }
 ],
 "metadata": {
  "kernelspec": {
   "display_name": "al_venv",
   "language": "python",
   "name": "python3"
  },
  "language_info": {
   "codemirror_mode": {
    "name": "ipython",
    "version": 3
   },
   "file_extension": ".py",
   "mimetype": "text/x-python",
   "name": "python",
   "nbconvert_exporter": "python",
   "pygments_lexer": "ipython3",
   "version": "3.10.13"
  }
 },
 "nbformat": 4,
 "nbformat_minor": 2
}
