{
 "cells": [
  {
   "cell_type": "markdown",
   "metadata": {},
   "source": [
    "# Auto Correlation with TMC, CSP.LMC, and CBF in the Mid PSI\n",
    "##### Last Updated: 20/03/24\n",
    "\n",
    "This demo will show the basic operation of a 4-receptor 200MHz correlation driven from TMC to CSP.LMC and CBF. With this notebook, all TANGO commands and attribute changes are made via a [TANGO DeviceProxy](https://pytango.readthedocs.io/en/stable/client_api/device_proxy.html) but the overall steps should be the same for using the JIVE interface or Taranta web interface."
   ]
  },
  {
   "cell_type": "markdown",
   "metadata": {},
   "source": [
    "### Pre-requisites\n",
    "\n",
    "This notebook has the following assumptions and pre-requisites:\n",
    "* A deployment that includes TMC, CSP.LMC, and CBF is running. For example, one in a namespace `NS` that was launched from the [ska-mid-psi](https://gitlab.com/ska-telescope/ska-mid-psi) pipeline.\n",
    "* Taranta should be enabled in the deployment and the CSP.LMC Monitoring Dashboard can be used to monitor the relevant CSP.LMC and CBF devices.\n",
    "* A virtual environment is being used. This notebook was made with Python 3.10 in mind.\n",
    "* All requirements are installed via [poetry]().\n",
    "* The talon boards `TARGET_TALONS` are powered off."
   ]
  },
  {
   "cell_type": "markdown",
   "metadata": {},
   "source": [
    "## Execution Steps\n",
    "\n",
    "### Initial Parameter Set Up\n",
    "\n",
    "The parameters below (except for `TANGO_HOST`) may need to be updated to match your deployment, environment, and paths."
   ]
  },
  {
   "cell_type": "code",
   "execution_count": null,
   "metadata": {},
   "outputs": [
    {
     "ename": "",
     "evalue": "",
     "output_type": "error",
     "traceback": [
      "\u001b[1;31mRunning cells with '/usr/bin/python3.10' requires the ipykernel package.\n",
      "\u001b[1;31mRun the following command to install 'ipykernel' into the Python environment. \n",
      "\u001b[1;31mCommand: '/usr/bin/python3.10 -m pip install ipykernel -U --user --force-reinstall'"
     ]
    }
   ],
   "source": [
    "import os, json\n",
    "\n",
    "print(\"Setting up parameters\")\n",
    "\n",
    "TARGET_TALONS = \"1,2,3,4\"\n",
    "NS = \"ci-ska-mid-psi-1221142209-maecst\"\n",
    "BITE_MAC_ADDRESS = \"08:c0:eb:9d:47:78\"\n",
    "\n",
    "# TANGO HOST set up\n",
    "CLUSTER_DOMAIN = \"cluster.local\"\n",
    "TANGO_DB = \"databaseds-tango-base\"\n",
    "TANGO_HOST = f\"{TANGO_DB}.{NS}.svc.{CLUSTER_DOMAIN}:10000\"\n",
    "os.environ[\"TANGO_HOST\"] = TANGO_HOST\n",
    "\n",
    "# Config files set up\n",
    "CONFIG_PATH = \"~/configs/4-receptor\"\n",
    "HW_CONFIG_FILE = \"hw_config.yaml\"\n",
    "DISH_CONFIG_FILE = \"load_dish_config.json\"\n",
    "INIT_SYS_PARAM_FILE = \"initial_system_param.json\"\n",
    "SLIM_CONFIG_FILE = \"fs_slim_4vcc_1fsp.yaml\"\n",
    "ASSIGN_RESOURCES_FILE = \"assign_resources_tmc.json\"\n",
    "CONFIGURE_SCAN_FILE = \"configure_scan.json\"\n",
    "SCAN_FILE = \"scan.json\"\n",
    "RELEASE_RESOURCES_FILE = \"release_resources.json\""
   ]
  },
  {
   "cell_type": "markdown",
   "metadata": {},
   "source": [
    "### Initial Set Up Using Engineering Console Deployer\n",
    "\n",
    "Engineering Console Deployer is used to generate the talondx-config file, download the necessary artifacts from CAR, and configure the database."
   ]
  },
  {
   "cell_type": "code",
   "execution_count": null,
   "metadata": {},
   "outputs": [],
   "source": [
    "print(\"Copying the HW config file to the CBF Controller pod\")\n",
    "!kubectl cp ~/git/console/ext_config/{HW_CONFIG_FILE} {NS}/ds-cbfcontroller-controller-0:/app/mnt/hw_config/hw_config.yaml\n",
    "\n",
    "print(f\"\\nGenerating the talondx-config file for boards={TARGET_TALONS}\")\n",
    "!kubectl exec -ti -n {NS} ec-deployer -- python3 midcbf_deployer.py --generate-talondx-config --boards={TARGET_TALONS}\n",
    "\n",
    "print(\"\\nDownloading artifacts\")\n",
    "!kubectl exec -ti -n {NS} ec-deployer -- python3 midcbf_deployer.py --download-artifacts\n",
    "\n",
    "print(\"\\nConfiguring the TANGO database\")\n",
    "!kubectl exec -ti -n {NS} ec-deployer -- python3 midcbf_deployer.py --config-db\n",
    "\n",
    "print(\"\\nDONE\")"
   ]
  },
  {
   "cell_type": "markdown",
   "metadata": {},
   "source": [
    "### Set Up and Configure Device Proxies "
   ]
  },
  {
   "cell_type": "code",
   "execution_count": 17,
   "metadata": {},
   "outputs": [
    {
     "name": "stdout",
     "output_type": "stream",
     "text": [
      "Setting up the device proxies\n",
      "\n",
      "Checking admin mode after setting to ONLINE (0):\n",
      "  CSP Control: 0\n",
      "  CSP Subarray: 0\n",
      "  CBF Controller: 0\n",
      "  CBF Subarray: 0\n",
      "\n",
      "Checking CBF Simulation Mode and CBF Timeout:\n",
      "  CSP Control's CBF Simulation Mode: False\n",
      "  CBF Simulation Mode: False\n",
      "  CBF Timeout: 99 sec\n"
     ]
    }
   ],
   "source": [
    "from PyTango import DeviceProxy\n",
    "\n",
    "print(\"Setting up the device proxies\")\n",
    "\n",
    "## TMC proxies\n",
    "tmc_central_node = DeviceProxy(\"ska_mid/tm_central/central_node\")\n",
    "tmc_csp_master = DeviceProxy(\"ska_mid/tm_leaf_node/csp_master\")\n",
    "tmc_csp_subarray = DeviceProxy(\"ska_mid/tm_leaf_node/csp_subarray01\")\n",
    "\n",
    "## CSP.LMC proxies\n",
    "csp_control = DeviceProxy(\"mid-csp/control/0\")\n",
    "csp_subarray= DeviceProxy(\"mid-csp/subarray/01\")\n",
    "\n",
    "## CBF proxies\n",
    "cbf_controller = DeviceProxy(\"mid_csp_cbf/sub_elt/controller\")\n",
    "cbf_subarray = DeviceProxy(\"mid_csp_cbf/sub_elt/subarray_01\")\n",
    "\n",
    "# Set devices to adminMode = ONLINE\n",
    "csp_control.adminMode = 0\n",
    "csp_subarray.adminMode = 0\n",
    "cbf_controller.adminMode = 0\n",
    "cbf_subarray.adminMode = 0\n",
    "\n",
    "print(\"\\nChecking admin mode after setting to ONLINE (0):\")\n",
    "print(f\"  CSP Control: {csp_control.adminMode}\")\n",
    "print(f\"  CSP Subarray: {csp_subarray.adminMode}\")\n",
    "print(f\"  CBF Controller: {cbf_controller.adminMode}\")\n",
    "print(f\"  CBF Subarray: {cbf_subarray.adminMode}\")\n",
    "\n",
    "# Set CBF Simulation mode to false and CBF timeout to 99s\n",
    "csp_control.simulationMode = 0\n",
    "cbf_controller.simulationMode = 0\n",
    "csp_control.commandTimeout = 99\n",
    "\n",
    "print(\"\\nChecking CBF Simulation Mode and CBF Timeout:\")\n",
    "print(f\"  CSP Control's CBF Simulation Mode: {bool(csp_control.simulationMode)}\")\n",
    "print(f\"  CBF Simulation Mode: {bool(cbf_controller.simulationMode)}\")\n",
    "print(f\"  CBF Timeout: {csp_control.commandTimeout} sec\")"
   ]
  },
  {
   "cell_type": "markdown",
   "metadata": {},
   "source": [
    "### Load the Dish Vcc Config / Init Sys Params"
   ]
  },
  {
   "cell_type": "code",
   "execution_count": 21,
   "metadata": {},
   "outputs": [
    {
     "name": "stdout",
     "output_type": "stream",
     "text": [
      "TMC CSP Master Dish Vcc Config: \n",
      "{\"interface\": \"https://schema.skao.int/ska-mid-cbf-initsysparam/1.0\", \"dish_parameters\": {\"SKA001\": {\"vcc\": 1, \"k\": 119}, \"SKA036\": {\"vcc\": 2, \"k\": 1127}, \"SKA063\": {\"vcc\": 3, \"k\": 620}, \"SKA100\": {\"vcc\": 4, \"k\": 101}}}\n",
      "\n",
      "TMC CSP Master Source Dish Vcc Config: \n",
      "{\"interface\": \"https://schema.skao.int/ska-mid-cbf-initsysparam/1.0\", \"tm_data_sources\": [\"car://gitlab.com/ska-telescope/ska-telmodel-data?ska-sdp-tmlite-repository-1.0.0#tmdata\"], \"tm_data_filepath\": \"instrument/ska1_mid_psi/ska-mid-cbf-system-parameters.json\"}\n",
      "['buildState', 'versionId', 'loggingLevel', 'loggingTargets', 'healthState', 'adminMode', 'controlMode', 'simulationMode', 'testMode', 'longRunningCommandsInQueue', 'longRunningCommandIDsInQueue', 'longRunningCommandStatus', 'longRunningCommandProgress', 'longRunningCommandResult', 'isSubsystemAvailable', 'sourceDishVccConfig', 'dishVccConfig', 'memorizedDishVccMap', 'cspMasterDevName', 'State', 'Status']\n",
      "\n",
      "CBF Init Sys Params: \n",
      "{\n",
      "\t\"interface\": \"https://schema.skao.int/ska-mid-cbf-initsysparam/1.0\",\n",
      "\t\"dish_parameters\": {\n",
      "\t\t\"SKA001\": {\n",
      "\t\t\t\"vcc\": 1,\n",
      "\t\t\t\"k\"\t : 100\n",
      "\t\t},\n",
      "\t\t\"SKA036\": {\n",
      "\t\t\t\"vcc\": 2,\n",
      "\t\t\t\"k\"\t : 618\n",
      "\t\t},\n",
      "\t\t\"SKA063\": {\n",
      "\t\t\t\"vcc\": 3,\n",
      "\t\t\t\"k\"\t : 1220\n",
      "\t\t},\n",
      "\t\t\"SKA100\": {\n",
      "\t\t\t\"vcc\": 4,\n",
      "\t\t\t\"k\"\t : 1815\n",
      "\t\t}\n",
      "\t}\n",
      "}\n"
     ]
    }
   ],
   "source": [
    "with open(f\"{CONFIG_PATH}/{DISH_CONFIG_FILE}\") as f:\n",
    "    dish_config_json = f.read()\n",
    "\n",
    "tmc_central_node.LoadDishCfg(dish_config_json)\n",
    "\n",
    "print(f\"TMC CSP Master Dish Vcc Config: \\n{tmc_csp_master.dishVccConfig}\")\n",
    "print(f\"\\nTMC CSP Master Source Dish Vcc Config: \\n{tmc_csp_master.sourceDishVccConfig}\")\n",
    "\n",
    "with open(f\"{CONFIG_PATH}/{INIT_SYS_PARAM_FILE}\") as f:\n",
    "    cbf_init_sys_params_json = f.read()\n",
    "\n",
    "cbf_controller.InitSysParam(cbf_init_sys_params_json)\n",
    "\n",
    "print(f\"\\nCBF Init Sys Params: \\n{cbf_subarray.sysParam}\")"
   ]
  },
  {
   "cell_type": "markdown",
   "metadata": {},
   "source": [
    "### Configure CBF Controller with the SLIM config for 4-receptors"
   ]
  },
  {
   "cell_type": "code",
   "execution_count": 5,
   "metadata": {},
   "outputs": [
    {
     "name": "stderr",
     "output_type": "stream",
     "text": [
      "Unable to use a TTY - input is not a terminal or the right kind of file\n"
     ]
    },
    {
     "data": {
      "text/plain": [
       "0"
      ]
     },
     "execution_count": 5,
     "metadata": {},
     "output_type": "execute_result"
    }
   ],
   "source": [
    "print(\"Copying the appropriate SLIM config for 4-receptors into the CBF Controller pod\")\n",
    "!kubectl exec -ti -n {NS} ds-cbfcontroller-controller-0 -- /bin/bash -c \"mkdir -p mnt/slim\"\n",
    "!kubectl cp {CONFIG_PATH}/{SLIM_CONFIG_FILE} {NS}/ds-cbfcontroller-controller-0:/app/mnt/slim/fs_slim_config.yaml"
   ]
  },
  {
   "cell_type": "markdown",
   "metadata": {},
   "source": [
    "### Turn the Telescope On"
   ]
  },
  {
   "cell_type": "code",
   "execution_count": 10,
   "metadata": {},
   "outputs": [
    {
     "data": {
      "text/plain": [
       "tango._tango.DevState.ON"
      ]
     },
     "execution_count": 10,
     "metadata": {},
     "output_type": "execute_result"
    }
   ],
   "source": [
    "print(\"Running the TelescopeOn command\")\n",
    "tmc_central_node.TelescopeOn()\n",
    "\n",
    "print(\"Wait... \")\n",
    "\n",
    "# Monitor the kubectl logs for the CBF Controller\n",
    "!kubectl logs -n {NS} ds-cbfcontroller-controller-0 -f"
   ]
  },
  {
   "cell_type": "code",
   "execution_count": 27,
   "metadata": {},
   "outputs": [
    {
     "name": "stdout",
     "output_type": "stream",
     "text": [
      "Verifying the states:\n",
      "  TMC Central Node State: ON\n",
      "  CSP Control State: OFF\n",
      "  CBF Controller State: OFF\n"
     ]
    }
   ],
   "source": [
    "print(\"Verifying the states:\")\n",
    "print(f\"  TMC Central Node State: {tmc_central_node.State()}\")\n",
    "print(f\"  CSP Control State: {csp_control.State()}\")\n",
    "print(f\"  CBF Controller State: {cbf_controller.State()}\")"
   ]
  },
  {
   "cell_type": "markdown",
   "metadata": {},
   "source": [
    "### Verify the Boards are On\n",
    "\n",
    "SSH into each of the `TARGET_TALONS` to ensure they started correctly and run a \"ps -ef\" command on the board to ensure that the lower level device server executables have been copied over and are running."
   ]
  },
  {
   "cell_type": "markdown",
   "metadata": {},
   "source": [
    "### Generate the BITE Data using Engineering Console Bite"
   ]
  },
  {
   "cell_type": "code",
   "execution_count": null,
   "metadata": {},
   "outputs": [],
   "source": [
    "print(\"Generating the BITE data\")\n",
    "!kubectl exec -ti -n {NS} ec-bite -- python3 midcbf_bite.py --talon-bite-config --boards={TARGET_TALONS} --bite_mac_address={BITE_MAC_ADDRESS}\n",
    "\n",
    "print(\"DONE\")"
   ]
  },
  {
   "cell_type": "markdown",
   "metadata": {},
   "source": [
    "### Monitor Visibilities Pod\n",
    "\n",
    "These steps should be done in a separate terminal to monitor the packets when replaying the BITE data command a bit below."
   ]
  },
  {
   "cell_type": "code",
   "execution_count": null,
   "metadata": {},
   "outputs": [],
   "source": [
    "# kubectl apply -f viz_pod.yaml\n",
    "# kubectl exec -ti sdn-dynamic-vis-1  -- bash\n",
    "# apt update && apt install -y iproute2 tcpdump\n",
    "# ip a \n",
    "\n",
    "# Update the IP in the Configure Scan to be the IP of the inet interface of the visibilities pod \n",
    "\n",
    "# tcpdump -i net1"
   ]
  },
  {
   "cell_type": "markdown",
   "metadata": {},
   "source": [
    "### Assign Resources"
   ]
  },
  {
   "cell_type": "code",
   "execution_count": 22,
   "metadata": {},
   "outputs": [
    {
     "name": "stdout",
     "output_type": "stream",
     "text": [
      "CBF Subarray Observation State: 2\n",
      "CBF Subarray Receptors : ('SKA001', 'SKA036', 'SKA063', 'SKA100')\n"
     ]
    }
   ],
   "source": [
    "print(\"Running the AssignResources command: subarray obsstate should go to Idle and receptor IDs should be assigned\")\n",
    "\n",
    "with open(f\"{CONFIG_PATH}/{ASSIGN_RESOURCES_FILE}\") as f:\n",
    "    assign_resources_json = f.read()\n",
    "\n",
    "tmc_csp_subarray.AssignResources(assign_resources_json)\n",
    "\n",
    "print(f\"CBF Subarray Observation State: {cbf_subarray.obsState}\")\n",
    "print(f\"CBF Subarray Receptors : {cbf_subarray.receptors}\")"
   ]
  },
  {
   "cell_type": "markdown",
   "metadata": {},
   "source": [
    "### Configure Scan"
   ]
  },
  {
   "cell_type": "code",
   "execution_count": 23,
   "metadata": {},
   "outputs": [
    {
     "name": "stdout",
     "output_type": "stream",
     "text": [
      "CBF Subarray Observation State: 2\n"
     ]
    }
   ],
   "source": [
    "print(\"Running the Configure command: subarray obsstate should go to Ready\")\n",
    "\n",
    "with open(f\"{CONFIG_PATH}/{CONFIGURE_SCAN_FILE}\") as f:\n",
    "    configure_scan_json = f.read()\n",
    "\n",
    "tmc_csp_subarray.Configure(configure_scan_json)\n",
    "\n",
    "print(f\"CBF Subarray Observation State: {cbf_subarray.obsState}\")"
   ]
  },
  {
   "cell_type": "markdown",
   "metadata": {},
   "source": [
    "### Replay the BITE Data using Engineering Console Bite"
   ]
  },
  {
   "cell_type": "code",
   "execution_count": null,
   "metadata": {},
   "outputs": [],
   "source": [
    "print(\"Replay the BITE Data\")\n",
    "\n",
    "!kubectl exec -ti -n {NS} ec-bite -- python3 midcbf_bite.py --talon-bite-lstv-replay --boards={TARGET_TALONS}\n",
    "\n",
    "print(\"DONE\")"
   ]
  },
  {
   "cell_type": "markdown",
   "metadata": {},
   "source": [
    "### Scan"
   ]
  },
  {
   "cell_type": "code",
   "execution_count": 25,
   "metadata": {},
   "outputs": [
    {
     "name": "stdout",
     "output_type": "stream",
     "text": [
      "CBF Subarray Observation State: 4\n"
     ]
    }
   ],
   "source": [
    "print(\"Running the Scan command: subarray obsstate should go to Scanning\")\n",
    "\n",
    "with open(f\"{CONFIG_PATH}/{SCAN_FILE}\") as f:\n",
    "    scan_json = f.read()\n",
    "\n",
    "tmc_csp_subarray.Scan(scan_json)\n",
    "\n",
    "print(f\"CBF Subarray Observation State: {cbf_subarray.obsState}\")"
   ]
  },
  {
   "cell_type": "markdown",
   "metadata": {},
   "source": [
    "### Clean Up\n"
   ]
  },
  {
   "cell_type": "code",
   "execution_count": 26,
   "metadata": {},
   "outputs": [
    {
     "name": "stdout",
     "output_type": "stream",
     "text": [
      "CBF Subarray Observation State: 5\n"
     ]
    }
   ],
   "source": [
    "print(\"Running the End Scan command: subarray obsstate should go to Ready state\")\n",
    "\n",
    "tmc_csp_subarray.EndScan()\n",
    "\n",
    "print(f\"CBF Subarray Observation State: {cbf_subarray.obsState}\")"
   ]
  },
  {
   "cell_type": "code",
   "execution_count": 27,
   "metadata": {},
   "outputs": [
    {
     "name": "stdout",
     "output_type": "stream",
     "text": [
      "CBF Subarray Observation State: 4\n"
     ]
    }
   ],
   "source": [
    "print(\"Running the End command: subarray obsstate should go to Idle state\")\n",
    "\n",
    "tmc_csp_subarray.End()\n",
    "\n",
    "print(f\"CBF Subarray Observation State: {cbf_subarray.obsState}\")"
   ]
  },
  {
   "cell_type": "code",
   "execution_count": 29,
   "metadata": {},
   "outputs": [
    {
     "name": "stdout",
     "output_type": "stream",
     "text": [
      "CBF Subarray Observation State: 2\n",
      "CBF Subarray Receptors : ('SKA001', 'SKA036', 'SKA063', 'SKA100')\n"
     ]
    }
   ],
   "source": [
    "print(\"Running the Release All Resources command: subarray obsstate should go to Empty state and receptor IDs should be empty\")\n",
    "\n",
    "tmc_csp_subarray.ReleaseAllResources()\n",
    "\n",
    "print(f\"CBF Subarray Observation State: {cbf_subarray.obsState}\")\n",
    "print(f\"CBF Subarray Receptors : {cbf_subarray.receptors}\")"
   ]
  },
  {
   "cell_type": "markdown",
   "metadata": {},
   "source": [
    "### Telescope Off"
   ]
  },
  {
   "cell_type": "code",
   "execution_count": 25,
   "metadata": {},
   "outputs": [
    {
     "name": "stdout",
     "output_type": "stream",
     "text": [
      "TMC Central Node State: ON\n",
      "CSP Control State: OFF\n",
      "CBF Controller State: OFF\n"
     ]
    }
   ],
   "source": [
    "print(\"Running the TelescopeOff command\")\n",
    "\n",
    "tmc_central_node.TelescopeOff()\n",
    "\n",
    "print(f\"TMC Central Node State: {tmc_central_node.State()}\")\n",
    "print(f\"CSP Control State: {csp_control.State()}\")\n",
    "print(f\"CBF Controller State: {cbf_controller.State()}\")"
   ]
  }
 ],
 "metadata": {
  "kernelspec": {
   "display_name": "al_venv",
   "language": "python",
   "name": "python3"
  },
  "language_info": {
   "codemirror_mode": {
    "name": "ipython",
    "version": 3
   },
   "file_extension": ".py",
   "mimetype": "text/x-python",
   "name": "python",
   "nbconvert_exporter": "python",
   "pygments_lexer": "ipython3",
   "version": "3.10.13"
  }
 },
 "nbformat": 4,
 "nbformat_minor": 2
}
